{
 "cells": [
  {
   "cell_type": "code",
   "execution_count": 2,
   "id": "43266452-389e-4408-9d10-706caf57068a",
   "metadata": {},
   "outputs": [],
   "source": [
    "import pandas as pd\n",
    "import numpy as np"
   ]
  },
  {
   "cell_type": "code",
   "execution_count": 24,
   "id": "c6df35c4-3d29-4149-b576-a3808fef016c",
   "metadata": {},
   "outputs": [
    {
     "data": {
      "text/html": [
       "<div>\n",
       "<style scoped>\n",
       "    .dataframe tbody tr th:only-of-type {\n",
       "        vertical-align: middle;\n",
       "    }\n",
       "\n",
       "    .dataframe tbody tr th {\n",
       "        vertical-align: top;\n",
       "    }\n",
       "\n",
       "    .dataframe thead th {\n",
       "        text-align: right;\n",
       "    }\n",
       "</style>\n",
       "<table border=\"1\" class=\"dataframe\">\n",
       "  <thead>\n",
       "    <tr style=\"text-align: right;\">\n",
       "      <th></th>\n",
       "      <th>species</th>\n",
       "      <th>population</th>\n",
       "      <th>location</th>\n",
       "    </tr>\n",
       "  </thead>\n",
       "  <tbody>\n",
       "    <tr>\n",
       "      <th>panda</th>\n",
       "      <td>bear</td>\n",
       "      <td>1864</td>\n",
       "      <td>Africa</td>\n",
       "    </tr>\n",
       "    <tr>\n",
       "      <th>polar</th>\n",
       "      <td>bear</td>\n",
       "      <td>22000</td>\n",
       "      <td>US</td>\n",
       "    </tr>\n",
       "    <tr>\n",
       "      <th>koala</th>\n",
       "      <td>marsupial</td>\n",
       "      <td>80000</td>\n",
       "      <td>Asia</td>\n",
       "    </tr>\n",
       "  </tbody>\n",
       "</table>\n",
       "</div>"
      ],
      "text/plain": [
       "         species  population location\n",
       "panda       bear        1864   Africa\n",
       "polar       bear       22000       US\n",
       "koala  marsupial       80000     Asia"
      ]
     },
     "execution_count": 24,
     "metadata": {},
     "output_type": "execute_result"
    }
   ],
   "source": [
    "df = pd.DataFrame(\n",
    "    {\n",
    "        'species': ['bear', 'bear', 'marsupial'],\n",
    "        'population': [1864, 22000, 80000],\n",
    "         'location': ['Africa', 'US', 'Asia']\n",
    "    },\n",
    "index=['panda', 'polar', 'koala'])\n",
    "df"
   ]
  },
  {
   "cell_type": "code",
   "execution_count": 25,
   "id": "069dba14-4b58-4275-b60e-4286f8d2dbb4",
   "metadata": {},
   "outputs": [
    {
     "name": "stdout",
     "output_type": "stream",
     "text": [
      "label: species\n",
      "content: panda         bear\n",
      "polar         bear\n",
      "koala    marsupial\n",
      "Name: species, dtype: object\n",
      "label: population\n",
      "content: panda     1864\n",
      "polar    22000\n",
      "koala    80000\n",
      "Name: population, dtype: int64\n",
      "label: location\n",
      "content: panda    Africa\n",
      "polar        US\n",
      "koala      Asia\n",
      "Name: location, dtype: object\n"
     ]
    }
   ],
   "source": [
    "for label, content in df.items():\n",
    "    print(f'label: {label}')\n",
    "    print(f'content: {content}', sep='\\n')"
   ]
  },
  {
   "cell_type": "code",
   "execution_count": 26,
   "id": "d51ae6f4-fc56-4b8d-9964-f6b3c43d2f6e",
   "metadata": {},
   "outputs": [],
   "source": [
    "val = df.items()"
   ]
  },
  {
   "cell_type": "code",
   "execution_count": 27,
   "id": "9a9f660f-693f-48bc-a6d9-61f3f73a9474",
   "metadata": {},
   "outputs": [
    {
     "data": {
      "text/plain": [
       "('species',\n",
       " panda         bear\n",
       " polar         bear\n",
       " koala    marsupial\n",
       " Name: species, dtype: object)"
      ]
     },
     "execution_count": 27,
     "metadata": {},
     "output_type": "execute_result"
    }
   ],
   "source": [
    "next(val)  #pull all indexes and first column"
   ]
  },
  {
   "cell_type": "code",
   "execution_count": 28,
   "id": "87007912-6723-4da1-9ba0-75b02b2a19a9",
   "metadata": {},
   "outputs": [
    {
     "data": {
      "text/plain": [
       "('population',\n",
       " panda     1864\n",
       " polar    22000\n",
       " koala    80000\n",
       " Name: population, dtype: int64)"
      ]
     },
     "execution_count": 28,
     "metadata": {},
     "output_type": "execute_result"
    }
   ],
   "source": [
    "next(val)  #pull all indexes and second column"
   ]
  },
  {
   "cell_type": "code",
   "execution_count": 29,
   "id": "7cd97082-4401-4cbc-b39a-85e92c352d20",
   "metadata": {},
   "outputs": [
    {
     "data": {
      "text/plain": [
       "('location',\n",
       " panda    Africa\n",
       " polar        US\n",
       " koala      Asia\n",
       " Name: location, dtype: object)"
      ]
     },
     "execution_count": 29,
     "metadata": {},
     "output_type": "execute_result"
    }
   ],
   "source": [
    "next(val)  #pull all indexes and second column"
   ]
  },
  {
   "cell_type": "code",
   "execution_count": null,
   "id": "e772aa1b-7280-4680-a8a3-2cc383a6d67f",
   "metadata": {},
   "outputs": [],
   "source": []
  }
 ],
 "metadata": {
  "kernelspec": {
   "display_name": "Python 3 (ipykernel)",
   "language": "python",
   "name": "python3"
  },
  "language_info": {
   "codemirror_mode": {
    "name": "ipython",
    "version": 3
   },
   "file_extension": ".py",
   "mimetype": "text/x-python",
   "name": "python",
   "nbconvert_exporter": "python",
   "pygments_lexer": "ipython3",
   "version": "3.10.0"
  }
 },
 "nbformat": 4,
 "nbformat_minor": 5
}
