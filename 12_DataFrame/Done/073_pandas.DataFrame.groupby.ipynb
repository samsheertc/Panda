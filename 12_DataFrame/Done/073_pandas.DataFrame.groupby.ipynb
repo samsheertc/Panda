{
 "cells": [
  {
   "cell_type": "code",
   "execution_count": 2,
   "id": "43266452-389e-4408-9d10-706caf57068a",
   "metadata": {},
   "outputs": [],
   "source": [
    "import pandas as pd\n",
    "import numpy as np"
   ]
  },
  {
   "cell_type": "code",
   "execution_count": null,
   "id": "e772aa1b-7280-4680-a8a3-2cc383a6d67f",
   "metadata": {},
   "outputs": [],
   "source": [
    "DataFrame.groupby(\n",
    "    by=None,\n",
    "    axis=<no_default>,\n",
    "    level=None,\n",
    "    as_index=True,\n",
    "    sort=True,\n",
    "    group_keys=True,\n",
    "    observed=<no_default>,\n",
    "    dropna=True)\n",
    "\n",
    "by  : mapping, function, label, pd.Grouper or list of such\n",
    "Used to determine the groups for the groupby. If by is a function, it’s called on each value of the object’s index. \n",
    "If a dict or Series is passed, the Series or dict VALUES will be used to determine the groups (the Series’ values are first aligned; see .align() method).\n",
    "If a list or ndarray of length equal to the selected axis is passed (see the groupby user guide), the values are used as-is to determine the groups.\n",
    "A label or list of labels may be passed to group by the columns in self. Notice that a tuple is interpreted as a (single) key.\n",
    "\n",
    "axis: {0 or ‘index’, 1 or ‘columns’}, default 0\n",
    "\n",
    "group_keys : bool, default True\n",
    "When calling apply and the by argument produces a like-indexed (i.e. a transform) result, add group keys to index to identify pieces. \n",
    "By default group keys are not included when the result’s index (and column) labels match the inputs, and are included otherwise."
   ]
  }
 ],
 "metadata": {
  "kernelspec": {
   "display_name": "Python 3 (ipykernel)",
   "language": "python",
   "name": "python3"
  },
  "language_info": {
   "codemirror_mode": {
    "name": "ipython",
    "version": 3
   },
   "file_extension": ".py",
   "mimetype": "text/x-python",
   "name": "python",
   "nbconvert_exporter": "python",
   "pygments_lexer": "ipython3",
   "version": "3.10.0"
  }
 },
 "nbformat": 4,
 "nbformat_minor": 5
}
