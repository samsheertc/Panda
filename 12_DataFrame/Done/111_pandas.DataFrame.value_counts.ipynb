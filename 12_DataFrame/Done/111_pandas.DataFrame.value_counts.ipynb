{
 "cells": [
  {
   "cell_type": "code",
   "execution_count": 6,
   "id": "43266452-389e-4408-9d10-706caf57068a",
   "metadata": {},
   "outputs": [],
   "source": [
    "import pandas as pd\n",
    "import numpy as np"
   ]
  },
  {
   "cell_type": "code",
   "execution_count": null,
   "id": "e772aa1b-7280-4680-a8a3-2cc383a6d67f",
   "metadata": {},
   "outputs": [],
   "source": [
    "pandas.DataFrame.value_counts\n",
    "\n",
    "DataFrame.value_counts(subset=None, normalize=False, sort=True, ascending=False, dropna=True)\n",
    "\n",
    "Return a Series containing the frequency of each distinct row in the Dataframe.\n",
    "\n",
    "subset : label or list of labels, optional\n",
    "         Columns to use when counting unique combinations.\n",
    "\n",
    "normalize: bool, default False\n",
    "           Return proportions rather than frequencies.\n",
    "\n",
    "sort  : bool, default True\n",
    "        Sort by frequencies when True. Sort by DataFrame column values when False.\n",
    "\n",
    "ascending :bool, default False\n",
    "           Sort in ascending order.\n",
    "\n",
    "dropna : bool, default True\n",
    "          Don’t include counts of rows that contain NA values."
   ]
  },
  {
   "cell_type": "code",
   "execution_count": 99,
   "id": "b15fea90-5089-4c10-bc5b-9cd257880837",
   "metadata": {},
   "outputs": [
    {
     "data": {
      "text/html": [
       "<div>\n",
       "<style scoped>\n",
       "    .dataframe tbody tr th:only-of-type {\n",
       "        vertical-align: middle;\n",
       "    }\n",
       "\n",
       "    .dataframe tbody tr th {\n",
       "        vertical-align: top;\n",
       "    }\n",
       "\n",
       "    .dataframe thead th {\n",
       "        text-align: right;\n",
       "    }\n",
       "</style>\n",
       "<table border=\"1\" class=\"dataframe\">\n",
       "  <thead>\n",
       "    <tr style=\"text-align: right;\">\n",
       "      <th></th>\n",
       "      <th>num_legs</th>\n",
       "      <th>num_wings</th>\n",
       "    </tr>\n",
       "  </thead>\n",
       "  <tbody>\n",
       "    <tr>\n",
       "      <th>falcon</th>\n",
       "      <td>2</td>\n",
       "      <td>2</td>\n",
       "    </tr>\n",
       "    <tr>\n",
       "      <th>dog</th>\n",
       "      <td>4</td>\n",
       "      <td>0</td>\n",
       "    </tr>\n",
       "    <tr>\n",
       "      <th>cat</th>\n",
       "      <td>4</td>\n",
       "      <td>0</td>\n",
       "    </tr>\n",
       "    <tr>\n",
       "      <th>ant</th>\n",
       "      <td>6</td>\n",
       "      <td>0</td>\n",
       "    </tr>\n",
       "  </tbody>\n",
       "</table>\n",
       "</div>"
      ],
      "text/plain": [
       "        num_legs  num_wings\n",
       "falcon         2          2\n",
       "dog            4          0\n",
       "cat            4          0\n",
       "ant            6          0"
      ]
     },
     "execution_count": 99,
     "metadata": {},
     "output_type": "execute_result"
    }
   ],
   "source": [
    "df = pd.DataFrame({'num_legs': [2, 4, 4, 6],\n",
    "                   'num_wings': [2, 0, 0, 0]},\n",
    "                  index=['falcon', 'dog', 'cat', 'ant'])\n",
    "df"
   ]
  },
  {
   "cell_type": "code",
   "execution_count": 100,
   "id": "6c12cb85-84de-41fe-a65b-bed26ced65d3",
   "metadata": {},
   "outputs": [
    {
     "data": {
      "text/plain": [
       "num_legs  num_wings\n",
       "4         0            2\n",
       "2         2            1\n",
       "6         0            1\n",
       "Name: count, dtype: int64"
      ]
     },
     "execution_count": 100,
     "metadata": {},
     "output_type": "execute_result"
    }
   ],
   "source": [
    "df.value_counts()"
   ]
  },
  {
   "cell_type": "code",
   "execution_count": 80,
   "id": "b42c805c-5544-46d5-88ac-6c411a8bdf7e",
   "metadata": {},
   "outputs": [
    {
     "data": {
      "text/plain": [
       "num_legs  num_wings\n",
       "2         2            1\n",
       "4         0            2\n",
       "6         0            1\n",
       "Name: count, dtype: int64"
      ]
     },
     "execution_count": 80,
     "metadata": {},
     "output_type": "execute_result"
    }
   ],
   "source": [
    "df.value_counts(sort=False)"
   ]
  },
  {
   "cell_type": "code",
   "execution_count": 82,
   "id": "b7c3a3c3-9f32-4830-8359-7ea9c01416a9",
   "metadata": {},
   "outputs": [
    {
     "data": {
      "text/plain": [
       "num_legs  num_wings\n",
       "2         2            1\n",
       "6         0            1\n",
       "4         0            2\n",
       "Name: count, dtype: int64"
      ]
     },
     "execution_count": 82,
     "metadata": {},
     "output_type": "execute_result"
    }
   ],
   "source": [
    "df.value_counts(ascending=True)"
   ]
  },
  {
   "cell_type": "code",
   "execution_count": 83,
   "id": "9d4658ca-b4b1-4fd4-a784-adaa437fb0cc",
   "metadata": {},
   "outputs": [
    {
     "data": {
      "text/plain": [
       "num_legs  num_wings\n",
       "4         0            0.50\n",
       "2         2            0.25\n",
       "6         0            0.25\n",
       "Name: proportion, dtype: float64"
      ]
     },
     "execution_count": 83,
     "metadata": {},
     "output_type": "execute_result"
    }
   ],
   "source": [
    "df.value_counts(normalize=True)\n"
   ]
  },
  {
   "cell_type": "code",
   "execution_count": 101,
   "id": "aae41181-2039-4787-9930-1a0a6b71ffb7",
   "metadata": {},
   "outputs": [
    {
     "data": {
      "text/html": [
       "<div>\n",
       "<style scoped>\n",
       "    .dataframe tbody tr th:only-of-type {\n",
       "        vertical-align: middle;\n",
       "    }\n",
       "\n",
       "    .dataframe tbody tr th {\n",
       "        vertical-align: top;\n",
       "    }\n",
       "\n",
       "    .dataframe thead th {\n",
       "        text-align: right;\n",
       "    }\n",
       "</style>\n",
       "<table border=\"1\" class=\"dataframe\">\n",
       "  <thead>\n",
       "    <tr style=\"text-align: right;\">\n",
       "      <th></th>\n",
       "      <th>first_name</th>\n",
       "      <th>middle_name</th>\n",
       "    </tr>\n",
       "  </thead>\n",
       "  <tbody>\n",
       "    <tr>\n",
       "      <th>0</th>\n",
       "      <td>John</td>\n",
       "      <td>Smith</td>\n",
       "    </tr>\n",
       "    <tr>\n",
       "      <th>1</th>\n",
       "      <td>Anne</td>\n",
       "      <td>&lt;NA&gt;</td>\n",
       "    </tr>\n",
       "    <tr>\n",
       "      <th>2</th>\n",
       "      <td>John</td>\n",
       "      <td>&lt;NA&gt;</td>\n",
       "    </tr>\n",
       "    <tr>\n",
       "      <th>3</th>\n",
       "      <td>Beth</td>\n",
       "      <td>Louise</td>\n",
       "    </tr>\n",
       "  </tbody>\n",
       "</table>\n",
       "</div>"
      ],
      "text/plain": [
       "  first_name middle_name\n",
       "0       John       Smith\n",
       "1       Anne        <NA>\n",
       "2       John        <NA>\n",
       "3       Beth      Louise"
      ]
     },
     "execution_count": 101,
     "metadata": {},
     "output_type": "execute_result"
    }
   ],
   "source": [
    "df = pd.DataFrame({'first_name': ['John', 'Anne', 'John', 'Beth'],\n",
    "                   'middle_name': ['Smith', pd.NA, pd.NA, 'Louise']})\n",
    "df"
   ]
  },
  {
   "cell_type": "code",
   "execution_count": 108,
   "id": "05706088-e5c7-4831-9ace-c8ea51acea32",
   "metadata": {},
   "outputs": [
    {
     "data": {
      "text/plain": [
       "first_name  middle_name\n",
       "Beth        Louise         1\n",
       "John        Smith          1\n",
       "Name: count, dtype: int64"
      ]
     },
     "execution_count": 108,
     "metadata": {},
     "output_type": "execute_result"
    }
   ],
   "source": [
    "df.value_counts()"
   ]
  },
  {
   "cell_type": "code",
   "execution_count": 109,
   "id": "ff949c8b-7b30-451d-9cb3-2547372aa9fd",
   "metadata": {},
   "outputs": [
    {
     "data": {
      "text/plain": [
       "first_name  middle_name\n",
       "Anne        NaN            1\n",
       "Beth        Louise         1\n",
       "John        Smith          1\n",
       "            NaN            1\n",
       "Name: count, dtype: int64"
      ]
     },
     "execution_count": 109,
     "metadata": {},
     "output_type": "execute_result"
    }
   ],
   "source": [
    "df.value_counts(dropna=False)"
   ]
  },
  {
   "cell_type": "code",
   "execution_count": 120,
   "id": "ddb4b194-2d52-45b3-a6d9-ab08a7b89178",
   "metadata": {},
   "outputs": [
    {
     "data": {
      "text/plain": [
       "first_name\n",
       "Anne    1\n",
       "Beth    1\n",
       "John    2\n",
       "Name: count, dtype: int64"
      ]
     },
     "execution_count": 120,
     "metadata": {},
     "output_type": "execute_result"
    }
   ],
   "source": [
    "df.value_counts(\"first_name\",sort=False)"
   ]
  },
  {
   "cell_type": "code",
   "execution_count": 96,
   "id": "72f0d10c-58a4-4eb4-b96a-420729aaf276",
   "metadata": {},
   "outputs": [],
   "source": [
    "# d=[(1,2,3,1,2,3,1,2,3,1,2,3),(11,12,13,11,12,13,11,12,13,11,12,13)]\n",
    "# idx = pd.MultiIndex.from_arrays(d,names=('number', 'color'))\n",
    "\n",
    "# df = pd.DataFrame({\n",
    "#     'country': ['USA', 'USA', 'UAE', 'Frace','USA', 'USA', 'India', 'UAE','India', 'USA', 'UAE', 'UAE']} ,\n",
    "#       index=idx)\n",
    "# df\n",
    "# df.value_counts(subset=['number','color'], normalize=False, sort=True, ascending=False, dropna=True)\n",
    "# df.value_counts(subset=['country'],sort=True)\n",
    "# df.value_counts()"
   ]
  },
  {
   "cell_type": "code",
   "execution_count": null,
   "id": "c6919c82-6156-416f-8f03-c6952a16ea7b",
   "metadata": {},
   "outputs": [],
   "source": []
  }
 ],
 "metadata": {
  "kernelspec": {
   "display_name": "Python 3 (ipykernel)",
   "language": "python",
   "name": "python3"
  },
  "language_info": {
   "codemirror_mode": {
    "name": "ipython",
    "version": 3
   },
   "file_extension": ".py",
   "mimetype": "text/x-python",
   "name": "python",
   "nbconvert_exporter": "python",
   "pygments_lexer": "ipython3",
   "version": "3.10.0"
  }
 },
 "nbformat": 4,
 "nbformat_minor": 5
}
