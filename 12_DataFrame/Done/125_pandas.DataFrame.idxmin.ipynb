{
 "cells": [
  {
   "cell_type": "code",
   "execution_count": 1,
   "id": "43266452-389e-4408-9d10-706caf57068a",
   "metadata": {},
   "outputs": [],
   "source": [
    "import pandas as pd\n",
    "import numpy as np"
   ]
  },
  {
   "cell_type": "code",
   "execution_count": null,
   "id": "e772aa1b-7280-4680-a8a3-2cc383a6d67f",
   "metadata": {},
   "outputs": [],
   "source": [
    "pandas.DataFrame.idxmax\n",
    "\n",
    "DataFrame.idxmax(axis=0, skipna=True, numeric_only=False)\n",
    "\n",
    "Return index of first occurrence of maximum over requested axis.\n",
    "\n",
    "NA/null values are excluded.\n",
    "\n",
    "Parameters:\n",
    "axis  :{0 or ‘index’, 1 or ‘columns’}, default 0\n",
    "       The axis to use. 0 or ‘index’ for row-wise, 1 or ‘columns’ for column-wise.\n",
    "\n",
    "skipna:  bool, default True\n",
    "         Exclude NA/null values. If an entire row/column is NA, the result will be NA.\n",
    "\n",
    "numeric_only: bool, default False\n",
    "              Include only float, int or boolean data."
   ]
  },
  {
   "cell_type": "code",
   "execution_count": 3,
   "id": "b15fea90-5089-4c10-bc5b-9cd257880837",
   "metadata": {},
   "outputs": [
    {
     "data": {
      "text/html": [
       "<div>\n",
       "<style scoped>\n",
       "    .dataframe tbody tr th:only-of-type {\n",
       "        vertical-align: middle;\n",
       "    }\n",
       "\n",
       "    .dataframe tbody tr th {\n",
       "        vertical-align: top;\n",
       "    }\n",
       "\n",
       "    .dataframe thead th {\n",
       "        text-align: right;\n",
       "    }\n",
       "</style>\n",
       "<table border=\"1\" class=\"dataframe\">\n",
       "  <thead>\n",
       "    <tr style=\"text-align: right;\">\n",
       "      <th></th>\n",
       "      <th>consumption</th>\n",
       "      <th>co2_emissions</th>\n",
       "    </tr>\n",
       "  </thead>\n",
       "  <tbody>\n",
       "    <tr>\n",
       "      <th>Pork</th>\n",
       "      <td>10.51</td>\n",
       "      <td>37.20</td>\n",
       "    </tr>\n",
       "    <tr>\n",
       "      <th>Wheat Products</th>\n",
       "      <td>103.11</td>\n",
       "      <td>19.66</td>\n",
       "    </tr>\n",
       "    <tr>\n",
       "      <th>Beef</th>\n",
       "      <td>55.48</td>\n",
       "      <td>1712.00</td>\n",
       "    </tr>\n",
       "  </tbody>\n",
       "</table>\n",
       "</div>"
      ],
      "text/plain": [
       "                consumption  co2_emissions\n",
       "Pork                  10.51          37.20\n",
       "Wheat Products       103.11          19.66\n",
       "Beef                  55.48        1712.00"
      ]
     },
     "execution_count": 3,
     "metadata": {},
     "output_type": "execute_result"
    }
   ],
   "source": [
    "df = pd.DataFrame({'consumption': [10.51, 103.11, 55.48],\n",
    "                    'co2_emissions': [37.2, 19.66, 1712]},\n",
    "                  index=['Pork', 'Wheat Products', 'Beef'])\n",
    "df"
   ]
  },
  {
   "cell_type": "code",
   "execution_count": 6,
   "id": "ddb4b194-2d52-45b3-a6d9-ab08a7b89178",
   "metadata": {},
   "outputs": [
    {
     "data": {
      "text/plain": [
       "Pork              co2_emissions\n",
       "Wheat Products      consumption\n",
       "Beef              co2_emissions\n",
       "dtype: object"
      ]
     },
     "execution_count": 6,
     "metadata": {},
     "output_type": "execute_result"
    }
   ],
   "source": [
    "df.idxmax(axis=0)"
   ]
  },
  {
   "cell_type": "code",
   "execution_count": null,
   "id": "785a4967-814e-4773-a08f-26da1b32d266",
   "metadata": {},
   "outputs": [],
   "source": [
    "df.idxmax(axis=1)"
   ]
  }
 ],
 "metadata": {
  "kernelspec": {
   "display_name": "Python 3 (ipykernel)",
   "language": "python",
   "name": "python3"
  },
  "language_info": {
   "codemirror_mode": {
    "name": "ipython",
    "version": 3
   },
   "file_extension": ".py",
   "mimetype": "text/x-python",
   "name": "python",
   "nbconvert_exporter": "python",
   "pygments_lexer": "ipython3",
   "version": "3.10.0"
  }
 },
 "nbformat": 4,
 "nbformat_minor": 5
}
