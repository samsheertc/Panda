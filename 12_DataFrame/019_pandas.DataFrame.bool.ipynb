{
 "cells": [
  {
   "cell_type": "code",
   "execution_count": 1,
   "id": "43266452-389e-4408-9d10-706caf57068a",
   "metadata": {},
   "outputs": [],
   "source": [
    "import pandas as pd\n",
    "import numpy as np"
   ]
  },
  {
   "cell_type": "code",
   "execution_count": 2,
   "id": "30e9893e-70bc-4fe5-8ba4-53b174684530",
   "metadata": {},
   "outputs": [
    {
     "name": "stderr",
     "output_type": "stream",
     "text": [
      "C:\\Users\\samsh\\AppData\\Local\\Temp\\ipykernel_36000\\1556794695.py:1: FutureWarning: Series.bool is now deprecated and will be removed in future version of pandas\n",
      "  pd.Series([True]).bool()\n"
     ]
    },
    {
     "data": {
      "text/plain": [
       "True"
      ]
     },
     "execution_count": 2,
     "metadata": {},
     "output_type": "execute_result"
    }
   ],
   "source": [
    "pd.Series([True]).bool()  \n"
   ]
  },
  {
   "cell_type": "code",
   "execution_count": 3,
   "id": "f85b275b-723f-4c13-984b-8177d987c508",
   "metadata": {},
   "outputs": [
    {
     "name": "stderr",
     "output_type": "stream",
     "text": [
      "C:\\Users\\samsh\\AppData\\Local\\Temp\\ipykernel_36000\\3297792849.py:1: FutureWarning: Series.bool is now deprecated and will be removed in future version of pandas\n",
      "  pd.Series([False]).bool()\n"
     ]
    },
    {
     "data": {
      "text/plain": [
       "False"
      ]
     },
     "execution_count": 3,
     "metadata": {},
     "output_type": "execute_result"
    }
   ],
   "source": [
    "pd.Series([False]).bool()  \n"
   ]
  },
  {
   "cell_type": "code",
   "execution_count": 4,
   "id": "c551ddbf-bb5c-4657-b778-48447c45f0cd",
   "metadata": {},
   "outputs": [
    {
     "name": "stderr",
     "output_type": "stream",
     "text": [
      "C:\\Users\\samsh\\AppData\\Local\\Temp\\ipykernel_36000\\4181540383.py:1: FutureWarning: DataFrame.bool is now deprecated and will be removed in future version of pandas\n",
      "  pd.DataFrame({'col': [True]}).bool()\n"
     ]
    },
    {
     "data": {
      "text/plain": [
       "True"
      ]
     },
     "execution_count": 4,
     "metadata": {},
     "output_type": "execute_result"
    }
   ],
   "source": [
    "pd.DataFrame({'col': [True]}).bool()  \n"
   ]
  },
  {
   "cell_type": "code",
   "execution_count": 5,
   "id": "f274a178-a086-43fe-bb03-283c5a01bbf6",
   "metadata": {},
   "outputs": [
    {
     "name": "stderr",
     "output_type": "stream",
     "text": [
      "C:\\Users\\samsh\\AppData\\Local\\Temp\\ipykernel_36000\\121121291.py:1: FutureWarning: DataFrame.bool is now deprecated and will be removed in future version of pandas\n",
      "  pd.DataFrame({'col': [False]}).bool()\n"
     ]
    },
    {
     "data": {
      "text/plain": [
       "False"
      ]
     },
     "execution_count": 5,
     "metadata": {},
     "output_type": "execute_result"
    }
   ],
   "source": [
    "pd.DataFrame({'col': [False]}).bool()  "
   ]
  },
  {
   "cell_type": "code",
   "execution_count": 6,
   "id": "c8dc7935-6932-4f53-a56e-e6e4424316b7",
   "metadata": {},
   "outputs": [
    {
     "data": {
      "text/plain": [
       "True"
      ]
     },
     "execution_count": 6,
     "metadata": {},
     "output_type": "execute_result"
    }
   ],
   "source": [
    "pd.Series([True]).item()  \n"
   ]
  },
  {
   "cell_type": "code",
   "execution_count": 7,
   "id": "572d78ce-2d1b-4d33-8724-3b309ebf8d21",
   "metadata": {},
   "outputs": [
    {
     "data": {
      "text/plain": [
       "False"
      ]
     },
     "execution_count": 7,
     "metadata": {},
     "output_type": "execute_result"
    }
   ],
   "source": [
    "pd.Series([False]).item()  \n"
   ]
  }
 ],
 "metadata": {
  "kernelspec": {
   "display_name": "Python 3 (ipykernel)",
   "language": "python",
   "name": "python3"
  },
  "language_info": {
   "codemirror_mode": {
    "name": "ipython",
    "version": 3
   },
   "file_extension": ".py",
   "mimetype": "text/x-python",
   "name": "python",
   "nbconvert_exporter": "python",
   "pygments_lexer": "ipython3",
   "version": "3.10.0"
  }
 },
 "nbformat": 4,
 "nbformat_minor": 5
}
