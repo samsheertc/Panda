{
 "cells": [
  {
   "cell_type": "code",
   "execution_count": 2,
   "id": "43266452-389e-4408-9d10-706caf57068a",
   "metadata": {},
   "outputs": [],
   "source": [
    "import pandas as pd\n",
    "import numpy as np"
   ]
  },
  {
   "cell_type": "code",
   "execution_count": 3,
   "id": "af3fd46b-d9df-4237-be30-39107d6d8c78",
   "metadata": {},
   "outputs": [
    {
     "data": {
      "text/html": [
       "<div>\n",
       "<style scoped>\n",
       "    .dataframe tbody tr th:only-of-type {\n",
       "        vertical-align: middle;\n",
       "    }\n",
       "\n",
       "    .dataframe tbody tr th {\n",
       "        vertical-align: top;\n",
       "    }\n",
       "\n",
       "    .dataframe thead th {\n",
       "        text-align: right;\n",
       "    }\n",
       "</style>\n",
       "<table border=\"1\" class=\"dataframe\">\n",
       "  <thead>\n",
       "    <tr style=\"text-align: right;\">\n",
       "      <th></th>\n",
       "      <th>col1</th>\n",
       "      <th>col2</th>\n",
       "    </tr>\n",
       "  </thead>\n",
       "  <tbody>\n",
       "    <tr>\n",
       "      <th>0</th>\n",
       "      <td>1</td>\n",
       "      <td>3</td>\n",
       "    </tr>\n",
       "    <tr>\n",
       "      <th>1</th>\n",
       "      <td>2</td>\n",
       "      <td>4</td>\n",
       "    </tr>\n",
       "  </tbody>\n",
       "</table>\n",
       "</div>"
      ],
      "text/plain": [
       "   col1  col2\n",
       "0     1     3\n",
       "1     2     4"
      ]
     },
     "execution_count": 3,
     "metadata": {},
     "output_type": "execute_result"
    }
   ],
   "source": [
    "d = {\n",
    "    'col1': [1, 2],\n",
    "    'col2': [3, 4]\n",
    "}\n",
    "df = pd.DataFrame(data=d)\n",
    "\n",
    "df"
   ]
  },
  {
   "cell_type": "code",
   "execution_count": 4,
   "id": "6641e0db-4350-45b4-9b4d-2cc1edb7fc78",
   "metadata": {},
   "outputs": [
    {
     "data": {
      "text/plain": [
       "col1    int64\n",
       "col2    int64\n",
       "dtype: object"
      ]
     },
     "execution_count": 4,
     "metadata": {},
     "output_type": "execute_result"
    }
   ],
   "source": [
    "df.dtypes"
   ]
  },
  {
   "cell_type": "code",
   "execution_count": 5,
   "id": "85eaa784-f41c-401f-ad19-a284bd1f34f9",
   "metadata": {},
   "outputs": [
    {
     "data": {
      "text/plain": [
       "col1    int32\n",
       "col2    int32\n",
       "dtype: object"
      ]
     },
     "execution_count": 5,
     "metadata": {},
     "output_type": "execute_result"
    }
   ],
   "source": [
    "df.astype('int32').dtypes"
   ]
  },
  {
   "cell_type": "code",
   "execution_count": 6,
   "id": "61b54d73-f06f-4df0-88d0-55bcb927c6f1",
   "metadata": {},
   "outputs": [
    {
     "data": {
      "text/plain": [
       "col1    int32\n",
       "col2    int64\n",
       "dtype: object"
      ]
     },
     "execution_count": 6,
     "metadata": {},
     "output_type": "execute_result"
    }
   ],
   "source": [
    "df.astype({'col1': 'int32'}).dtypes"
   ]
  },
  {
   "cell_type": "code",
   "execution_count": 7,
   "id": "47bc27af-0a64-49da-b949-54435ad42754",
   "metadata": {},
   "outputs": [
    {
     "data": {
      "text/plain": [
       "0    1\n",
       "1    2\n",
       "dtype: int32"
      ]
     },
     "execution_count": 7,
     "metadata": {},
     "output_type": "execute_result"
    }
   ],
   "source": [
    "ser = pd.Series([1, 2], dtype='int32')\n",
    "ser"
   ]
  },
  {
   "cell_type": "code",
   "execution_count": 8,
   "id": "3fb3e8f1-d9e7-4197-b7a4-0f5bb91af32d",
   "metadata": {},
   "outputs": [
    {
     "data": {
      "text/plain": [
       "0    1\n",
       "1    2\n",
       "dtype: int64"
      ]
     },
     "execution_count": 8,
     "metadata": {},
     "output_type": "execute_result"
    }
   ],
   "source": [
    "ser.astype('int64')"
   ]
  },
  {
   "cell_type": "code",
   "execution_count": 9,
   "id": "688b55c3-f023-453c-8f8b-52846a80c954",
   "metadata": {},
   "outputs": [
    {
     "data": {
      "text/plain": [
       "0    1\n",
       "1    2\n",
       "dtype: category\n",
       "Categories (2, int32): [1, 2]"
      ]
     },
     "execution_count": 9,
     "metadata": {},
     "output_type": "execute_result"
    }
   ],
   "source": [
    "ser.astype('category')"
   ]
  },
  {
   "cell_type": "code",
   "execution_count": 11,
   "id": "3a848537-d639-4cce-a491-7bf3807dd8ff",
   "metadata": {},
   "outputs": [
    {
     "data": {
      "text/plain": [
       "0   2020-01-01\n",
       "1   2020-01-02\n",
       "2   2020-01-03\n",
       "dtype: datetime64[ns]"
      ]
     },
     "execution_count": 11,
     "metadata": {},
     "output_type": "execute_result"
    }
   ],
   "source": [
    "ser_date = pd.Series(pd.date_range('20200101', periods=3))\n",
    "ser_date"
   ]
  }
 ],
 "metadata": {
  "kernelspec": {
   "display_name": "Python 3 (ipykernel)",
   "language": "python",
   "name": "python3"
  },
  "language_info": {
   "codemirror_mode": {
    "name": "ipython",
    "version": 3
   },
   "file_extension": ".py",
   "mimetype": "text/x-python",
   "name": "python",
   "nbconvert_exporter": "python",
   "pygments_lexer": "ipython3",
   "version": "3.10.0"
  }
 },
 "nbformat": 4,
 "nbformat_minor": 5
}
