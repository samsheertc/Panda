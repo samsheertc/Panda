{
 "cells": [
  {
   "cell_type": "code",
   "execution_count": 2,
   "id": "43266452-389e-4408-9d10-706caf57068a",
   "metadata": {},
   "outputs": [],
   "source": [
    "import pandas as pd\n",
    "import numpy as np"
   ]
  },
  {
   "cell_type": "code",
   "execution_count": null,
   "id": "e772aa1b-7280-4680-a8a3-2cc383a6d67f",
   "metadata": {},
   "outputs": [],
   "source": [
    "pandas.DataFrame.sum\n",
    "DataFrame.sum(axis=0, skipna=True, numeric_only=False, min_count=0, **kwargs)\n",
    "\n",
    "skipna      : bool, default True\n",
    "numeric_only: bool, default False\n",
    "min_count   : int, default 0\n"
   ]
  },
  {
   "cell_type": "code",
   "execution_count": 3,
   "id": "b15fea90-5089-4c10-bc5b-9cd257880837",
   "metadata": {},
   "outputs": [
    {
     "data": {
      "text/plain": [
       "blooded  animal\n",
       "warm     dog       4\n",
       "         falcon    2\n",
       "cold     fish      0\n",
       "         spider    8\n",
       "Name: legs, dtype: int64"
      ]
     },
     "execution_count": 3,
     "metadata": {},
     "output_type": "execute_result"
    }
   ],
   "source": [
    "idx = pd.MultiIndex.from_arrays([\n",
    "    ['warm', 'warm', 'cold', 'cold'],\n",
    "    ['dog', 'falcon', 'fish', 'spider']],\n",
    "    names=['blooded', 'animal'])\n",
    "s = pd.Series([4, 2, 0, 8], name='legs', index=idx)\n",
    "s"
   ]
  },
  {
   "cell_type": "code",
   "execution_count": 4,
   "id": "ddb4b194-2d52-45b3-a6d9-ab08a7b89178",
   "metadata": {},
   "outputs": [
    {
     "data": {
      "text/plain": [
       "np.int64(14)"
      ]
     },
     "execution_count": 4,
     "metadata": {},
     "output_type": "execute_result"
    }
   ],
   "source": [
    "s.sum()"
   ]
  },
  {
   "cell_type": "code",
   "execution_count": 6,
   "id": "785a4967-814e-4773-a08f-26da1b32d266",
   "metadata": {},
   "outputs": [
    {
     "data": {
      "text/plain": [
       "np.float64(0.0)"
      ]
     },
     "execution_count": 6,
     "metadata": {},
     "output_type": "execute_result"
    }
   ],
   "source": [
    "pd.Series([], dtype=\"float64\").sum()             #np.float64(0.0)\n",
    "pd.Series([], dtype=\"float64\").sum(min_count=1)  #np.float64(nan)\n",
    "pd.Series([np.nan]).sum()                        #np.float64(0.0)\n",
    "pd.Series([np.nan]).sum(min_count=1)             #np.float64(nan)"
   ]
  }
 ],
 "metadata": {
  "kernelspec": {
   "display_name": "Python 3 (ipykernel)",
   "language": "python",
   "name": "python3"
  },
  "language_info": {
   "codemirror_mode": {
    "name": "ipython",
    "version": 3
   },
   "file_extension": ".py",
   "mimetype": "text/x-python",
   "name": "python",
   "nbconvert_exporter": "python",
   "pygments_lexer": "ipython3",
   "version": "3.10.0"
  }
 },
 "nbformat": 4,
 "nbformat_minor": 5
}
