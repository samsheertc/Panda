{
 "cells": [
  {
   "cell_type": "code",
   "execution_count": 2,
   "id": "43266452-389e-4408-9d10-706caf57068a",
   "metadata": {},
   "outputs": [],
   "source": [
    "import pandas as pd\n",
    "import numpy as np"
   ]
  },
  {
   "cell_type": "code",
   "execution_count": 3,
   "id": "e772aa1b-7280-4680-a8a3-2cc383a6d67f",
   "metadata": {},
   "outputs": [
    {
     "data": {
      "text/html": [
       "<div>\n",
       "<style scoped>\n",
       "    .dataframe tbody tr th:only-of-type {\n",
       "        vertical-align: middle;\n",
       "    }\n",
       "\n",
       "    .dataframe tbody tr th {\n",
       "        vertical-align: top;\n",
       "    }\n",
       "\n",
       "    .dataframe thead th {\n",
       "        text-align: right;\n",
       "    }\n",
       "</style>\n",
       "<table border=\"1\" class=\"dataframe\">\n",
       "  <thead>\n",
       "    <tr style=\"text-align: right;\">\n",
       "      <th></th>\n",
       "      <th>col 1</th>\n",
       "      <th>col 2</th>\n",
       "    </tr>\n",
       "  </thead>\n",
       "  <tbody>\n",
       "    <tr>\n",
       "      <th>row 1</th>\n",
       "      <td>a</td>\n",
       "      <td>b</td>\n",
       "    </tr>\n",
       "    <tr>\n",
       "      <th>row 2</th>\n",
       "      <td>c</td>\n",
       "      <td>d</td>\n",
       "    </tr>\n",
       "  </tbody>\n",
       "</table>\n",
       "</div>"
      ],
      "text/plain": [
       "      col 1 col 2\n",
       "row 1     a     b\n",
       "row 2     c     d"
      ]
     },
     "execution_count": 3,
     "metadata": {},
     "output_type": "execute_result"
    }
   ],
   "source": [
    "from json import loads, dumps\n",
    "df = pd.DataFrame(\n",
    "    [[\"a\", \"b\"], [\"c\", \"d\"]],\n",
    "    index=[\"row 1\", \"row 2\"],\n",
    "    columns=[\"col 1\", \"col 2\"],\n",
    ")\n",
    "df"
   ]
  },
  {
   "cell_type": "code",
   "execution_count": 16,
   "id": "b15fea90-5089-4c10-bc5b-9cd257880837",
   "metadata": {},
   "outputs": [],
   "source": [
    "df.to_json('data/modified_records.json', orient='records')\n",
    "\n",
    "'''\n",
    "[\n",
    "    {\"col 1\":\"a\",\"col 2\":\"b\"},\n",
    "    {\"col 1\":\"c\",\"col 2\":\"d\"}\n",
    "]\n",
    "'''"
   ]
  },
  {
   "cell_type": "code",
   "execution_count": 18,
   "id": "785a4967-814e-4773-a08f-26da1b32d266",
   "metadata": {},
   "outputs": [],
   "source": [
    "df.to_json('data/modified_records.json', orient='index')\n",
    "\n",
    "'''\n",
    "{\n",
    "    \"row 1\":{\"col 1\":\"a\",\"col 2\":\"b\"},\n",
    "    \"row 2\":{\"col 1\":\"c\",\"col 2\":\"d\"}\n",
    "}\n",
    "'''"
   ]
  },
  {
   "cell_type": "code",
   "execution_count": 19,
   "id": "e73154c6-6e7b-4e44-acd4-3e01e6435c5d",
   "metadata": {},
   "outputs": [],
   "source": [
    "df.to_json('data/modified_records.json', orient='columns')\n",
    "\n",
    "'''\n",
    "{\n",
    "    \"col 1\":{\"row 1\":\"a\",\"row 2\":\"c\"},\n",
    "    \"col 2\":{\"row 1\":\"b\",\"row 2\":\"d\"}\n",
    "}\n",
    "'''"
   ]
  },
  {
   "cell_type": "code",
   "execution_count": 20,
   "id": "ecee7388-5e76-44d7-919b-48739ee008b2",
   "metadata": {},
   "outputs": [],
   "source": [
    "df.to_json('data/modified_records.json', orient='values')\n",
    "\n",
    "'''\n",
    "[\n",
    "    [\"a\",\"b\"],\n",
    "    [\"c\",\"d\"]\n",
    "]\n",
    "'''"
   ]
  },
  {
   "cell_type": "code",
   "execution_count": 21,
   "id": "1d2b9cf1-cc6e-4be3-9790-4eb8687d20fd",
   "metadata": {},
   "outputs": [],
   "source": [
    "df.to_json('data/modified_records.json', orient='table')\n",
    "\n",
    "'''\n",
    "{\n",
    "  \"schema\": {\n",
    "    \"fields\": [\n",
    "      {\n",
    "        \"name\": \"index\",\n",
    "        \"type\": \"string\"\n",
    "      },\n",
    "      {\n",
    "        \"name\": \"col 1\",\n",
    "        \"type\": \"string\"\n",
    "      },\n",
    "      {\n",
    "        \"name\": \"col 2\",\n",
    "        \"type\": \"string\"\n",
    "      }\n",
    "    ],\n",
    "    \"primaryKey\": [\n",
    "      \"index\"\n",
    "    ],\n",
    "    \"pandas_version\": \"1.4.0\"\n",
    "  },\n",
    "  \"data\": [\n",
    "    {\n",
    "      \"index\": \"row 1\",\n",
    "      \"col 1\": \"a\",\n",
    "      \"col 2\": \"b\"\n",
    "    },\n",
    "    {\n",
    "      \"index\": \"row 2\",\n",
    "      \"col 1\": \"c\",\n",
    "      \"col 2\": \"d\"\n",
    "    }\n",
    "  ]\n",
    "}\n",
    "'''"
   ]
  }
 ],
 "metadata": {
  "kernelspec": {
   "display_name": "Python 3 (ipykernel)",
   "language": "python",
   "name": "python3"
  },
  "language_info": {
   "codemirror_mode": {
    "name": "ipython",
    "version": 3
   },
   "file_extension": ".py",
   "mimetype": "text/x-python",
   "name": "python",
   "nbconvert_exporter": "python",
   "pygments_lexer": "ipython3",
   "version": "3.10.0"
  }
 },
 "nbformat": 4,
 "nbformat_minor": 5
}
