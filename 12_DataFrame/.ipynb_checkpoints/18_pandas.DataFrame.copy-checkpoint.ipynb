{
 "cells": [
  {
   "cell_type": "code",
   "execution_count": 2,
   "id": "43266452-389e-4408-9d10-706caf57068a",
   "metadata": {},
   "outputs": [],
   "source": [
    "import pandas as pd\n",
    "import numpy as np"
   ]
  },
  {
   "cell_type": "code",
   "execution_count": 3,
   "id": "37f460cc-24f1-414a-8330-4532b590d357",
   "metadata": {},
   "outputs": [
    {
     "data": {
      "text/plain": [
       "a    1\n",
       "b    2\n",
       "dtype: int64"
      ]
     },
     "execution_count": 3,
     "metadata": {},
     "output_type": "execute_result"
    }
   ],
   "source": [
    "s = pd.Series([1, 2], index=[\"a\", \"b\"])\n",
    "s"
   ]
  },
  {
   "cell_type": "code",
   "execution_count": 4,
   "id": "8183a1c9-c9bf-4004-b7d9-1810c60f700e",
   "metadata": {},
   "outputs": [
    {
     "data": {
      "text/plain": [
       "a    1\n",
       "b    2\n",
       "dtype: int64"
      ]
     },
     "execution_count": 4,
     "metadata": {},
     "output_type": "execute_result"
    }
   ],
   "source": [
    "s_copy = s.copy()\n",
    "s_copy"
   ]
  },
  {
   "cell_type": "code",
   "execution_count": null,
   "id": "a4380451-8c6f-4e7f-92f2-ce4c26e06dc7",
   "metadata": {},
   "outputs": [],
   "source": [
    "#Shallow copy versus default (deep) copy:"
   ]
  },
  {
   "cell_type": "code",
   "execution_count": 6,
   "id": "10309d8c-1153-40af-89e3-9b5436e3ab5a",
   "metadata": {},
   "outputs": [],
   "source": [
    "s = pd.Series([1, 2], index=[\"a\", \"b\"])\n",
    "deep = s.copy()\n",
    "shallow = s.copy(deep=False)"
   ]
  },
  {
   "cell_type": "code",
   "execution_count": 12,
   "id": "72b95518-a5c3-47e1-a0b7-ee0ec35b37fb",
   "metadata": {},
   "outputs": [
    {
     "data": {
      "text/plain": [
       "False"
      ]
     },
     "execution_count": 12,
     "metadata": {},
     "output_type": "execute_result"
    }
   ],
   "source": [
    "s is shallow"
   ]
  },
  {
   "cell_type": "code",
   "execution_count": 13,
   "id": "503c138c-7c45-4c6b-b5dd-99ed4c9571a4",
   "metadata": {},
   "outputs": [
    {
     "data": {
      "text/plain": [
       "True"
      ]
     },
     "execution_count": 13,
     "metadata": {},
     "output_type": "execute_result"
    }
   ],
   "source": [
    "s.values is shallow.values and s.index is shallow.index"
   ]
  },
  {
   "cell_type": "code",
   "execution_count": 14,
   "id": "5de92383-f356-4277-8213-2118aa0b557b",
   "metadata": {},
   "outputs": [
    {
     "data": {
      "text/plain": [
       "False"
      ]
     },
     "execution_count": 14,
     "metadata": {},
     "output_type": "execute_result"
    }
   ],
   "source": [
    "s is deep"
   ]
  },
  {
   "cell_type": "code",
   "execution_count": 15,
   "id": "0d6b7b83-ee46-4733-9367-45c24eb4591b",
   "metadata": {},
   "outputs": [
    {
     "data": {
      "text/plain": [
       "False"
      ]
     },
     "execution_count": 15,
     "metadata": {},
     "output_type": "execute_result"
    }
   ],
   "source": [
    "s.values is deep.values and s.index is deep.index"
   ]
  },
  {
   "cell_type": "code",
   "execution_count": null,
   "id": "79b49532-76c6-42c9-be32-9982b08bf2ab",
   "metadata": {},
   "outputs": [],
   "source": [
    "######## Change original Series s"
   ]
  },
  {
   "cell_type": "code",
   "execution_count": 16,
   "id": "951f8efa-863d-49db-8231-d72eb780bafa",
   "metadata": {},
   "outputs": [
    {
     "data": {
      "text/plain": [
       "a    3\n",
       "b    2\n",
       "dtype: int64"
      ]
     },
     "execution_count": 16,
     "metadata": {},
     "output_type": "execute_result"
    }
   ],
   "source": [
    "s.iloc[0] = 3\n",
    "s"
   ]
  },
  {
   "cell_type": "code",
   "execution_count": 17,
   "id": "59ba7ce2-141e-4f15-872e-1d1f6a82df97",
   "metadata": {},
   "outputs": [
    {
     "data": {
      "text/plain": [
       "a    3\n",
       "b    2\n",
       "dtype: int64"
      ]
     },
     "execution_count": 17,
     "metadata": {},
     "output_type": "execute_result"
    }
   ],
   "source": [
    "shallow"
   ]
  },
  {
   "cell_type": "code",
   "execution_count": 18,
   "id": "401bce27-2ef4-4f76-8e2a-8fb8c710b713",
   "metadata": {},
   "outputs": [
    {
     "data": {
      "text/plain": [
       "a    1\n",
       "b    2\n",
       "dtype: int64"
      ]
     },
     "execution_count": 18,
     "metadata": {},
     "output_type": "execute_result"
    }
   ],
   "source": [
    "deep"
   ]
  },
  {
   "cell_type": "code",
   "execution_count": null,
   "id": "270718b6-ff7a-4365-af3d-5d7613d0424a",
   "metadata": {},
   "outputs": [],
   "source": [
    "#eg:1\n",
    "######## Change Shallow Series"
   ]
  },
  {
   "cell_type": "code",
   "execution_count": 19,
   "id": "e2d8846c-76d1-49e7-9cd4-f10cf38588ee",
   "metadata": {},
   "outputs": [],
   "source": [
    "shallow.iloc[1] = 4"
   ]
  },
  {
   "cell_type": "code",
   "execution_count": 20,
   "id": "88603f91-6fb6-4ea8-b854-cc8a24880de1",
   "metadata": {},
   "outputs": [
    {
     "data": {
      "text/plain": [
       "a    3\n",
       "b    4\n",
       "dtype: int64"
      ]
     },
     "execution_count": 20,
     "metadata": {},
     "output_type": "execute_result"
    }
   ],
   "source": [
    "s"
   ]
  },
  {
   "cell_type": "code",
   "execution_count": 21,
   "id": "b6cf8095-8af8-4490-b71d-7315fb01e937",
   "metadata": {},
   "outputs": [
    {
     "data": {
      "text/plain": [
       "a    3\n",
       "b    4\n",
       "dtype: int64"
      ]
     },
     "execution_count": 21,
     "metadata": {},
     "output_type": "execute_result"
    }
   ],
   "source": [
    "shallow"
   ]
  },
  {
   "cell_type": "code",
   "execution_count": 22,
   "id": "5ac11d74-b2b3-4704-9384-40de96120e6d",
   "metadata": {},
   "outputs": [
    {
     "data": {
      "text/plain": [
       "a    1\n",
       "b    2\n",
       "dtype: int64"
      ]
     },
     "execution_count": 22,
     "metadata": {},
     "output_type": "execute_result"
    }
   ],
   "source": [
    "deep"
   ]
  },
  {
   "cell_type": "code",
   "execution_count": null,
   "id": "5e1cf925-a66b-4fd4-966c-2cf71fc7e812",
   "metadata": {},
   "outputs": [],
   "source": [
    "######## Change deep Series"
   ]
  },
  {
   "cell_type": "code",
   "execution_count": 23,
   "id": "9b753e83-4264-4215-85d1-65ebfd75e63b",
   "metadata": {},
   "outputs": [],
   "source": [
    "deep.iloc[1] = 5"
   ]
  },
  {
   "cell_type": "code",
   "execution_count": 24,
   "id": "67cf70ce-e9d7-47c8-8ab0-e726fd7f8bdb",
   "metadata": {},
   "outputs": [
    {
     "data": {
      "text/plain": [
       "a    3\n",
       "b    4\n",
       "dtype: int64"
      ]
     },
     "execution_count": 24,
     "metadata": {},
     "output_type": "execute_result"
    }
   ],
   "source": [
    "s"
   ]
  },
  {
   "cell_type": "code",
   "execution_count": 25,
   "id": "2acb0efd-11d8-48f7-8492-69a78953c27a",
   "metadata": {},
   "outputs": [
    {
     "data": {
      "text/plain": [
       "a    3\n",
       "b    4\n",
       "dtype: int64"
      ]
     },
     "execution_count": 25,
     "metadata": {},
     "output_type": "execute_result"
    }
   ],
   "source": [
    "shallow"
   ]
  },
  {
   "cell_type": "code",
   "execution_count": 26,
   "id": "6e91c088-1ce4-46bd-a6f5-4faec93545ac",
   "metadata": {},
   "outputs": [
    {
     "data": {
      "text/plain": [
       "a    1\n",
       "b    5\n",
       "dtype: int64"
      ]
     },
     "execution_count": 26,
     "metadata": {},
     "output_type": "execute_result"
    }
   ],
   "source": [
    "deep"
   ]
  },
  {
   "cell_type": "code",
   "execution_count": null,
   "id": "4e4be972-9b88-4bd6-a2a8-1764b43e2776",
   "metadata": {},
   "outputs": [],
   "source": []
  },
  {
   "cell_type": "code",
   "execution_count": null,
   "id": "df1fd592-be6b-4296-a450-27560ea7d891",
   "metadata": {},
   "outputs": [],
   "source": []
  },
  {
   "cell_type": "code",
   "execution_count": null,
   "id": "03d6502c-55a5-4497-8c5e-ccf94bbbb24f",
   "metadata": {},
   "outputs": [],
   "source": [
    "#eg:2"
   ]
  },
  {
   "cell_type": "code",
   "execution_count": 27,
   "id": "0b8af22c-2b80-4123-9349-1d1ae67498ec",
   "metadata": {},
   "outputs": [
    {
     "data": {
      "text/plain": [
       "0    [1, 2]\n",
       "1    [3, 4]\n",
       "dtype: object"
      ]
     },
     "execution_count": 27,
     "metadata": {},
     "output_type": "execute_result"
    }
   ],
   "source": [
    "s = pd.Series([[1, 2], [3, 4]])\n",
    "s"
   ]
  },
  {
   "cell_type": "code",
   "execution_count": 28,
   "id": "53f026bf-3960-429a-8160-f5efd82bea98",
   "metadata": {},
   "outputs": [
    {
     "data": {
      "text/plain": [
       "0    [1, 2]\n",
       "1    [3, 4]\n",
       "dtype: object"
      ]
     },
     "execution_count": 28,
     "metadata": {},
     "output_type": "execute_result"
    }
   ],
   "source": [
    "deep = s.copy()\n",
    "deep"
   ]
  },
  {
   "cell_type": "code",
   "execution_count": 29,
   "id": "1fc066bf-09ad-4c8e-b87d-e15885d088e5",
   "metadata": {},
   "outputs": [],
   "source": [
    "s[0][0] = 10"
   ]
  },
  {
   "cell_type": "code",
   "execution_count": 30,
   "id": "d6dbc3df-cd7f-407e-ab2f-0fce3ee6a411",
   "metadata": {},
   "outputs": [
    {
     "data": {
      "text/plain": [
       "0    [10, 2]\n",
       "1     [3, 4]\n",
       "dtype: object"
      ]
     },
     "execution_count": 30,
     "metadata": {},
     "output_type": "execute_result"
    }
   ],
   "source": [
    "s"
   ]
  },
  {
   "cell_type": "code",
   "execution_count": 31,
   "id": "871b656c-d7fc-467a-9e0a-43488da11cf9",
   "metadata": {},
   "outputs": [
    {
     "data": {
      "text/plain": [
       "0    [10, 2]\n",
       "1     [3, 4]\n",
       "dtype: object"
      ]
     },
     "execution_count": 31,
     "metadata": {},
     "output_type": "execute_result"
    }
   ],
   "source": [
    "deep"
   ]
  }
 ],
 "metadata": {
  "kernelspec": {
   "display_name": "Python 3 (ipykernel)",
   "language": "python",
   "name": "python3"
  },
  "language_info": {
   "codemirror_mode": {
    "name": "ipython",
    "version": 3
   },
   "file_extension": ".py",
   "mimetype": "text/x-python",
   "name": "python",
   "nbconvert_exporter": "python",
   "pygments_lexer": "ipython3",
   "version": "3.10.0"
  }
 },
 "nbformat": 4,
 "nbformat_minor": 5
}
