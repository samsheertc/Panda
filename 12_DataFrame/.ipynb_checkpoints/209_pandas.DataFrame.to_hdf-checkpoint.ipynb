{
 "cells": [
  {
   "cell_type": "code",
   "execution_count": 1,
   "id": "43266452-389e-4408-9d10-706caf57068a",
   "metadata": {},
   "outputs": [],
   "source": [
    "import pandas as pd\n",
    "import numpy as np"
   ]
  },
  {
   "cell_type": "code",
   "execution_count": null,
   "id": "e772aa1b-7280-4680-a8a3-2cc383a6d67f",
   "metadata": {},
   "outputs": [],
   "source": [
    "pandas.DataFrame.to_hdf\n",
    "\n",
    "DataFrame.to_hdf(\n",
    "    path_or_buf,\n",
    "    key,\n",
    "    mode='a',\n",
    "    complevel=None,\n",
    "    complib=None,\n",
    "    append=False,\n",
    "    format=None,\n",
    "    index=True,\n",
    "    min_itemsize=None,\n",
    "    nan_rep=None,\n",
    "    dropna=None,\n",
    "    data_columns=None,\n",
    "    errors='strict',\n",
    "    encoding='UTF-8'\n",
    ")\n"
   ]
  },
  {
   "cell_type": "code",
   "execution_count": null,
   "id": "b15fea90-5089-4c10-bc5b-9cd257880837",
   "metadata": {},
   "outputs": [],
   "source": [
    "df = pd.DataFrame({'A': [1, 2, 3], 'B': [4, 5, 6]},\n",
    "                  index=['a', 'b', 'c'])  \n",
    "df.to_hdf('data.h5', key='df', mode='w')  "
   ]
  },
  {
   "cell_type": "code",
   "execution_count": null,
   "id": "ddb4b194-2d52-45b3-a6d9-ab08a7b89178",
   "metadata": {},
   "outputs": [],
   "source": [
    "s = pd.Series([1, 2, 3, 4])  \n",
    "s.to_hdf('data.h5', key='s') "
   ]
  },
  {
   "cell_type": "code",
   "execution_count": null,
   "id": "785a4967-814e-4773-a08f-26da1b32d266",
   "metadata": {},
   "outputs": [],
   "source": [
    "pd.read_hdf('data.h5', 'df')"
   ]
  },
  {
   "cell_type": "code",
   "execution_count": null,
   "id": "c38e2b49-596b-4327-9e02-467733476dd1",
   "metadata": {},
   "outputs": [],
   "source": [
    "pd.read_hdf('data.h5', 's')"
   ]
  }
 ],
 "metadata": {
  "kernelspec": {
   "display_name": "Python 3 (ipykernel)",
   "language": "python",
   "name": "python3"
  },
  "language_info": {
   "codemirror_mode": {
    "name": "ipython",
    "version": 3
   },
   "file_extension": ".py",
   "mimetype": "text/x-python",
   "name": "python",
   "nbconvert_exporter": "python",
   "pygments_lexer": "ipython3",
   "version": "3.10.0"
  }
 },
 "nbformat": 4,
 "nbformat_minor": 5
}
