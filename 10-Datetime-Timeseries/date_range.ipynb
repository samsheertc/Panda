{
 "cells": [
  {
   "cell_type": "code",
   "execution_count": 3,
   "id": "96d962c1-43ae-42ac-a3aa-f3c4860f57f1",
   "metadata": {},
   "outputs": [],
   "source": [
    "import pandas as pd"
   ]
  },
  {
   "cell_type": "code",
   "execution_count": 1,
   "id": "da3e5870-3914-46ce-924d-1e82ba629a0d",
   "metadata": {},
   "outputs": [
    {
     "data": {
      "text/plain": [
       "\"\\npandas.date_range(\\nstart=None, \\nend=None,\\nperiods=None,\\nfreq=None,\\ntz=None,\\nnormalize=False,\\nname=None,\\ninclusive='both', \\n*, \\nunit=None, \\n**kwargs\\n)\\n\\nfreq\\n-----\\nB\\t -> business day frequency\\nC\\t -> custom business day frequency\\nD\\t -> calendar day frequency\\nW\\t -> weekly frequency\\nME\\t -> month end frequency\\nSME\\t -> semi-month end frequency (15th and end of month)\\nBME\\t -> business month end frequency\\nCBME -> custom business month end frequency\\nMS\\t -> month start frequency\\nSMS\\t -> semi-month start frequency (1st and 15th)\\nBMS\\t -> business month start frequency\\nCBMS -> custom business month start frequency\\nQE\\t -> quarter end frequency\\nBQE\\t -> business quarter end frequency\\nQS\\t -> quarter start frequency\\nBQS\\t -> business quarter start frequency\\nYE\\t -> year end frequency\\nBYE\\t -> business year end frequency\\nYS\\t -> year start frequency\\nBYS\\t -> business year start frequency\\nh\\t -> hourly frequency\\nbh\\t -> business hour frequency\\ncbh\\t -> custom business hour frequency\\nmin\\t -> minutely frequency\\ns\\t -> secondly frequency\\nms\\t -> milliseconds\\nus\\t -> microseconds\\nns\\t -> nanoseconds\\n\\n\\n\""
      ]
     },
     "execution_count": 1,
     "metadata": {},
     "output_type": "execute_result"
    }
   ],
   "source": [
    "'''\n",
    "pandas.date_range(\n",
    "start=None, [Start Date]\n",
    "end=None,   [End Date]\n",
    "periods=None, [an Integer....] [ e.g periods=31]\n",
    "freq=None,    [D, C etc ....]  [ e.g freq='D'  ]\n",
    "tz=None,\n",
    "normalize=False,\n",
    "name=None,\n",
    "inclusive='both', \n",
    "*, \n",
    "unit=None, \n",
    "**kwargs\n",
    ")\n",
    "\n",
    "freq\n",
    "-----\n",
    "B\t -> business day frequency\n",
    "C\t -> custom business day frequency\n",
    "D\t -> calendar day frequency\n",
    "W\t -> weekly frequency\n",
    "ME\t -> month end frequency\n",
    "SME\t -> semi-month end frequency (15th and end of month)\n",
    "BME\t -> business month end frequency\n",
    "CBME -> custom business month end frequency\n",
    "MS\t -> month start frequency\n",
    "SMS\t -> semi-month start frequency (1st and 15th)\n",
    "BMS\t -> business month start frequency\n",
    "CBMS -> custom business month start frequency\n",
    "QE\t -> quarter end frequency\n",
    "BQE\t -> business quarter end frequency\n",
    "QS\t -> quarter start frequency\n",
    "BQS\t -> business quarter start frequency\n",
    "YE\t -> year end frequency\n",
    "BYE\t -> business year end frequency\n",
    "YS\t -> year start frequency\n",
    "BYS\t -> business year start frequency\n",
    "h\t -> hourly frequency\n",
    "bh\t -> business hour frequency\n",
    "cbh\t -> custom business hour frequency\n",
    "min\t -> minutely frequency\n",
    "s\t -> secondly frequency\n",
    "ms\t -> milliseconds\n",
    "us\t -> microseconds\n",
    "ns\t -> nanoseconds\n",
    "\n",
    "\n",
    "'''"
   ]
  },
  {
   "cell_type": "code",
   "execution_count": 8,
   "id": "f191858a-2dc6-469e-be2d-edad7d2b0a0a",
   "metadata": {},
   "outputs": [
    {
     "data": {
      "text/plain": [
       "DatetimeIndex(['2024-01-01', '2024-01-02', '2024-01-03', '2024-01-04',\n",
       "               '2024-01-05', '2024-01-06', '2024-01-07', '2024-01-08',\n",
       "               '2024-01-09', '2024-01-10', '2024-01-11', '2024-01-12',\n",
       "               '2024-01-13', '2024-01-14', '2024-01-15', '2024-01-16',\n",
       "               '2024-01-17', '2024-01-18', '2024-01-19', '2024-01-20',\n",
       "               '2024-01-21', '2024-01-22', '2024-01-23', '2024-01-24',\n",
       "               '2024-01-25', '2024-01-26', '2024-01-27', '2024-01-28',\n",
       "               '2024-01-29', '2024-01-30', '2024-01-31'],\n",
       "              dtype='datetime64[ns]', freq='D')"
      ]
     },
     "execution_count": 8,
     "metadata": {},
     "output_type": "execute_result"
    }
   ],
   "source": [
    "pd.date_range(start='2024-01-01',end='2024-01-31') #default frequency is D"
   ]
  },
  {
   "cell_type": "code",
   "execution_count": 17,
   "id": "651bd34e-63bd-4ff3-961a-0461a963dcae",
   "metadata": {},
   "outputs": [
    {
     "data": {
      "text/plain": [
       "DatetimeIndex(['2024-01-01', '2024-01-02', '2024-01-03', '2024-01-04',\n",
       "               '2024-01-05', '2024-01-06', '2024-01-07', '2024-01-08',\n",
       "               '2024-01-09', '2024-01-10', '2024-01-11', '2024-01-12',\n",
       "               '2024-01-13', '2024-01-14', '2024-01-15', '2024-01-16',\n",
       "               '2024-01-17', '2024-01-18', '2024-01-19', '2024-01-20',\n",
       "               '2024-01-21', '2024-01-22', '2024-01-23', '2024-01-24',\n",
       "               '2024-01-25', '2024-01-26', '2024-01-27', '2024-01-28',\n",
       "               '2024-01-29', '2024-01-30', '2024-01-31'],\n",
       "              dtype='datetime64[ns]', freq='D')"
      ]
     },
     "execution_count": 17,
     "metadata": {},
     "output_type": "execute_result"
    }
   ],
   "source": [
    "pd.date_range(start='2024-01-01',periods=31) #default frequency is D"
   ]
  },
  {
   "cell_type": "code",
   "execution_count": 20,
   "id": "65c67ccc-481b-450c-9a53-ff6e65ba1d30",
   "metadata": {},
   "outputs": [
    {
     "data": {
      "text/plain": [
       "DatetimeIndex(['2024-01-01', '2024-01-02', '2024-01-03', '2024-01-04',\n",
       "               '2024-01-05', '2024-01-06', '2024-01-07', '2024-01-08',\n",
       "               '2024-01-09', '2024-01-10', '2024-01-11', '2024-01-12',\n",
       "               '2024-01-13', '2024-01-14', '2024-01-15', '2024-01-16',\n",
       "               '2024-01-17', '2024-01-18', '2024-01-19', '2024-01-20',\n",
       "               '2024-01-21', '2024-01-22', '2024-01-23', '2024-01-24',\n",
       "               '2024-01-25', '2024-01-26', '2024-01-27', '2024-01-28',\n",
       "               '2024-01-29', '2024-01-30', '2024-01-31'],\n",
       "              dtype='datetime64[ns]', freq='D')"
      ]
     },
     "execution_count": 20,
     "metadata": {},
     "output_type": "execute_result"
    }
   ],
   "source": [
    "pd.date_range(end='2024-01-31',periods=31)  #default frequency is D"
   ]
  },
  {
   "cell_type": "code",
   "execution_count": 15,
   "id": "d7ce0342-6e55-49a8-ae77-bbf38aba3cd3",
   "metadata": {},
   "outputs": [
    {
     "data": {
      "text/plain": [
       "DatetimeIndex(['2024-01-31', '2024-02-29', '2024-03-31', '2024-04-30',\n",
       "               '2024-05-31', '2024-06-30', '2024-07-31', '2024-08-31',\n",
       "               '2024-09-30', '2024-10-31', '2024-11-30', '2024-12-31'],\n",
       "              dtype='datetime64[ns]', freq='ME')"
      ]
     },
     "execution_count": 15,
     "metadata": {},
     "output_type": "execute_result"
    }
   ],
   "source": [
    "pd.date_range(start='2024-01-01',freq='ME',periods=12)"
   ]
  },
  {
   "cell_type": "code",
   "execution_count": 21,
   "id": "6457b3c1-0a15-45ef-a473-3896c361edb3",
   "metadata": {},
   "outputs": [
    {
     "data": {
      "text/plain": [
       "DatetimeIndex(['2024-01-01', '2024-02-01', '2024-03-01', '2024-04-01',\n",
       "               '2024-05-01', '2024-06-01', '2024-07-01', '2024-08-01',\n",
       "               '2024-09-01', '2024-10-01', '2024-11-01', '2024-12-01'],\n",
       "              dtype='datetime64[ns]', freq='MS')"
      ]
     },
     "execution_count": 21,
     "metadata": {},
     "output_type": "execute_result"
    }
   ],
   "source": [
    "pd.date_range(start='2024-01-01',freq='MS',periods=12)"
   ]
  },
  {
   "cell_type": "code",
   "execution_count": 26,
   "id": "7474078b-24ef-4f03-8c02-8c419aed4529",
   "metadata": {},
   "outputs": [
    {
     "data": {
      "text/plain": [
       "DatetimeIndex(['2024-01-31', '2024-04-30', '2024-07-31', '2024-10-31',\n",
       "               '2025-01-31'],\n",
       "              dtype='datetime64[ns]', freq='3ME')"
      ]
     },
     "execution_count": 26,
     "metadata": {},
     "output_type": "execute_result"
    }
   ],
   "source": [
    "pd.date_range(start='2024-01-01', periods=5, freq='3ME')"
   ]
  }
 ],
 "metadata": {
  "kernelspec": {
   "display_name": "Python 3 (ipykernel)",
   "language": "python",
   "name": "python3"
  },
  "language_info": {
   "codemirror_mode": {
    "name": "ipython",
    "version": 3
   },
   "file_extension": ".py",
   "mimetype": "text/x-python",
   "name": "python",
   "nbconvert_exporter": "python",
   "pygments_lexer": "ipython3",
   "version": "3.10.0"
  }
 },
 "nbformat": 4,
 "nbformat_minor": 5
}
