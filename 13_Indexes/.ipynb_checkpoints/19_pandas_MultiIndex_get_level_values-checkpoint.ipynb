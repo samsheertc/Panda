{
 "cells": [
  {
   "cell_type": "code",
   "execution_count": 2,
   "id": "e23875da-85d7-486d-90a5-0074df1ed92e",
   "metadata": {},
   "outputs": [],
   "source": [
    "import pandas as pd\n",
    "import numpy as np"
   ]
  },
  {
   "cell_type": "code",
   "execution_count": 6,
   "id": "ad5c29f9-7584-4e31-bf92-6caac1b5b56d",
   "metadata": {},
   "outputs": [
    {
     "data": {
      "text/plain": [
       "MultiIndex([('a', 'd'),\n",
       "            ('b', 'e'),\n",
       "            ('c', 'f')],\n",
       "           names=['level_1', 'level_2'])"
      ]
     },
     "execution_count": 6,
     "metadata": {},
     "output_type": "execute_result"
    }
   ],
   "source": [
    "mi = pd.MultiIndex.from_arrays((list('abc'), list('def')))\n",
    "mi.names = ['level_1', 'level_2']\n",
    "mi"
   ]
  },
  {
   "cell_type": "code",
   "execution_count": 8,
   "id": "7445cb26-44d1-43a8-b20a-387d95975d8b",
   "metadata": {},
   "outputs": [
    {
     "data": {
      "text/plain": [
       "Index(['a', 'b', 'c'], dtype='object', name='level_1')"
      ]
     },
     "execution_count": 8,
     "metadata": {},
     "output_type": "execute_result"
    }
   ],
   "source": [
    "mi.get_level_values(0)"
   ]
  },
  {
   "cell_type": "code",
   "execution_count": 10,
   "id": "673fce74-e1d3-4478-a110-0ef1a2a70a6e",
   "metadata": {},
   "outputs": [
    {
     "data": {
      "text/plain": [
       "Index(['d', 'e', 'f'], dtype='object', name='level_2')"
      ]
     },
     "execution_count": 10,
     "metadata": {},
     "output_type": "execute_result"
    }
   ],
   "source": [
    "mi.get_level_values('level_2')"
   ]
  },
  {
   "cell_type": "code",
   "execution_count": 14,
   "id": "a2d47a16-10e0-4a4b-9772-78b033b25e65",
   "metadata": {},
   "outputs": [
    {
     "data": {
      "text/plain": [
       "level_0    int64\n",
       "level_1    int64\n",
       "dtype: object"
      ]
     },
     "execution_count": 14,
     "metadata": {},
     "output_type": "execute_result"
    }
   ],
   "source": [
    "pd.MultiIndex.from_arrays([\n",
    "    [1, None, 2],\n",
    "    [3, 4, 5]\n",
    "]).dtypes"
   ]
  },
  {
   "cell_type": "code",
   "execution_count": 16,
   "id": "ad4d0623-34c0-48a1-a6de-fa9e2984e675",
   "metadata": {},
   "outputs": [
    {
     "data": {
      "text/plain": [
       "Index([1.0, nan, 2.0], dtype='float64')"
      ]
     },
     "execution_count": 16,
     "metadata": {},
     "output_type": "execute_result"
    }
   ],
   "source": [
    "pd.MultiIndex.from_arrays([\n",
    "    [1, None, 2],\n",
    "    [3, 4, 5]\n",
    "]).get_level_values(0)\n"
   ]
  }
 ],
 "metadata": {
  "kernelspec": {
   "display_name": "Python 3 (ipykernel)",
   "language": "python",
   "name": "python3"
  },
  "language_info": {
   "codemirror_mode": {
    "name": "ipython",
    "version": 3
   },
   "file_extension": ".py",
   "mimetype": "text/x-python",
   "name": "python",
   "nbconvert_exporter": "python",
   "pygments_lexer": "ipython3",
   "version": "3.10.0"
  }
 },
 "nbformat": 4,
 "nbformat_minor": 5
}
