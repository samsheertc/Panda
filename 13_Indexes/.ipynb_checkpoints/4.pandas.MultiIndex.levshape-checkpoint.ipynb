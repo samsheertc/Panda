{
 "cells": [
  {
   "cell_type": "code",
   "execution_count": 2,
   "id": "1dae499b-d51e-4234-ba30-1418d1662e31",
   "metadata": {},
   "outputs": [],
   "source": [
    "import pandas as pd\n",
    "import numpy as np"
   ]
  },
  {
   "cell_type": "code",
   "execution_count": 3,
   "id": "788f93af-e300-4054-8bc6-5fc9b3f0507c",
   "metadata": {},
   "outputs": [
    {
     "data": {
      "text/plain": [
       "MultiIndex([('a', 'b', 'c')],\n",
       "           )"
      ]
     },
     "execution_count": 3,
     "metadata": {},
     "output_type": "execute_result"
    }
   ],
   "source": [
    "mi = pd.MultiIndex.from_arrays([['a'], ['b'], ['c']])\n",
    "mi"
   ]
  },
  {
   "cell_type": "code",
   "execution_count": 4,
   "id": "9822d835-65dc-4738-8f0f-cb238696ceff",
   "metadata": {},
   "outputs": [
    {
     "data": {
      "text/plain": [
       "(1, 1, 1)"
      ]
     },
     "execution_count": 4,
     "metadata": {},
     "output_type": "execute_result"
    }
   ],
   "source": [
    "mi.levshape"
   ]
  },
  {
   "cell_type": "code",
   "execution_count": 8,
   "id": "b7726c89-bd83-45f3-861c-e29d78a99a2a",
   "metadata": {},
   "outputs": [
    {
     "data": {
      "text/plain": [
       "MultiIndex([(1, 4, 7, 10),\n",
       "            (2, 5, 8, 11),\n",
       "            (3, 6, 9, 12)],\n",
       "           )"
      ]
     },
     "execution_count": 8,
     "metadata": {},
     "output_type": "execute_result"
    }
   ],
   "source": [
    "mi2 = pd.MultiIndex.from_arrays([ [1,2,3] , [4,5,6], [7,8,9], [10,11,12] ])\n",
    "mi2"
   ]
  },
  {
   "cell_type": "code",
   "execution_count": 9,
   "id": "42fb7f28-646e-4ad8-b189-63bc97d8f78e",
   "metadata": {},
   "outputs": [
    {
     "data": {
      "text/plain": [
       "(3, 3, 3, 3)"
      ]
     },
     "execution_count": 9,
     "metadata": {},
     "output_type": "execute_result"
    }
   ],
   "source": [
    "mi2.levshape"
   ]
  }
 ],
 "metadata": {
  "kernelspec": {
   "display_name": "Python 3 (ipykernel)",
   "language": "python",
   "name": "python3"
  },
  "language_info": {
   "codemirror_mode": {
    "name": "ipython",
    "version": 3
   },
   "file_extension": ".py",
   "mimetype": "text/x-python",
   "name": "python",
   "nbconvert_exporter": "python",
   "pygments_lexer": "ipython3",
   "version": "3.10.0"
  }
 },
 "nbformat": 4,
 "nbformat_minor": 5
}
