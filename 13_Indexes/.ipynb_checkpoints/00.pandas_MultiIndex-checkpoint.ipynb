{
 "cells": [
  {
   "cell_type": "code",
   "execution_count": 3,
   "id": "38a50e35-fd28-4fd1-9eec-1daee40563dc",
   "metadata": {},
   "outputs": [],
   "source": [
    "import pandas as pd\n",
    "import numpy as np"
   ]
  },
  {
   "cell_type": "code",
   "execution_count": 41,
   "id": "62004549-f54d-44f8-af96-5c1573fbec81",
   "metadata": {},
   "outputs": [
    {
     "data": {
      "text/plain": [
       "MultiIndex([('mammal',   'cat', 4),\n",
       "            ('mammal',   'dog', 4),\n",
       "            ('mammal',  'goat', 4),\n",
       "            ('mammal', 'human', 2)],\n",
       "           names=['Type', 'Animal', 'Leg'])"
      ]
     },
     "execution_count": 41,
     "metadata": {},
     "output_type": "execute_result"
    }
   ],
   "source": [
    "names =['Type', 'Animal', 'Leg']\n",
    "\n",
    "levels = [['mammal'], ['cat', 'dog', 'goat', 'human'] , [4, 2]]\n",
    "\n",
    "codes = [[0, 0, 0, 0], [0, 1, 2, 3] , [0, 0, 0, 1]]\n",
    "\n",
    "idx = pd.MultiIndex(levels=levels, codes=codes, names=names)\n",
    "\n",
    "idx"
   ]
  },
  {
   "cell_type": "code",
   "execution_count": 46,
   "id": "fe6b7682-30f0-43c8-aa22-9062666b7ebe",
   "metadata": {},
   "outputs": [
    {
     "data": {
      "text/plain": [
       "FrozenList([[0, 0, 0, 0], [0, 1, 2, 3], [0, 0, 0, 1]])"
      ]
     },
     "execution_count": 46,
     "metadata": {},
     "output_type": "execute_result"
    }
   ],
   "source": [
    "idx.codes"
   ]
  },
  {
   "cell_type": "code",
   "execution_count": 45,
   "id": "3ad4712d-da82-4ec9-823b-190fe3da9966",
   "metadata": {},
   "outputs": [
    {
     "data": {
      "text/plain": [
       "FrozenList([['mammal'], ['cat', 'dog', 'goat', 'human'], [4, 2]])"
      ]
     },
     "execution_count": 45,
     "metadata": {},
     "output_type": "execute_result"
    }
   ],
   "source": [
    "idx.levels"
   ]
  },
  {
   "cell_type": "code",
   "execution_count": 44,
   "id": "2c3e14b5-7b7e-4eb3-b7d6-ea6d52905cc4",
   "metadata": {},
   "outputs": [
    {
     "data": {
      "text/plain": [
       "3"
      ]
     },
     "execution_count": 44,
     "metadata": {},
     "output_type": "execute_result"
    }
   ],
   "source": [
    "idx.nlevels"
   ]
  },
  {
   "cell_type": "code",
   "execution_count": 42,
   "id": "6076ad66-fa3e-44f9-8fa2-430503079bb2",
   "metadata": {},
   "outputs": [
    {
     "data": {
      "text/plain": [
       "(1, 4, 2)"
      ]
     },
     "execution_count": 42,
     "metadata": {},
     "output_type": "execute_result"
    }
   ],
   "source": [
    "idx.levshape"
   ]
  },
  {
   "cell_type": "code",
   "execution_count": 43,
   "id": "a7c8fb0b-e997-456d-af53-1e1fd4051f8c",
   "metadata": {},
   "outputs": [
    {
     "data": {
      "text/plain": [
       "FrozenList(['Type', 'Animal', 'Leg'])"
      ]
     },
     "execution_count": 43,
     "metadata": {},
     "output_type": "execute_result"
    }
   ],
   "source": [
    "idx.names"
   ]
  }
 ],
 "metadata": {
  "kernelspec": {
   "display_name": "Python 3 (ipykernel)",
   "language": "python",
   "name": "python3"
  },
  "language_info": {
   "codemirror_mode": {
    "name": "ipython",
    "version": 3
   },
   "file_extension": ".py",
   "mimetype": "text/x-python",
   "name": "python",
   "nbconvert_exporter": "python",
   "pygments_lexer": "ipython3",
   "version": "3.10.0"
  }
 },
 "nbformat": 4,
 "nbformat_minor": 5
}
