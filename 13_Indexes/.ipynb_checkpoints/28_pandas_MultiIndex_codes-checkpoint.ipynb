{
 "cells": [
  {
   "cell_type": "code",
   "execution_count": 1,
   "id": "4282e137-bb93-43ac-b758-2bedf75ee0f9",
   "metadata": {},
   "outputs": [],
   "source": [
    "import pandas as pd\n",
    "import numpy as np"
   ]
  },
  {
   "cell_type": "code",
   "execution_count": 2,
   "id": "3a72f7c0-2efb-4ff2-b652-32cb3e460d3a",
   "metadata": {},
   "outputs": [
    {
     "data": {
      "text/plain": [
       "MultiIndex([(1,  6),\n",
       "            (2,  7),\n",
       "            (3,  8),\n",
       "            (4,  9),\n",
       "            (5, 10)],\n",
       "           )"
      ]
     },
     "execution_count": 2,
     "metadata": {},
     "output_type": "execute_result"
    }
   ],
   "source": [
    "mi2 = pd.MultiIndex.from_arrays([ [1,2,3,4,5] , [6,7,8,9,10] ])\n",
    "mi2"
   ]
  },
  {
   "cell_type": "code",
   "execution_count": 3,
   "id": "14af66c7-2a8e-4504-8c4d-a920fed627ac",
   "metadata": {},
   "outputs": [
    {
     "data": {
      "text/plain": [
       "FrozenList([[0, 1, 2, 3, 4], [0, 1, 2, 3, 4]])"
      ]
     },
     "execution_count": 3,
     "metadata": {},
     "output_type": "execute_result"
    }
   ],
   "source": [
    "mi2.codes"
   ]
  },
  {
   "cell_type": "code",
   "execution_count": 4,
   "id": "c2917d6a-6369-4b76-83f8-f51a181ff7a4",
   "metadata": {},
   "outputs": [
    {
     "data": {
      "text/plain": [
       "FrozenList([[1, 2, 3, 4, 5], [6, 7, 8, 9, 10]])"
      ]
     },
     "execution_count": 4,
     "metadata": {},
     "output_type": "execute_result"
    }
   ],
   "source": [
    "mi2.levels"
   ]
  }
 ],
 "metadata": {
  "kernelspec": {
   "display_name": "Python 3 (ipykernel)",
   "language": "python",
   "name": "python3"
  },
  "language_info": {
   "codemirror_mode": {
    "name": "ipython",
    "version": 3
   },
   "file_extension": ".py",
   "mimetype": "text/x-python",
   "name": "python",
   "nbconvert_exporter": "python",
   "pygments_lexer": "ipython3",
   "version": "3.10.0"
  }
 },
 "nbformat": 4,
 "nbformat_minor": 5
}
