{
 "cells": [
  {
   "cell_type": "code",
   "execution_count": 1,
   "id": "e23875da-85d7-486d-90a5-0074df1ed92e",
   "metadata": {},
   "outputs": [],
   "source": [
    "import pandas as pd\n",
    "import numpy as np"
   ]
  },
  {
   "cell_type": "code",
   "execution_count": 2,
   "id": "5ae48dff-ce9e-4752-91b4-f8713315d1fb",
   "metadata": {},
   "outputs": [
    {
     "data": {
      "text/plain": [
       "MultiIndex([(1, 3),\n",
       "            (2, 4)],\n",
       "           names=['x', 'y'])"
      ]
     },
     "execution_count": 2,
     "metadata": {},
     "output_type": "execute_result"
    }
   ],
   "source": [
    "mi = pd.MultiIndex.from_arrays([[1, 2], [3, 4]], names=['x', 'y'])\n",
    "mi"
   ]
  },
  {
   "cell_type": "code",
   "execution_count": 3,
   "id": "1d165889-1b7f-42aa-aacc-5327f882f229",
   "metadata": {},
   "outputs": [
    {
     "data": {
      "text/plain": [
       "MultiIndex([(3, 1),\n",
       "            (4, 2)],\n",
       "           names=['y', 'x'])"
      ]
     },
     "execution_count": 3,
     "metadata": {},
     "output_type": "execute_result"
    }
   ],
   "source": [
    "mi.reorder_levels(order=[1, 0])"
   ]
  },
  {
   "cell_type": "code",
   "execution_count": 5,
   "id": "861bb72a-8c70-44e4-ba47-cde675737ca4",
   "metadata": {},
   "outputs": [
    {
     "data": {
      "text/plain": [
       "MultiIndex([(3, 1),\n",
       "            (4, 2)],\n",
       "           names=['y', 'x'])"
      ]
     },
     "execution_count": 5,
     "metadata": {},
     "output_type": "execute_result"
    }
   ],
   "source": [
    "mi.reorder_levels(order=['y', 'x'])"
   ]
  },
  {
   "cell_type": "code",
   "execution_count": 7,
   "id": "39304063-b508-42e7-96e2-b89f40774609",
   "metadata": {},
   "outputs": [
    {
     "data": {
      "text/plain": [
       "MultiIndex([(3, 1),\n",
       "            (4, 2)],\n",
       "           names=['y', 'x'])"
      ]
     },
     "execution_count": 7,
     "metadata": {},
     "output_type": "execute_result"
    }
   ],
   "source": [
    "mi.swaplevel('y', 'x')"
   ]
  }
 ],
 "metadata": {
  "kernelspec": {
   "display_name": "Python 3 (ipykernel)",
   "language": "python",
   "name": "python3"
  },
  "language_info": {
   "codemirror_mode": {
    "name": "ipython",
    "version": 3
   },
   "file_extension": ".py",
   "mimetype": "text/x-python",
   "name": "python",
   "nbconvert_exporter": "python",
   "pygments_lexer": "ipython3",
   "version": "3.10.0"
  }
 },
 "nbformat": 4,
 "nbformat_minor": 5
}
