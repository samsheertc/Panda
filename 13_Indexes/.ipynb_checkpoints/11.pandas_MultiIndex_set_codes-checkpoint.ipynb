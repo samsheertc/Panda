{
 "cells": [
  {
   "cell_type": "code",
   "execution_count": 24,
   "id": "e23875da-85d7-486d-90a5-0074df1ed92e",
   "metadata": {},
   "outputs": [],
   "source": [
    "import pandas as pd\n",
    "import numpy as np"
   ]
  },
  {
   "cell_type": "code",
   "execution_count": 26,
   "id": "266bbef6-6e13-48b8-bbad-8bdbfabf5b01",
   "metadata": {},
   "outputs": [
    {
     "data": {
      "text/plain": [
       "MultiIndex([(1, 'one'),\n",
       "            (1, 'two'),\n",
       "            (2, 'one'),\n",
       "            (2, 'two')],\n",
       "           names=['foo', 'bar'])"
      ]
     },
     "execution_count": 26,
     "metadata": {},
     "output_type": "execute_result"
    }
   ],
   "source": [
    "idx = pd.MultiIndex.from_tuples(\n",
    "    [(1, \"one\"), (1, \"two\"), (2, \"one\"), (2, \"two\")], names=[\"foo\", \"bar\"]\n",
    ")\n",
    "idx"
   ]
  },
  {
   "cell_type": "code",
   "execution_count": 3,
   "id": "defa913c-6b97-4fcb-a20d-c469283bc069",
   "metadata": {},
   "outputs": [
    {
     "data": {
      "text/plain": [
       "MultiIndex([(2, 'one'),\n",
       "            (1, 'one'),\n",
       "            (2, 'two'),\n",
       "            (1, 'two')],\n",
       "           names=['foo', 'bar'])"
      ]
     },
     "execution_count": 3,
     "metadata": {},
     "output_type": "execute_result"
    }
   ],
   "source": [
    "idx.set_codes([[1, 0, 1, 0], [0, 0, 1, 1]])"
   ]
  },
  {
   "cell_type": "code",
   "execution_count": 4,
   "id": "4254da57-86f7-48d9-8d30-0c5b744faaca",
   "metadata": {},
   "outputs": [
    {
     "data": {
      "text/plain": [
       "MultiIndex([(2, 'one'),\n",
       "            (1, 'two'),\n",
       "            (2, 'one'),\n",
       "            (1, 'two')],\n",
       "           names=['foo', 'bar'])"
      ]
     },
     "execution_count": 4,
     "metadata": {},
     "output_type": "execute_result"
    }
   ],
   "source": [
    "idx.set_codes([1, 0, 1, 0], level=0)"
   ]
  },
  {
   "cell_type": "code",
   "execution_count": 5,
   "id": "5cc6bc1b-6cfe-4712-9359-c6523d851ed3",
   "metadata": {},
   "outputs": [
    {
     "data": {
      "text/plain": [
       "MultiIndex([(1, 'one'),\n",
       "            (1, 'one'),\n",
       "            (2, 'two'),\n",
       "            (2, 'two')],\n",
       "           names=['foo', 'bar'])"
      ]
     },
     "execution_count": 5,
     "metadata": {},
     "output_type": "execute_result"
    }
   ],
   "source": [
    "idx.set_codes([0, 0, 1, 1], level='bar')"
   ]
  },
  {
   "cell_type": "code",
   "execution_count": 6,
   "id": "f159e09c-4d6f-4d6a-8b5d-479355f6cbc8",
   "metadata": {},
   "outputs": [
    {
     "data": {
      "text/plain": [
       "MultiIndex([(2, 'one'),\n",
       "            (1, 'one'),\n",
       "            (2, 'two'),\n",
       "            (1, 'two')],\n",
       "           names=['foo', 'bar'])"
      ]
     },
     "execution_count": 6,
     "metadata": {},
     "output_type": "execute_result"
    }
   ],
   "source": [
    "idx.set_codes([[1, 0, 1, 0], [0, 0, 1, 1]], level=[0, 1])"
   ]
  }
 ],
 "metadata": {
  "kernelspec": {
   "display_name": "Python 3 (ipykernel)",
   "language": "python",
   "name": "python3"
  },
  "language_info": {
   "codemirror_mode": {
    "name": "ipython",
    "version": 3
   },
   "file_extension": ".py",
   "mimetype": "text/x-python",
   "name": "python",
   "nbconvert_exporter": "python",
   "pygments_lexer": "ipython3",
   "version": "3.10.0"
  }
 },
 "nbformat": 4,
 "nbformat_minor": 5
}
