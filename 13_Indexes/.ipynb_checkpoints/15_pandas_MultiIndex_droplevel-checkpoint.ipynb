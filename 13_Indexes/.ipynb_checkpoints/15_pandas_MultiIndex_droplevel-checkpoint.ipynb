{
 "cells": [
  {
   "cell_type": "code",
   "execution_count": 1,
   "id": "e23875da-85d7-486d-90a5-0074df1ed92e",
   "metadata": {},
   "outputs": [],
   "source": [
    "import pandas as pd\n",
    "import numpy as np"
   ]
  },
  {
   "cell_type": "code",
   "execution_count": 12,
   "id": "3fed7534-bd3d-463d-af27-b85e2c5c8644",
   "metadata": {},
   "outputs": [
    {
     "data": {
      "text/plain": [
       "MultiIndex([(1, 3, 5),\n",
       "            (2, 4, 6)],\n",
       "           names=['x', 'y', 'z'])"
      ]
     },
     "execution_count": 12,
     "metadata": {},
     "output_type": "execute_result"
    }
   ],
   "source": [
    "mi = pd.MultiIndex.from_arrays([[1, 2], [3, 4], [5, 6]], names=['x', 'y', 'z'])\n",
    "mi"
   ]
  },
  {
   "cell_type": "code",
   "execution_count": 11,
   "id": "2a800966-f635-4b77-91e2-2634cfb488cd",
   "metadata": {},
   "outputs": [
    {
     "data": {
      "text/plain": [
       "MultiIndex([(3, 5),\n",
       "            (4, 6)],\n",
       "           names=['y', 'z'])"
      ]
     },
     "execution_count": 11,
     "metadata": {},
     "output_type": "execute_result"
    }
   ],
   "source": [
    "mi.droplevel()"
   ]
  },
  {
   "cell_type": "code",
   "execution_count": 10,
   "id": "193335bf-772f-4d74-a5e8-eea99b75d014",
   "metadata": {},
   "outputs": [
    {
     "data": {
      "text/plain": [
       "MultiIndex([(1, 5),\n",
       "            (2, 6)],\n",
       "           names=['x', 'z'])"
      ]
     },
     "execution_count": 10,
     "metadata": {},
     "output_type": "execute_result"
    }
   ],
   "source": [
    "mi.droplevel(1)"
   ]
  },
  {
   "cell_type": "code",
   "execution_count": 9,
   "id": "08f08981-079b-4dc3-9c14-e5820fe7a925",
   "metadata": {},
   "outputs": [
    {
     "data": {
      "text/plain": [
       "MultiIndex([(1, 3),\n",
       "            (2, 4)],\n",
       "           names=['x', 'y'])"
      ]
     },
     "execution_count": 9,
     "metadata": {},
     "output_type": "execute_result"
    }
   ],
   "source": [
    "mi.droplevel(2)"
   ]
  },
  {
   "cell_type": "code",
   "execution_count": 13,
   "id": "f8862baf-fed9-443e-b16f-bfa799216c3e",
   "metadata": {},
   "outputs": [
    {
     "data": {
      "text/plain": [
       "MultiIndex([(1, 3),\n",
       "            (2, 4)],\n",
       "           names=['x', 'y'])"
      ]
     },
     "execution_count": 13,
     "metadata": {},
     "output_type": "execute_result"
    }
   ],
   "source": [
    "mi.droplevel('z')"
   ]
  },
  {
   "cell_type": "code",
   "execution_count": 8,
   "id": "7e712175-6eb1-4182-afaa-9b1a04a78aa4",
   "metadata": {},
   "outputs": [
    {
     "data": {
      "text/plain": [
       "Index([5, 6], dtype='int64', name='z')"
      ]
     },
     "execution_count": 8,
     "metadata": {},
     "output_type": "execute_result"
    }
   ],
   "source": [
    "mi.droplevel(['x', 'y'])"
   ]
  }
 ],
 "metadata": {
  "kernelspec": {
   "display_name": "Python 3 (ipykernel)",
   "language": "python",
   "name": "python3"
  },
  "language_info": {
   "codemirror_mode": {
    "name": "ipython",
    "version": 3
   },
   "file_extension": ".py",
   "mimetype": "text/x-python",
   "name": "python",
   "nbconvert_exporter": "python",
   "pygments_lexer": "ipython3",
   "version": "3.10.0"
  }
 },
 "nbformat": 4,
 "nbformat_minor": 5
}
