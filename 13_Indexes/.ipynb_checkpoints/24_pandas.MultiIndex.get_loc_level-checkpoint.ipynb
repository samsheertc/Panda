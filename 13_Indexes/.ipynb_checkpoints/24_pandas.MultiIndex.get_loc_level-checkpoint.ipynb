{
 "cells": [
  {
   "cell_type": "code",
   "execution_count": 1,
   "id": "e23875da-85d7-486d-90a5-0074df1ed92e",
   "metadata": {},
   "outputs": [],
   "source": [
    "import pandas as pd\n",
    "import numpy as np"
   ]
  },
  {
   "cell_type": "code",
   "execution_count": 2,
   "id": "b5200739-500f-443a-beac-4cdc5aee0638",
   "metadata": {},
   "outputs": [
    {
     "data": {
      "text/plain": [
       "MultiIndex([('a4', 'x1', 1),\n",
       "            ('a3', 'x2', 2),\n",
       "            ('a2', 'x3', 3),\n",
       "            ('a1', 'x4', 4)],\n",
       "           names=['x', 'y', 'z'])"
      ]
     },
     "execution_count": 2,
     "metadata": {},
     "output_type": "execute_result"
    }
   ],
   "source": [
    "mi = pd.MultiIndex.from_arrays([['a4','a3','a2','a1'], ['x1','x2','x3','x4'],[1,2,3,4]], names=['x', 'y','z'])\n",
    "mi"
   ]
  },
  {
   "cell_type": "code",
   "execution_count": 3,
   "id": "ba63cbf1-5344-4e25-9f7d-06dfdfb167b7",
   "metadata": {},
   "outputs": [
    {
     "data": {
      "text/plain": [
       "FrozenList([['a1', 'a2', 'a3', 'a4'], ['x1', 'x2', 'x3', 'x4'], [1, 2, 3, 4]])"
      ]
     },
     "execution_count": 3,
     "metadata": {},
     "output_type": "execute_result"
    }
   ],
   "source": [
    "mi.levels"
   ]
  },
  {
   "cell_type": "code",
   "execution_count": 4,
   "id": "dba96613-de8a-40f3-97d7-8dc297012bba",
   "metadata": {},
   "outputs": [
    {
     "data": {
      "text/plain": [
       "FrozenList([[3, 2, 1, 0], [0, 1, 2, 3], [0, 1, 2, 3]])"
      ]
     },
     "execution_count": 4,
     "metadata": {},
     "output_type": "execute_result"
    }
   ],
   "source": [
    "mi.codes"
   ]
  },
  {
   "cell_type": "code",
   "execution_count": 6,
   "id": "27321384-d21a-420e-8c42-2ae956fc54cc",
   "metadata": {},
   "outputs": [
    {
     "data": {
      "text/plain": [
       "MultiIndex([('a4', 'x1', 1),\n",
       "            ('a3', 'x2', 2),\n",
       "            ('a2', 'x3', 3),\n",
       "            ('a1', 'x4', 4)],\n",
       "           )"
      ]
     },
     "execution_count": 6,
     "metadata": {},
     "output_type": "execute_result"
    }
   ],
   "source": [
    "mi = pd.MultiIndex(levels=[ ['a1', 'a2', 'a3', 'a4'], ['x1', 'x2', 'x3', 'x4'],[1, 2, 3, 4] ],\n",
    "                   codes=[ [3, 2, 1, 0],[ 0, 1, 2, 3],[0, 1, 2, 3] ])\n",
    "mi"
   ]
  }
 ],
 "metadata": {
  "kernelspec": {
   "display_name": "Python 3 (ipykernel)",
   "language": "python",
   "name": "python3"
  },
  "language_info": {
   "codemirror_mode": {
    "name": "ipython",
    "version": 3
   },
   "file_extension": ".py",
   "mimetype": "text/x-python",
   "name": "python",
   "nbconvert_exporter": "python",
   "pygments_lexer": "ipython3",
   "version": "3.12.4"
  }
 },
 "nbformat": 4,
 "nbformat_minor": 5
}
