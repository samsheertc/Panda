{
 "cells": [
  {
   "cell_type": "code",
   "execution_count": 1,
   "id": "e23875da-85d7-486d-90a5-0074df1ed92e",
   "metadata": {},
   "outputs": [],
   "source": [
    "import pandas as pd\n",
    "import numpy as np"
   ]
  },
  {
   "cell_type": "code",
   "execution_count": 5,
   "id": "1c32e806-9551-462e-bfec-2520a21fa33c",
   "metadata": {},
   "outputs": [
    {
     "data": {
      "text/plain": [
       "MultiIndex([(0, 'a'),\n",
       "            (0, 'b'),\n",
       "            (1, 'a'),\n",
       "            (1, 'b')],\n",
       "           )"
      ]
     },
     "execution_count": 5,
     "metadata": {},
     "output_type": "execute_result"
    }
   ],
   "source": [
    "mi = pd.MultiIndex.from_product([range(2), list('ab')])\n",
    "mi"
   ]
  },
  {
   "cell_type": "code",
   "execution_count": 6,
   "id": "1ea3fe47-e470-412b-9d46-2dc209295853",
   "metadata": {},
   "outputs": [
    {
     "data": {
      "text/plain": [
       "MultiIndex([(1, 'a'),\n",
       "            (1, 'b')],\n",
       "           )"
      ]
     },
     "execution_count": 6,
     "metadata": {},
     "output_type": "execute_result"
    }
   ],
   "source": [
    "mi[2:]"
   ]
  },
  {
   "cell_type": "code",
   "execution_count": 7,
   "id": "777aa099-3b7d-49f4-b5a1-a5689003728f",
   "metadata": {},
   "outputs": [
    {
     "data": {
      "text/plain": [
       "MultiIndex([(1, 'a'),\n",
       "            (1, 'b')],\n",
       "           )"
      ]
     },
     "execution_count": 7,
     "metadata": {},
     "output_type": "execute_result"
    }
   ],
   "source": [
    "mi2 = mi[2:].remove_unused_levels()\n",
    "mi2"
   ]
  },
  {
   "cell_type": "code",
   "execution_count": 8,
   "id": "a645938e-d43d-464b-8e99-72a3f8a107cd",
   "metadata": {},
   "outputs": [
    {
     "data": {
      "text/plain": [
       "FrozenList([[0, 1], ['a', 'b']])"
      ]
     },
     "execution_count": 8,
     "metadata": {},
     "output_type": "execute_result"
    }
   ],
   "source": [
    "mi.levels"
   ]
  },
  {
   "cell_type": "code",
   "execution_count": 9,
   "id": "62c7d6a2-e0a3-46ac-bd6b-e8b0cbc878ab",
   "metadata": {},
   "outputs": [
    {
     "data": {
      "text/plain": [
       "FrozenList([[1], ['a', 'b']])"
      ]
     },
     "execution_count": 9,
     "metadata": {},
     "output_type": "execute_result"
    }
   ],
   "source": [
    "mi2.levels"
   ]
  }
 ],
 "metadata": {
  "kernelspec": {
   "display_name": "Python 3 (ipykernel)",
   "language": "python",
   "name": "python3"
  },
  "language_info": {
   "codemirror_mode": {
    "name": "ipython",
    "version": 3
   },
   "file_extension": ".py",
   "mimetype": "text/x-python",
   "name": "python",
   "nbconvert_exporter": "python",
   "pygments_lexer": "ipython3",
   "version": "3.10.0"
  }
 },
 "nbformat": 4,
 "nbformat_minor": 5
}
