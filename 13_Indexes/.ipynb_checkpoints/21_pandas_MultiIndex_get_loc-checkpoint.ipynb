{
 "cells": [
  {
   "cell_type": "code",
   "execution_count": 28,
   "id": "e23875da-85d7-486d-90a5-0074df1ed92e",
   "metadata": {},
   "outputs": [],
   "source": [
    "import pandas as pd\n",
    "import numpy as np"
   ]
  },
  {
   "cell_type": "code",
   "execution_count": 39,
   "id": "80e12154-e683-4e57-9f5c-090b02d45c74",
   "metadata": {},
   "outputs": [
    {
     "data": {
      "text/plain": [
       "MultiIndex([('a', 'd'),\n",
       "            ('b', 'e'),\n",
       "            ('b', 'f')],\n",
       "           )"
      ]
     },
     "execution_count": 39,
     "metadata": {},
     "output_type": "execute_result"
    }
   ],
   "source": [
    "mi = pd.MultiIndex.from_arrays([list('abb'), list('def')])\n",
    "\n",
    "mi"
   ]
  },
  {
   "cell_type": "code",
   "execution_count": 40,
   "id": "e799fd02-c5e3-4788-874c-bc39272ba1d2",
   "metadata": {},
   "outputs": [
    {
     "data": {
      "text/plain": [
       "slice(np.int64(1), np.int64(3), None)"
      ]
     },
     "execution_count": 40,
     "metadata": {},
     "output_type": "execute_result"
    }
   ],
   "source": [
    "mi.get_loc('b')"
   ]
  },
  {
   "cell_type": "code",
   "execution_count": 41,
   "id": "e184c096-af42-4267-a45d-32a0881c52f6",
   "metadata": {},
   "outputs": [
    {
     "data": {
      "text/plain": [
       "0"
      ]
     },
     "execution_count": 41,
     "metadata": {},
     "output_type": "execute_result"
    }
   ],
   "source": [
    "mi.get_loc(('a', 'd'))"
   ]
  },
  {
   "cell_type": "code",
   "execution_count": 42,
   "id": "b7ef332e-5cda-48df-8135-cd9a82468a90",
   "metadata": {},
   "outputs": [
    {
     "data": {
      "text/plain": [
       "1"
      ]
     },
     "execution_count": 42,
     "metadata": {},
     "output_type": "execute_result"
    }
   ],
   "source": [
    "mi.get_loc(('b', 'e'))"
   ]
  },
  {
   "cell_type": "code",
   "execution_count": 43,
   "id": "78bf8335-abca-4194-9ed3-2b65125ebd9b",
   "metadata": {},
   "outputs": [
    {
     "data": {
      "text/plain": [
       "2"
      ]
     },
     "execution_count": 43,
     "metadata": {},
     "output_type": "execute_result"
    }
   ],
   "source": [
    "mi.get_loc(('b', 'f'))"
   ]
  }
 ],
 "metadata": {
  "kernelspec": {
   "display_name": "Python 3 (ipykernel)",
   "language": "python",
   "name": "python3"
  },
  "language_info": {
   "codemirror_mode": {
    "name": "ipython",
    "version": 3
   },
   "file_extension": ".py",
   "mimetype": "text/x-python",
   "name": "python",
   "nbconvert_exporter": "python",
   "pygments_lexer": "ipython3",
   "version": "3.10.0"
  }
 },
 "nbformat": 4,
 "nbformat_minor": 5
}
