{
 "cells": [
  {
   "cell_type": "code",
   "execution_count": 4,
   "id": "e23875da-85d7-486d-90a5-0074df1ed92e",
   "metadata": {},
   "outputs": [],
   "source": [
    "import pandas as pd\n",
    "import numpy as np"
   ]
  },
  {
   "cell_type": "code",
   "execution_count": 10,
   "id": "80e12154-e683-4e57-9f5c-090b02d45c74",
   "metadata": {},
   "outputs": [
    {
     "data": {
      "text/plain": [
       "MultiIndex([('a', 'd'),\n",
       "            ('b', 'e'),\n",
       "            ('b', 'f')],\n",
       "           )"
      ]
     },
     "execution_count": 10,
     "metadata": {},
     "output_type": "execute_result"
    }
   ],
   "source": [
    "mi = pd.MultiIndex.from_arrays([list('abb'), list('def')])\n",
    "\n",
    "mi"
   ]
  },
  {
   "cell_type": "code",
   "execution_count": 30,
   "id": "e799fd02-c5e3-4788-874c-bc39272ba1d2",
   "metadata": {},
   "outputs": [
    {
     "data": {
      "text/plain": [
       "slice(1, 3, None)"
      ]
     },
     "execution_count": 30,
     "metadata": {},
     "output_type": "execute_result"
    }
   ],
   "source": [
    "mi.get_loc('b')"
   ]
  },
  {
   "cell_type": "code",
   "execution_count": 24,
   "id": "e184c096-af42-4267-a45d-32a0881c52f6",
   "metadata": {},
   "outputs": [
    {
     "data": {
      "text/plain": [
       "0"
      ]
     },
     "execution_count": 24,
     "metadata": {},
     "output_type": "execute_result"
    }
   ],
   "source": [
    "mi.get_loc(('a', 'd'))"
   ]
  },
  {
   "cell_type": "code",
   "execution_count": 22,
   "id": "b7ef332e-5cda-48df-8135-cd9a82468a90",
   "metadata": {},
   "outputs": [
    {
     "data": {
      "text/plain": [
       "1"
      ]
     },
     "execution_count": 22,
     "metadata": {},
     "output_type": "execute_result"
    }
   ],
   "source": [
    "mi.get_loc(('b', 'e'))"
   ]
  },
  {
   "cell_type": "code",
   "execution_count": 18,
   "id": "78bf8335-abca-4194-9ed3-2b65125ebd9b",
   "metadata": {},
   "outputs": [
    {
     "data": {
      "text/plain": [
       "2"
      ]
     },
     "execution_count": 18,
     "metadata": {},
     "output_type": "execute_result"
    }
   ],
   "source": [
    "mi.get_loc(('b', 'f'))"
   ]
  }
 ],
 "metadata": {
  "kernelspec": {
   "display_name": "Python 3 (ipykernel)",
   "language": "python",
   "name": "python3"
  },
  "language_info": {
   "codemirror_mode": {
    "name": "ipython",
    "version": 3
   },
   "file_extension": ".py",
   "mimetype": "text/x-python",
   "name": "python",
   "nbconvert_exporter": "python",
   "pygments_lexer": "ipython3",
   "version": "3.12.4"
  }
 },
 "nbformat": 4,
 "nbformat_minor": 5
}
