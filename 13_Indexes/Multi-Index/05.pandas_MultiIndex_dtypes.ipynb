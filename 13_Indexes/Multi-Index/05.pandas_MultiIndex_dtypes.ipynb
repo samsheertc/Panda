{
 "cells": [
  {
   "cell_type": "code",
   "execution_count": 10,
   "id": "1dae499b-d51e-4234-ba30-1418d1662e31",
   "metadata": {},
   "outputs": [],
   "source": [
    "import pandas as pd\n",
    "import numpy as np"
   ]
  },
  {
   "cell_type": "code",
   "execution_count": 11,
   "id": "342cb480-dc56-46b2-b680-5e8a6a6f334f",
   "metadata": {},
   "outputs": [
    {
     "data": {
      "text/plain": [
       "MultiIndex([(0,  'green'),\n",
       "            (0, 'purple'),\n",
       "            (1,  'green'),\n",
       "            (1, 'purple'),\n",
       "            (2,  'green'),\n",
       "            (2, 'purple')],\n",
       "           names=['number', 'color'])"
      ]
     },
     "execution_count": 11,
     "metadata": {},
     "output_type": "execute_result"
    }
   ],
   "source": [
    "idx = pd.MultiIndex.from_product([(0, 1, 2), ('green', 'purple')],\n",
    "                                 names=['number', 'color'])\n",
    "idx"
   ]
  },
  {
   "cell_type": "code",
   "execution_count": 12,
   "id": "d302dee4-4c94-4f25-b8b4-79f31f9b2152",
   "metadata": {},
   "outputs": [
    {
     "data": {
      "text/plain": [
       "number     int64\n",
       "color     object\n",
       "dtype: object"
      ]
     },
     "execution_count": 12,
     "metadata": {},
     "output_type": "execute_result"
    }
   ],
   "source": [
    "idx.dtypes"
   ]
  }
 ],
 "metadata": {
  "kernelspec": {
   "display_name": "Python 3 (ipykernel)",
   "language": "python",
   "name": "python3"
  },
  "language_info": {
   "codemirror_mode": {
    "name": "ipython",
    "version": 3
   },
   "file_extension": ".py",
   "mimetype": "text/x-python",
   "name": "python",
   "nbconvert_exporter": "python",
   "pygments_lexer": "ipython3",
   "version": "3.10.0"
  }
 },
 "nbformat": 4,
 "nbformat_minor": 5
}
