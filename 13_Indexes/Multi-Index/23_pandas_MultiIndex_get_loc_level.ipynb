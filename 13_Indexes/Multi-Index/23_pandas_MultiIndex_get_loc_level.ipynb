{
 "cells": [
  {
   "cell_type": "code",
   "execution_count": 4,
   "id": "b5200739-500f-443a-beac-4cdc5aee0638",
   "metadata": {},
   "outputs": [],
   "source": [
    "import pandas as pd"
   ]
  },
  {
   "cell_type": "code",
   "execution_count": 6,
   "id": "27321384-d21a-420e-8c42-2ae956fc54cc",
   "metadata": {},
   "outputs": [
    {
     "data": {
      "text/plain": [
       "MultiIndex([('a', 'd'),\n",
       "            ('b', 'e'),\n",
       "            ('b', 'f')],\n",
       "           names=['A', 'B'])"
      ]
     },
     "execution_count": 6,
     "metadata": {},
     "output_type": "execute_result"
    }
   ],
   "source": [
    "mi = pd.MultiIndex.from_arrays([list('abb'), list('def')],\n",
    "                               names=['A', 'B'])\n",
    "mi"
   ]
  },
  {
   "cell_type": "code",
   "execution_count": 10,
   "id": "e26eb32c-e962-4853-b8fb-54f8e99eb3f8",
   "metadata": {},
   "outputs": [
    {
     "data": {
      "text/plain": [
       "(slice(1, 3, None), Index(['e', 'f'], dtype='object', name='B'))"
      ]
     },
     "execution_count": 10,
     "metadata": {},
     "output_type": "execute_result"
    }
   ],
   "source": [
    "mi.get_loc_level('b')"
   ]
  },
  {
   "cell_type": "code",
   "execution_count": 13,
   "id": "d717ea0b-720d-434b-97df-06bfb097762d",
   "metadata": {},
   "outputs": [
    {
     "data": {
      "text/plain": [
       "(array([False,  True, False]), Index(['b'], dtype='object', name='A'))"
      ]
     },
     "execution_count": 13,
     "metadata": {},
     "output_type": "execute_result"
    }
   ],
   "source": [
    "mi.get_loc_level('e', level='B')"
   ]
  },
  {
   "cell_type": "code",
   "execution_count": 16,
   "id": "db5d54f1-a535-46b0-add2-49187eda2146",
   "metadata": {},
   "outputs": [
    {
     "data": {
      "text/plain": [
       "(1, None)"
      ]
     },
     "execution_count": 16,
     "metadata": {},
     "output_type": "execute_result"
    }
   ],
   "source": [
    "mi.get_loc_level(['b', 'e'])\n"
   ]
  }
 ],
 "metadata": {
  "kernelspec": {
   "display_name": "Python 3 (ipykernel)",
   "language": "python",
   "name": "python3"
  },
  "language_info": {
   "codemirror_mode": {
    "name": "ipython",
    "version": 3
   },
   "file_extension": ".py",
   "mimetype": "text/x-python",
   "name": "python",
   "nbconvert_exporter": "python",
   "pygments_lexer": "ipython3",
   "version": "3.12.4"
  }
 },
 "nbformat": 4,
 "nbformat_minor": 5
}
