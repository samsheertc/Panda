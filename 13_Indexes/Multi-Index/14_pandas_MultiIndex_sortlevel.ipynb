{
 "cells": [
  {
   "cell_type": "code",
   "execution_count": 1,
   "id": "e23875da-85d7-486d-90a5-0074df1ed92e",
   "metadata": {},
   "outputs": [],
   "source": [
    "import pandas as pd\n",
    "import numpy as np"
   ]
  },
  {
   "cell_type": "code",
   "execution_count": 37,
   "id": "a2cf9b3d-03fd-4568-a229-a93b66e3dc7f",
   "metadata": {},
   "outputs": [
    {
     "data": {
      "text/plain": [
       "MultiIndex([(0, 2),\n",
       "            (0, 1)],\n",
       "           )"
      ]
     },
     "execution_count": 37,
     "metadata": {},
     "output_type": "execute_result"
    }
   ],
   "source": [
    "mi = pd.MultiIndex.from_arrays([[0, 0], [2, 1]])\n",
    "mi"
   ]
  },
  {
   "cell_type": "code",
   "execution_count": 38,
   "id": "db499ab6-2967-49a9-b2a1-1b5d3f18122f",
   "metadata": {},
   "outputs": [
    {
     "data": {
      "text/plain": [
       "(MultiIndex([(0, 1),\n",
       "             (0, 2)],\n",
       "            ),\n",
       " array([1, 0]))"
      ]
     },
     "execution_count": 38,
     "metadata": {},
     "output_type": "execute_result"
    }
   ],
   "source": [
    "mi.sortlevel()"
   ]
  },
  {
   "cell_type": "code",
   "execution_count": 39,
   "id": "2090186b-6dad-4e4f-acaa-3b69178535f4",
   "metadata": {},
   "outputs": [
    {
     "data": {
      "text/plain": [
       "(MultiIndex([(0, 2),\n",
       "             (0, 1)],\n",
       "            ),\n",
       " array([0, 1]))"
      ]
     },
     "execution_count": 39,
     "metadata": {},
     "output_type": "execute_result"
    }
   ],
   "source": [
    "mi.sortlevel(sort_remaining=False)"
   ]
  },
  {
   "cell_type": "code",
   "execution_count": 40,
   "id": "18dc4a32-bc4e-417a-b9e0-f47305f8b06f",
   "metadata": {},
   "outputs": [
    {
     "data": {
      "text/plain": [
       "(MultiIndex([(0, 1),\n",
       "             (0, 2)],\n",
       "            ),\n",
       " array([1, 0]))"
      ]
     },
     "execution_count": 40,
     "metadata": {},
     "output_type": "execute_result"
    }
   ],
   "source": [
    "mi.sortlevel(1)"
   ]
  },
  {
   "cell_type": "code",
   "execution_count": 41,
   "id": "11f85b05-cf91-49b3-9ae0-5b4683dc08fb",
   "metadata": {},
   "outputs": [
    {
     "data": {
      "text/plain": [
       "(MultiIndex([(0, 2),\n",
       "             (0, 1)],\n",
       "            ),\n",
       " array([0, 1]))"
      ]
     },
     "execution_count": 41,
     "metadata": {},
     "output_type": "execute_result"
    }
   ],
   "source": [
    "mi.sortlevel(1, ascending=False)"
   ]
  }
 ],
 "metadata": {
  "kernelspec": {
   "display_name": "Python 3 (ipykernel)",
   "language": "python",
   "name": "python3"
  },
  "language_info": {
   "codemirror_mode": {
    "name": "ipython",
    "version": 3
   },
   "file_extension": ".py",
   "mimetype": "text/x-python",
   "name": "python",
   "nbconvert_exporter": "python",
   "pygments_lexer": "ipython3",
   "version": "3.10.0"
  }
 },
 "nbformat": 4,
 "nbformat_minor": 5
}
