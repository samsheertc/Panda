{
 "cells": [
  {
   "cell_type": "code",
   "execution_count": 2,
   "id": "8bb29a40-a35c-4951-86ff-065d66ba3a44",
   "metadata": {},
   "outputs": [],
   "source": [
    "import pandas as pd\n",
    "import numpy as np"
   ]
  },
  {
   "cell_type": "code",
   "execution_count": 3,
   "id": "fb19b6ca-2881-450b-afd7-5cf3bb2ffc78",
   "metadata": {},
   "outputs": [
    {
     "data": {
      "text/plain": [
       "MultiIndex([(1, 3, 5),\n",
       "            (2, 4, 6)],\n",
       "           names=['x', 'y', 'z'])"
      ]
     },
     "execution_count": 3,
     "metadata": {},
     "output_type": "execute_result"
    }
   ],
   "source": [
    "mi = pd.MultiIndex.from_arrays(\n",
    "[[1, 2], [3, 4], [5, 6]], names=['x', 'y', 'z'])\n",
    "\n",
    "mi"
   ]
  },
  {
   "cell_type": "code",
   "execution_count": 5,
   "id": "ce40bcb6-b0dd-4887-9fc0-a8bcb740829b",
   "metadata": {},
   "outputs": [
    {
     "data": {
      "text/plain": [
       "MultiIndex([(1,  6),\n",
       "            (2,  7),\n",
       "            (3,  8),\n",
       "            (4,  9),\n",
       "            (5, 10)],\n",
       "           )"
      ]
     },
     "execution_count": 5,
     "metadata": {},
     "output_type": "execute_result"
    }
   ],
   "source": [
    "mi2 = pd.MultiIndex.from_arrays([ [1,2,3,4,5] , [6,7,8,9,10] ])\n",
    "mi2"
   ]
  },
  {
   "cell_type": "code",
   "execution_count": 4,
   "id": "749e4f75-c70a-41d2-b940-fa6724575efa",
   "metadata": {},
   "outputs": [
    {
     "data": {
      "text/plain": [
       "FrozenList(['x', 'y', 'z'])"
      ]
     },
     "execution_count": 4,
     "metadata": {},
     "output_type": "execute_result"
    }
   ],
   "source": [
    "mi.names"
   ]
  },
  {
   "cell_type": "code",
   "execution_count": 6,
   "id": "dfee634b-5b17-4af1-a808-0194d76febba",
   "metadata": {},
   "outputs": [
    {
     "data": {
      "text/plain": [
       "FrozenList([None, None])"
      ]
     },
     "execution_count": 6,
     "metadata": {},
     "output_type": "execute_result"
    }
   ],
   "source": [
    "mi2.names"
   ]
  }
 ],
 "metadata": {
  "kernelspec": {
   "display_name": "Python 3 (ipykernel)",
   "language": "python",
   "name": "python3"
  },
  "language_info": {
   "codemirror_mode": {
    "name": "ipython",
    "version": 3
   },
   "file_extension": ".py",
   "mimetype": "text/x-python",
   "name": "python",
   "nbconvert_exporter": "python",
   "pygments_lexer": "ipython3",
   "version": "3.10.0"
  }
 },
 "nbformat": 4,
 "nbformat_minor": 5
}
