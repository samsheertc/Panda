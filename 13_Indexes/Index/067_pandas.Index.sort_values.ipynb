{
 "cells": [
  {
   "cell_type": "code",
   "execution_count": 2,
   "id": "43266452-389e-4408-9d10-706caf57068a",
   "metadata": {},
   "outputs": [],
   "source": [
    "import pandas as pd\n",
    "import numpy as np"
   ]
  },
  {
   "cell_type": "code",
   "execution_count": null,
   "id": "e772aa1b-7280-4680-a8a3-2cc383a6d67f",
   "metadata": {},
   "outputs": [],
   "source": [
    "pandas.Index.sort_values\n",
    "\n",
    "Index.sort_values(*, return_indexer=False, ascending=True, na_position='last', key=None)[source]\n",
    "\n",
    "Return a sorted copy of the index.\n",
    "\n",
    "Return a sorted copy of the index, and optionally return the indices that sorted the index itself.\n",
    "\n",
    "\n",
    "return_indexer\n",
    "bool, default False\n",
    "Should the indices that would sort the index be returned.\n",
    "\n",
    "ascending\n",
    "bool, default True\n",
    "Should the index values be sorted in an ascending order.\n",
    "\n",
    "na_position\n",
    "{‘first’ or ‘last’}, default ‘last’\n",
    "Argument ‘first’ puts NaNs at the beginning, ‘last’ puts NaNs at the end.\n",
    "\n",
    "key\n",
    "callable, optional\n",
    "If not None, apply the key function to the index values before sorting.\n",
    "This is similar to the key argument in the builtin sorted() function, with the notable difference that this key function should be vectorized. It should expect an Index and return an Index of the same shape.\n"
   ]
  },
  {
   "cell_type": "code",
   "execution_count": 6,
   "id": "b15fea90-5089-4c10-bc5b-9cd257880837",
   "metadata": {},
   "outputs": [
    {
     "data": {
      "text/plain": [
       "Index([10.0, 100.0, 1.0, 1000.0, nan], dtype='float64')"
      ]
     },
     "execution_count": 6,
     "metadata": {},
     "output_type": "execute_result"
    }
   ],
   "source": [
    "idx = pd.Index([10, 100, 1, 1000, None])\n",
    "idx"
   ]
  },
  {
   "cell_type": "code",
   "execution_count": 7,
   "id": "ddb4b194-2d52-45b3-a6d9-ab08a7b89178",
   "metadata": {},
   "outputs": [
    {
     "data": {
      "text/plain": [
       "Index([1.0, 10.0, 100.0, 1000.0, nan], dtype='float64')"
      ]
     },
     "execution_count": 7,
     "metadata": {},
     "output_type": "execute_result"
    }
   ],
   "source": [
    "idx.sort_values()"
   ]
  },
  {
   "cell_type": "code",
   "execution_count": 8,
   "id": "785a4967-814e-4773-a08f-26da1b32d266",
   "metadata": {},
   "outputs": [
    {
     "data": {
      "text/plain": [
       "(Index([nan, 1000.0, 100.0, 10.0, 1.0], dtype='float64'),\n",
       " array([4, 3, 1, 0, 2]))"
      ]
     },
     "execution_count": 8,
     "metadata": {},
     "output_type": "execute_result"
    }
   ],
   "source": [
    "idx.sort_values(ascending=False, return_indexer=True, na_position='first')"
   ]
  }
 ],
 "metadata": {
  "kernelspec": {
   "display_name": "Python 3 (ipykernel)",
   "language": "python",
   "name": "python3"
  },
  "language_info": {
   "codemirror_mode": {
    "name": "ipython",
    "version": 3
   },
   "file_extension": ".py",
   "mimetype": "text/x-python",
   "name": "python",
   "nbconvert_exporter": "python",
   "pygments_lexer": "ipython3",
   "version": "3.10.0"
  }
 },
 "nbformat": 4,
 "nbformat_minor": 5
}
