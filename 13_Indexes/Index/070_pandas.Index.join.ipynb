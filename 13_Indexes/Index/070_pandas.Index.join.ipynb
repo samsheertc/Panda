{
 "cells": [
  {
   "cell_type": "code",
   "execution_count": 4,
   "id": "43266452-389e-4408-9d10-706caf57068a",
   "metadata": {},
   "outputs": [],
   "source": [
    "import pandas as pd\n",
    "import numpy as np"
   ]
  },
  {
   "cell_type": "code",
   "execution_count": null,
   "id": "e772aa1b-7280-4680-a8a3-2cc383a6d67f",
   "metadata": {},
   "outputs": [],
   "source": [
    "pandas.Index.join\n",
    "\n",
    "Index.join(other, how='left', level=None, return_indexers=False, sort=False)\n",
    "\n",
    "Compute join_index and indexers to conform data structures to the new index.\n",
    "\n",
    "other : Index\n",
    "\n",
    "how : {‘left’, ‘right’, ‘inner’, ‘outer’}\n",
    "\n",
    "level : int or level name, default None\n",
    "\n",
    "return_indexers : bool, default False\n",
    "\n",
    "sort : bool, default False\n",
    "\n",
    "Sort the join keys lexicographically in the result Index. If False, the order of the join keys depends on the join type (how keyword)."
   ]
  },
  {
   "cell_type": "code",
   "execution_count": 43,
   "id": "b15fea90-5089-4c10-bc5b-9cd257880837",
   "metadata": {},
   "outputs": [],
   "source": [
    "idx1 = pd.Index([1, 2, 3])\n",
    "idx2 = pd.Index([4, 5, 6])"
   ]
  },
  {
   "cell_type": "code",
   "execution_count": 51,
   "id": "ddb4b194-2d52-45b3-a6d9-ab08a7b89178",
   "metadata": {},
   "outputs": [
    {
     "data": {
      "text/plain": [
       "Index([1, 2, 3], dtype='int64')"
      ]
     },
     "execution_count": 51,
     "metadata": {},
     "output_type": "execute_result"
    }
   ],
   "source": [
    "idx1"
   ]
  },
  {
   "cell_type": "code",
   "execution_count": 52,
   "id": "d477ef8b-ce45-41e2-a3fa-b993d47e7460",
   "metadata": {},
   "outputs": [
    {
     "data": {
      "text/plain": [
       "Index([4, 5, 6], dtype='int64')"
      ]
     },
     "execution_count": 52,
     "metadata": {},
     "output_type": "execute_result"
    }
   ],
   "source": [
    "idx2"
   ]
  },
  {
   "cell_type": "code",
   "execution_count": 53,
   "id": "785a4967-814e-4773-a08f-26da1b32d266",
   "metadata": {},
   "outputs": [
    {
     "data": {
      "text/plain": [
       "(Index([1, 2, 3, 4, 5, 6], dtype='int64'),\n",
       " array([ 0,  1,  2, -1, -1, -1]),\n",
       " array([-1, -1, -1,  0,  1,  2]))"
      ]
     },
     "execution_count": 53,
     "metadata": {},
     "output_type": "execute_result"
    }
   ],
   "source": [
    "idx1.join(idx2, how='outer', return_indexers=True)"
   ]
  },
  {
   "cell_type": "code",
   "execution_count": 54,
   "id": "51175187-7f55-4de8-8bad-1b3abe3fb1a0",
   "metadata": {},
   "outputs": [
    {
     "data": {
      "text/plain": [
       "(Index([1, 2, 3], dtype='int64'), None, array([-1, -1, -1]))"
      ]
     },
     "execution_count": 54,
     "metadata": {},
     "output_type": "execute_result"
    }
   ],
   "source": [
    "idx1.join(idx2, how='left', return_indexers=True)"
   ]
  },
  {
   "cell_type": "code",
   "execution_count": 55,
   "id": "40fe261d-3a36-4577-8ad8-14e297964dd5",
   "metadata": {},
   "outputs": [
    {
     "data": {
      "text/plain": [
       "(Index([4, 5, 6], dtype='int64'), array([-1, -1, -1]), None)"
      ]
     },
     "execution_count": 55,
     "metadata": {},
     "output_type": "execute_result"
    }
   ],
   "source": [
    "idx1.join(idx2, how='right', return_indexers=True)"
   ]
  },
  {
   "cell_type": "code",
   "execution_count": 56,
   "id": "92208f60-22e3-4435-99f4-1728ebcf029b",
   "metadata": {},
   "outputs": [
    {
     "data": {
      "text/plain": [
       "(Index([], dtype='int64'), array([], dtype=int64), array([], dtype=int64))"
      ]
     },
     "execution_count": 56,
     "metadata": {},
     "output_type": "execute_result"
    }
   ],
   "source": [
    "idx1.join(idx2, how='inner', return_indexers=True)"
   ]
  }
 ],
 "metadata": {
  "kernelspec": {
   "display_name": "Python 3 (ipykernel)",
   "language": "python",
   "name": "python3"
  },
  "language_info": {
   "codemirror_mode": {
    "name": "ipython",
    "version": 3
   },
   "file_extension": ".py",
   "mimetype": "text/x-python",
   "name": "python",
   "nbconvert_exporter": "python",
   "pygments_lexer": "ipython3",
   "version": "3.10.0"
  }
 },
 "nbformat": 4,
 "nbformat_minor": 5
}
