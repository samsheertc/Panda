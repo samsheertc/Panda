{
 "cells": [
  {
   "cell_type": "code",
   "execution_count": 4,
   "id": "43266452-389e-4408-9d10-706caf57068a",
   "metadata": {},
   "outputs": [],
   "source": [
    "import pandas as pd\n",
    "import numpy as np"
   ]
  },
  {
   "cell_type": "code",
   "execution_count": null,
   "id": "e772aa1b-7280-4680-a8a3-2cc383a6d67f",
   "metadata": {},
   "outputs": [],
   "source": [
    "pandas.Index.equals\n",
    "\n",
    "Index.equals(other)\n",
    "\n",
    "Determine if two Index object are equal.\n",
    "\n",
    "The things that are being compared are:\n",
    "\n",
    "1. The elements inside the Index object.\n",
    "2. The order of the elements inside the Index object."
   ]
  },
  {
   "cell_type": "code",
   "execution_count": 14,
   "id": "b15fea90-5089-4c10-bc5b-9cd257880837",
   "metadata": {},
   "outputs": [
    {
     "data": {
      "text/plain": [
       "Index([1, 2, 3], dtype='int64')"
      ]
     },
     "execution_count": 14,
     "metadata": {},
     "output_type": "execute_result"
    }
   ],
   "source": [
    "idx1 = pd.Index([1, 2, 3])\n",
    "idx1"
   ]
  },
  {
   "cell_type": "code",
   "execution_count": 10,
   "id": "ddb4b194-2d52-45b3-a6d9-ab08a7b89178",
   "metadata": {},
   "outputs": [
    {
     "data": {
      "text/plain": [
       "True"
      ]
     },
     "execution_count": 10,
     "metadata": {},
     "output_type": "execute_result"
    }
   ],
   "source": [
    "idx1.equals(pd.Index([1, 2, 3]))"
   ]
  },
  {
   "cell_type": "code",
   "execution_count": null,
   "id": "c9107828-0521-447f-8515-b38b12ff7eac",
   "metadata": {},
   "outputs": [],
   "source": [
    "#The elements inside are compared"
   ]
  },
  {
   "cell_type": "code",
   "execution_count": 12,
   "id": "785a4967-814e-4773-a08f-26da1b32d266",
   "metadata": {},
   "outputs": [
    {
     "data": {
      "text/plain": [
       "Index(['1', '2', '3'], dtype='object')"
      ]
     },
     "execution_count": 12,
     "metadata": {},
     "output_type": "execute_result"
    }
   ],
   "source": [
    "idx2 = pd.Index([\"1\", \"2\", \"3\"])\n",
    "idx2"
   ]
  },
  {
   "cell_type": "code",
   "execution_count": 16,
   "id": "ddf0b900-291d-41a3-893b-e8559413a61e",
   "metadata": {},
   "outputs": [
    {
     "data": {
      "text/plain": [
       "False"
      ]
     },
     "execution_count": 16,
     "metadata": {},
     "output_type": "execute_result"
    }
   ],
   "source": [
    "idx1.equals(idx2)"
   ]
  },
  {
   "cell_type": "code",
   "execution_count": null,
   "id": "f33c7373-246e-4d07-8eea-8a424a75a154",
   "metadata": {},
   "outputs": [],
   "source": [
    "#The order is compared"
   ]
  },
  {
   "cell_type": "code",
   "execution_count": 18,
   "id": "a86fd809-6f52-44a3-9728-7d49ad39d7cd",
   "metadata": {},
   "outputs": [
    {
     "data": {
      "text/plain": [
       "Index([1, 2, 3], dtype='int64')"
      ]
     },
     "execution_count": 18,
     "metadata": {},
     "output_type": "execute_result"
    }
   ],
   "source": [
    "ascending_idx = pd.Index([1, 2, 3])\n",
    "ascending_idx"
   ]
  },
  {
   "cell_type": "code",
   "execution_count": 20,
   "id": "57b536d1-4863-4d99-8f7d-ae78ee30a4db",
   "metadata": {},
   "outputs": [
    {
     "data": {
      "text/plain": [
       "Index([3, 2, 1], dtype='int64')"
      ]
     },
     "execution_count": 20,
     "metadata": {},
     "output_type": "execute_result"
    }
   ],
   "source": [
    "descending_idx = pd.Index([3, 2, 1])\n",
    "descending_idx"
   ]
  },
  {
   "cell_type": "code",
   "execution_count": 24,
   "id": "e30a7f34-84ec-4143-bde7-304ca89518e3",
   "metadata": {},
   "outputs": [
    {
     "data": {
      "text/plain": [
       "False"
      ]
     },
     "execution_count": 24,
     "metadata": {},
     "output_type": "execute_result"
    }
   ],
   "source": [
    "ascending_idx.equals(descending_idx) #False"
   ]
  },
  {
   "cell_type": "code",
   "execution_count": null,
   "id": "fbaf0f32-7d12-496f-8df8-a818f92c923e",
   "metadata": {},
   "outputs": [],
   "source": [
    "# The dtype is not compared"
   ]
  },
  {
   "cell_type": "code",
   "execution_count": 26,
   "id": "5736fb8a-7ecb-4516-bc12-430e17b2da3a",
   "metadata": {},
   "outputs": [
    {
     "data": {
      "text/plain": [
       "Index([1, 2, 3], dtype='int64')"
      ]
     },
     "execution_count": 26,
     "metadata": {},
     "output_type": "execute_result"
    }
   ],
   "source": [
    "int64_idx = pd.Index([1, 2, 3], dtype='int64')\n",
    "int64_idx"
   ]
  },
  {
   "cell_type": "code",
   "execution_count": 28,
   "id": "18c752e3-8663-4c8c-8d95-c27ecc400a37",
   "metadata": {},
   "outputs": [
    {
     "data": {
      "text/plain": [
       "Index([1, 2, 3], dtype='uint64')"
      ]
     },
     "execution_count": 28,
     "metadata": {},
     "output_type": "execute_result"
    }
   ],
   "source": [
    "uint64_idx = pd.Index([1, 2, 3], dtype='uint64')\n",
    "uint64_idx"
   ]
  },
  {
   "cell_type": "code",
   "execution_count": 30,
   "id": "b06a7c26-d749-4b8a-9a3a-d9817a4fe688",
   "metadata": {},
   "outputs": [
    {
     "data": {
      "text/plain": [
       "True"
      ]
     },
     "execution_count": 30,
     "metadata": {},
     "output_type": "execute_result"
    }
   ],
   "source": [
    "int64_idx.equals(uint64_idx) #True"
   ]
  }
 ],
 "metadata": {
  "kernelspec": {
   "display_name": "Python 3 (ipykernel)",
   "language": "python",
   "name": "python3"
  },
  "language_info": {
   "codemirror_mode": {
    "name": "ipython",
    "version": 3
   },
   "file_extension": ".py",
   "mimetype": "text/x-python",
   "name": "python",
   "nbconvert_exporter": "python",
   "pygments_lexer": "ipython3",
   "version": "3.12.4"
  }
 },
 "nbformat": 4,
 "nbformat_minor": 5
}
