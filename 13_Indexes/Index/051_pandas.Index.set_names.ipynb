{
 "cells": [
  {
   "cell_type": "code",
   "execution_count": 1,
   "id": "43266452-389e-4408-9d10-706caf57068a",
   "metadata": {},
   "outputs": [],
   "source": [
    "import pandas as pd\n",
    "import numpy as np"
   ]
  },
  {
   "cell_type": "code",
   "execution_count": null,
   "id": "e772aa1b-7280-4680-a8a3-2cc383a6d67f",
   "metadata": {},
   "outputs": [],
   "source": [
    "pandas.Index.set_names\n",
    "\n",
    "Index.set_names(names, level=None, inplace=False)\n",
    "\n",
    "Set Index or MultiIndex name.\n",
    "\n",
    "Able to set new names partially and by level.\n",
    "\n",
    "names : label or list of label or dict-like for MultiIndex\n",
    "        Name(s) to set.\n",
    "\n",
    "level :int, label or list of int or label, optional\n",
    "If the index is a MultiIndex and names is not dict-like, level(s) to set (None for all levels). Otherwise level must be None.\n",
    "\n",
    "inplace: bool, default False\n",
    "Modifies the object directly, instead of creating a new Index or MultiIndex."
   ]
  },
  {
   "cell_type": "code",
   "execution_count": 5,
   "id": "b15fea90-5089-4c10-bc5b-9cd257880837",
   "metadata": {},
   "outputs": [
    {
     "data": {
      "text/plain": [
       "Index([1, 2, 3, 4], dtype='int64', name='quarter')"
      ]
     },
     "execution_count": 5,
     "metadata": {},
     "output_type": "execute_result"
    }
   ],
   "source": [
    "idx = pd.Index([1, 2, 3, 4])\n",
    "idx\n",
    "idx.set_names('quarter')"
   ]
  },
  {
   "cell_type": "code",
   "execution_count": 6,
   "id": "ddb4b194-2d52-45b3-a6d9-ab08a7b89178",
   "metadata": {},
   "outputs": [
    {
     "data": {
      "text/plain": [
       "MultiIndex([('python', 2018),\n",
       "            ('python', 2019),\n",
       "            ( 'cobra', 2018),\n",
       "            ( 'cobra', 2019)],\n",
       "           )"
      ]
     },
     "execution_count": 6,
     "metadata": {},
     "output_type": "execute_result"
    }
   ],
   "source": [
    "idx = pd.MultiIndex.from_product([['python', 'cobra'],[2018, 2019]])\n",
    "idx"
   ]
  },
  {
   "cell_type": "code",
   "execution_count": 8,
   "id": "785a4967-814e-4773-a08f-26da1b32d266",
   "metadata": {},
   "outputs": [
    {
     "data": {
      "text/plain": [
       "MultiIndex([('python', 2018),\n",
       "            ('python', 2019),\n",
       "            ( 'cobra', 2018),\n",
       "            ( 'cobra', 2019)],\n",
       "           names=['kind', 'year'])"
      ]
     },
     "execution_count": 8,
     "metadata": {},
     "output_type": "execute_result"
    }
   ],
   "source": [
    "idx = idx.set_names(['kind', 'year'])\n",
    "idx"
   ]
  },
  {
   "cell_type": "code",
   "execution_count": 9,
   "id": "c8fbf638-4361-4acb-a417-a865fbc47975",
   "metadata": {},
   "outputs": [
    {
     "data": {
      "text/plain": [
       "MultiIndex([('python', 2018),\n",
       "            ('python', 2019),\n",
       "            ( 'cobra', 2018),\n",
       "            ( 'cobra', 2019)],\n",
       "           names=['species', 'year'])"
      ]
     },
     "execution_count": 9,
     "metadata": {},
     "output_type": "execute_result"
    }
   ],
   "source": [
    "idx.set_names('species', level=0)"
   ]
  },
  {
   "cell_type": "code",
   "execution_count": 10,
   "id": "a775ed5b-88fb-439d-9c49-fd2e59efe360",
   "metadata": {},
   "outputs": [
    {
     "data": {
      "text/plain": [
       "MultiIndex([('python', 2018),\n",
       "            ('python', 2019),\n",
       "            ( 'cobra', 2018),\n",
       "            ( 'cobra', 2019)],\n",
       "           names=['snake', 'year'])"
      ]
     },
     "execution_count": 10,
     "metadata": {},
     "output_type": "execute_result"
    }
   ],
   "source": [
    "idx.set_names({'kind': 'snake'})"
   ]
  }
 ],
 "metadata": {
  "kernelspec": {
   "display_name": "Python 3 (ipykernel)",
   "language": "python",
   "name": "python3"
  },
  "language_info": {
   "codemirror_mode": {
    "name": "ipython",
    "version": 3
   },
   "file_extension": ".py",
   "mimetype": "text/x-python",
   "name": "python",
   "nbconvert_exporter": "python",
   "pygments_lexer": "ipython3",
   "version": "3.10.0"
  }
 },
 "nbformat": 4,
 "nbformat_minor": 5
}
