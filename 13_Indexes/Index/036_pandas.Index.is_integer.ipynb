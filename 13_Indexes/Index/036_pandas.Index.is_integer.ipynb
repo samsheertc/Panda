{
 "cells": [
  {
   "cell_type": "code",
   "execution_count": 1,
   "id": "43266452-389e-4408-9d10-706caf57068a",
   "metadata": {},
   "outputs": [],
   "source": [
    "import pandas as pd\n",
    "import numpy as np"
   ]
  },
  {
   "cell_type": "code",
   "execution_count": null,
   "id": "e772aa1b-7280-4680-a8a3-2cc383a6d67f",
   "metadata": {},
   "outputs": [],
   "source": [
    "pandas.Index.is_integer\n",
    "final Index.is_integer()\n",
    "Check if the Index only consists of integers."
   ]
  },
  {
   "cell_type": "code",
   "execution_count": 3,
   "id": "b15fea90-5089-4c10-bc5b-9cd257880837",
   "metadata": {},
   "outputs": [
    {
     "name": "stderr",
     "output_type": "stream",
     "text": [
      "/var/folders/8v/4wh_flfs6y58qhxm9z3h76xw0000gn/T/ipykernel_33512/792527404.py:2: FutureWarning: Index.is_integer is deprecated. Use pandas.api.types.is_integer_dtype instead.\n",
      "  idx.is_integer()\n"
     ]
    },
    {
     "data": {
      "text/plain": [
       "True"
      ]
     },
     "execution_count": 3,
     "metadata": {},
     "output_type": "execute_result"
    }
   ],
   "source": [
    "idx = pd.Index([1, 2, 3, 4])\n",
    "idx.is_integer() "
   ]
  },
  {
   "cell_type": "code",
   "execution_count": 5,
   "id": "ddb4b194-2d52-45b3-a6d9-ab08a7b89178",
   "metadata": {},
   "outputs": [
    {
     "name": "stderr",
     "output_type": "stream",
     "text": [
      "/var/folders/8v/4wh_flfs6y58qhxm9z3h76xw0000gn/T/ipykernel_33512/2252984468.py:2: FutureWarning: Index.is_integer is deprecated. Use pandas.api.types.is_integer_dtype instead.\n",
      "  idx.is_integer()\n"
     ]
    },
    {
     "data": {
      "text/plain": [
       "False"
      ]
     },
     "execution_count": 5,
     "metadata": {},
     "output_type": "execute_result"
    }
   ],
   "source": [
    "idx = pd.Index([1.0, 2.0, 3.0, 4.0])\n",
    "idx.is_integer()"
   ]
  },
  {
   "cell_type": "code",
   "execution_count": 7,
   "id": "785a4967-814e-4773-a08f-26da1b32d266",
   "metadata": {},
   "outputs": [
    {
     "name": "stderr",
     "output_type": "stream",
     "text": [
      "/var/folders/8v/4wh_flfs6y58qhxm9z3h76xw0000gn/T/ipykernel_33512/4215035171.py:2: FutureWarning: Index.is_integer is deprecated. Use pandas.api.types.is_integer_dtype instead.\n",
      "  idx.is_integer()\n"
     ]
    },
    {
     "data": {
      "text/plain": [
       "False"
      ]
     },
     "execution_count": 7,
     "metadata": {},
     "output_type": "execute_result"
    }
   ],
   "source": [
    "idx = pd.Index([\"Apple\", \"Mango\", \"Watermelon\"])\n",
    "idx.is_integer()"
   ]
  }
 ],
 "metadata": {
  "kernelspec": {
   "display_name": "Python 3 (ipykernel)",
   "language": "python",
   "name": "python3"
  },
  "language_info": {
   "codemirror_mode": {
    "name": "ipython",
    "version": 3
   },
   "file_extension": ".py",
   "mimetype": "text/x-python",
   "name": "python",
   "nbconvert_exporter": "python",
   "pygments_lexer": "ipython3",
   "version": "3.10.0"
  }
 },
 "nbformat": 4,
 "nbformat_minor": 5
}
