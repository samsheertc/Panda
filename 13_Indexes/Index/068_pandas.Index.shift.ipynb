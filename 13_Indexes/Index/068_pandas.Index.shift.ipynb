{
 "cells": [
  {
   "cell_type": "code",
   "execution_count": 2,
   "id": "43266452-389e-4408-9d10-706caf57068a",
   "metadata": {},
   "outputs": [],
   "source": [
    "import pandas as pd\n",
    "import numpy as np"
   ]
  },
  {
   "cell_type": "code",
   "execution_count": null,
   "id": "e772aa1b-7280-4680-a8a3-2cc383a6d67f",
   "metadata": {},
   "outputs": [],
   "source": [
    "pandas.Index.shift\n",
    "\n",
    "Index.shift(periods=1, freq=None)\n",
    "\n",
    "Shift index by desired number of time frequency increments.\n",
    "\n",
    "This method is for shifting the values of datetime-like indexes by a specified time increment a given number of times.\n",
    "\n",
    "Parameters:\n",
    "periods : int, default 1\n",
    "Number of periods (or increments) to shift by, can be positive or negative.\n",
    "\n",
    "freq : pandas.DateOffset, pandas.Timedelta or str, optional\n",
    "Frequency increment to shift by.\n",
    "If None, the index is shifted by its own freq attribute.\n",
    "Offset aliases are valid strings, e.g., ‘D’, ‘W’, ‘M’ etc."
   ]
  },
  {
   "cell_type": "code",
   "execution_count": 3,
   "id": "b15fea90-5089-4c10-bc5b-9cd257880837",
   "metadata": {},
   "outputs": [
    {
     "data": {
      "text/plain": [
       "DatetimeIndex(['2011-01-01', '2011-02-01', '2011-03-01', '2011-04-01',\n",
       "               '2011-05-01'],\n",
       "              dtype='datetime64[ns]', freq='MS')"
      ]
     },
     "execution_count": 3,
     "metadata": {},
     "output_type": "execute_result"
    }
   ],
   "source": [
    "month_starts = pd.date_range('1/1/2011', periods=5, freq='MS')\n",
    "month_starts"
   ]
  },
  {
   "cell_type": "code",
   "execution_count": 11,
   "id": "ddb4b194-2d52-45b3-a6d9-ab08a7b89178",
   "metadata": {},
   "outputs": [
    {
     "data": {
      "text/plain": [
       "DatetimeIndex(['2011-01-11', '2011-02-11', '2011-03-11', '2011-04-11',\n",
       "               '2011-05-11'],\n",
       "              dtype='datetime64[ns]', freq=None)"
      ]
     },
     "execution_count": 11,
     "metadata": {},
     "output_type": "execute_result"
    }
   ],
   "source": [
    "month_starts.shift(10, freq='D')"
   ]
  },
  {
   "cell_type": "code",
   "execution_count": 19,
   "id": "785a4967-814e-4773-a08f-26da1b32d266",
   "metadata": {},
   "outputs": [
    {
     "data": {
      "text/plain": [
       "DatetimeIndex(['2011-11-01', '2011-12-01', '2012-01-01', '2012-02-01',\n",
       "               '2012-03-01'],\n",
       "              dtype='datetime64[ns]', freq='MS')"
      ]
     },
     "execution_count": 19,
     "metadata": {},
     "output_type": "execute_result"
    }
   ],
   "source": [
    "month_starts.shift(10)"
   ]
  }
 ],
 "metadata": {
  "kernelspec": {
   "display_name": "Python 3 (ipykernel)",
   "language": "python",
   "name": "python3"
  },
  "language_info": {
   "codemirror_mode": {
    "name": "ipython",
    "version": 3
   },
   "file_extension": ".py",
   "mimetype": "text/x-python",
   "name": "python",
   "nbconvert_exporter": "python",
   "pygments_lexer": "ipython3",
   "version": "3.10.0"
  }
 },
 "nbformat": 4,
 "nbformat_minor": 5
}
