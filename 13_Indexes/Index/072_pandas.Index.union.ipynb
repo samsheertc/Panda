{
 "cells": [
  {
   "cell_type": "code",
   "execution_count": 2,
   "id": "43266452-389e-4408-9d10-706caf57068a",
   "metadata": {},
   "outputs": [],
   "source": [
    "import pandas as pd\n",
    "import numpy as np"
   ]
  },
  {
   "cell_type": "code",
   "execution_count": null,
   "id": "e772aa1b-7280-4680-a8a3-2cc383a6d67f",
   "metadata": {},
   "outputs": [],
   "source": [
    "pandas.Index.union\n",
    "\n",
    "Index.union(other, sort=None)\n",
    "\n",
    "Form the union of two Index objects.\n",
    "\n",
    "If the Index objects are incompatible, both Index objects will be cast to dtype(‘object’) first.\n",
    "\n",
    "Parameters:\n",
    "other : Index or array-like\n",
    "sort  : True, False, None , default None\n",
    "Whether to sort the resulting Index.\n",
    "\n",
    "None : Sort the result, except when\n",
    "self and other are equal.\n",
    "self or other has length 0.\n",
    "Some values in self or other cannot be compared. A RuntimeWarning is issued in this case.\n",
    "\n",
    "False : do not sort the result.\n",
    "True : Sort the result"
   ]
  },
  {
   "cell_type": "code",
   "execution_count": 6,
   "id": "b15fea90-5089-4c10-bc5b-9cd257880837",
   "metadata": {},
   "outputs": [
    {
     "data": {
      "text/plain": [
       "Index([1, 2, 3, 4, 5, 6], dtype='int64')"
      ]
     },
     "execution_count": 6,
     "metadata": {},
     "output_type": "execute_result"
    }
   ],
   "source": [
    "#Union matching dtypes\n",
    "idx1 = pd.Index([1, 2, 3, 4])\n",
    "idx2 = pd.Index([3, 4, 5, 6])\n",
    "idx1.union(idx2)"
   ]
  },
  {
   "cell_type": "code",
   "execution_count": 4,
   "id": "ddb4b194-2d52-45b3-a6d9-ab08a7b89178",
   "metadata": {},
   "outputs": [
    {
     "data": {
      "text/plain": [
       "Index(['a', 'b', 'c', 'd', 1, 2, 3, 4], dtype='object')"
      ]
     },
     "execution_count": 4,
     "metadata": {},
     "output_type": "execute_result"
    }
   ],
   "source": [
    "#Union mismatched dtypes\n",
    "idx1 = pd.Index(['a', 'b', 'c', 'd'])\n",
    "idx2 = pd.Index([1, 2, 3, 4])\n",
    "idx1.union(idx2)"
   ]
  },
  {
   "cell_type": "code",
   "execution_count": 12,
   "id": "785a4967-814e-4773-a08f-26da1b32d266",
   "metadata": {},
   "outputs": [],
   "source": [
    "idx1 = pd.MultiIndex.from_arrays([[3, 3, 2, 2], [\"Red\", \"Blue\", \"Red\", \"Blue\"]])\n",
    "idx2 = pd.MultiIndex.from_arrays([[3, 3, 2, 2], [\"Red\", \"Blue\", \"Red\", \"Blue\"]])"
   ]
  },
  {
   "cell_type": "code",
   "execution_count": 13,
   "id": "913803f2-7f5b-4e19-8ebf-0d2242964da9",
   "metadata": {},
   "outputs": [
    {
     "data": {
      "text/plain": [
       "MultiIndex([(3,  'Red'),\n",
       "            (3, 'Blue'),\n",
       "            (2,  'Red'),\n",
       "            (2, 'Blue')],\n",
       "           )"
      ]
     },
     "execution_count": 13,
     "metadata": {},
     "output_type": "execute_result"
    }
   ],
   "source": [
    "idx1"
   ]
  },
  {
   "cell_type": "code",
   "execution_count": 14,
   "id": "03525cab-ae6e-4474-ac10-0547f3c54ad9",
   "metadata": {},
   "outputs": [
    {
     "data": {
      "text/plain": [
       "MultiIndex([(3,  'Red'),\n",
       "            (3, 'Blue'),\n",
       "            (2,  'Red'),\n",
       "            (2, 'Blue')],\n",
       "           )"
      ]
     },
     "execution_count": 14,
     "metadata": {},
     "output_type": "execute_result"
    }
   ],
   "source": [
    "idx2"
   ]
  },
  {
   "cell_type": "code",
   "execution_count": 15,
   "id": "ac7cea48-608c-4f00-972e-e3b447babc34",
   "metadata": {},
   "outputs": [
    {
     "data": {
      "text/plain": [
       "MultiIndex([(3,  'Red'),\n",
       "            (3, 'Blue'),\n",
       "            (2,  'Red'),\n",
       "            (2, 'Blue')],\n",
       "           )"
      ]
     },
     "execution_count": 15,
     "metadata": {},
     "output_type": "execute_result"
    }
   ],
   "source": [
    "idx1.union(idx2)"
   ]
  },
  {
   "cell_type": "code",
   "execution_count": 17,
   "id": "8602d585-2561-42ae-8166-0dcd99a212d8",
   "metadata": {},
   "outputs": [
    {
     "data": {
      "text/plain": [
       "MultiIndex([(2, 'Blue'),\n",
       "            (2,  'Red'),\n",
       "            (3, 'Blue'),\n",
       "            (3,  'Red')],\n",
       "           )"
      ]
     },
     "execution_count": 17,
     "metadata": {},
     "output_type": "execute_result"
    }
   ],
   "source": [
    "idx1.union(idx2, sort=True)"
   ]
  }
 ],
 "metadata": {
  "kernelspec": {
   "display_name": "Python 3 (ipykernel)",
   "language": "python",
   "name": "python3"
  },
  "language_info": {
   "codemirror_mode": {
    "name": "ipython",
    "version": 3
   },
   "file_extension": ".py",
   "mimetype": "text/x-python",
   "name": "python",
   "nbconvert_exporter": "python",
   "pygments_lexer": "ipython3",
   "version": "3.10.0"
  }
 },
 "nbformat": 4,
 "nbformat_minor": 5
}
