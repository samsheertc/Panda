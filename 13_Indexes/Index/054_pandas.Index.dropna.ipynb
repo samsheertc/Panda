{
 "cells": [
  {
   "cell_type": "code",
   "execution_count": 1,
   "id": "43266452-389e-4408-9d10-706caf57068a",
   "metadata": {},
   "outputs": [],
   "source": [
    "import pandas as pd\n",
    "import numpy as np"
   ]
  },
  {
   "cell_type": "code",
   "execution_count": null,
   "id": "e772aa1b-7280-4680-a8a3-2cc383a6d67f",
   "metadata": {},
   "outputs": [],
   "source": [
    "pandas.Index.dropna\n",
    "Index.dropna(how='any')\n",
    "Return Index without NA/NaN values.\n",
    "\n",
    "how\n",
    "{‘any’, ‘all’}, default ‘any’\n",
    "If the Index is a MultiIndex, drop the value when any or all levels are NaN."
   ]
  },
  {
   "cell_type": "code",
   "execution_count": 2,
   "id": "b15fea90-5089-4c10-bc5b-9cd257880837",
   "metadata": {},
   "outputs": [
    {
     "data": {
      "text/plain": [
       "Index([1.0, nan, 3.0], dtype='float64')"
      ]
     },
     "execution_count": 2,
     "metadata": {},
     "output_type": "execute_result"
    }
   ],
   "source": [
    "idx = pd.Index([1, np.nan, 3])\n",
    "idx"
   ]
  },
  {
   "cell_type": "code",
   "execution_count": 3,
   "id": "ddb4b194-2d52-45b3-a6d9-ab08a7b89178",
   "metadata": {},
   "outputs": [
    {
     "data": {
      "text/plain": [
       "Index([1.0, 3.0], dtype='float64')"
      ]
     },
     "execution_count": 3,
     "metadata": {},
     "output_type": "execute_result"
    }
   ],
   "source": [
    "idx.dropna()"
   ]
  },
  {
   "cell_type": "code",
   "execution_count": 4,
   "id": "785a4967-814e-4773-a08f-26da1b32d266",
   "metadata": {},
   "outputs": [
    {
     "data": {
      "text/plain": [
       "MultiIndex([(1, nan, 5),\n",
       "            (2, 4.0, 6)],\n",
       "           names=['x', 'y', 'z'])"
      ]
     },
     "execution_count": 4,
     "metadata": {},
     "output_type": "execute_result"
    }
   ],
   "source": [
    "mi = pd.MultiIndex.from_arrays([[1, 2], [np.nan, 4], [5, 6]], names=['x', 'y', 'z'])\n",
    "mi"
   ]
  },
  {
   "cell_type": "code",
   "execution_count": 6,
   "id": "a6b60c18-8282-4c48-beaf-ca32c0a9e0fb",
   "metadata": {},
   "outputs": [
    {
     "data": {
      "text/plain": [
       "MultiIndex([(1, nan, 5),\n",
       "            (2, 4.0, 6)],\n",
       "           names=['x', 'y', 'z'])"
      ]
     },
     "execution_count": 6,
     "metadata": {},
     "output_type": "execute_result"
    }
   ],
   "source": [
    "mi.dropna('all')"
   ]
  },
  {
   "cell_type": "code",
   "execution_count": 7,
   "id": "c4f1bfe1-90ea-46c6-b62b-a93ca016d1a7",
   "metadata": {},
   "outputs": [
    {
     "data": {
      "text/plain": [
       "MultiIndex([(2, 4, 6)],\n",
       "           names=['x', 'y', 'z'])"
      ]
     },
     "execution_count": 7,
     "metadata": {},
     "output_type": "execute_result"
    }
   ],
   "source": [
    "mi.dropna('any')"
   ]
  }
 ],
 "metadata": {
  "kernelspec": {
   "display_name": "Python 3 (ipykernel)",
   "language": "python",
   "name": "python3"
  },
  "language_info": {
   "codemirror_mode": {
    "name": "ipython",
    "version": 3
   },
   "file_extension": ".py",
   "mimetype": "text/x-python",
   "name": "python",
   "nbconvert_exporter": "python",
   "pygments_lexer": "ipython3",
   "version": "3.10.0"
  }
 },
 "nbformat": 4,
 "nbformat_minor": 5
}
