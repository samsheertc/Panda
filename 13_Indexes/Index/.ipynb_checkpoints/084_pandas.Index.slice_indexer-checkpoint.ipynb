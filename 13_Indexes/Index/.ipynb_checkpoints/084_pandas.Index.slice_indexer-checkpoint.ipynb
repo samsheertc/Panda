{
 "cells": [
  {
   "cell_type": "code",
   "execution_count": 1,
   "id": "43266452-389e-4408-9d10-706caf57068a",
   "metadata": {},
   "outputs": [],
   "source": [
    "import pandas as pd\n",
    "import numpy as np"
   ]
  },
  {
   "cell_type": "code",
   "execution_count": null,
   "id": "e772aa1b-7280-4680-a8a3-2cc383a6d67f",
   "metadata": {},
   "outputs": [],
   "source": [
    "pandas.Index.slice_indexer\n",
    "\n",
    "Index.slice_indexer(start=None, end=None, step=None)[source]\n",
    "\n",
    "Compute the slice indexer for input labels and step.\n",
    "\n",
    "Index needs to be ordered and unique.\n",
    "\n",
    "Parameters:\n",
    "start : label, default None\n",
    "If None, defaults to the beginning.\n",
    "\n",
    "end : label, default None\n",
    "If None, defaults to the end.\n",
    "\n",
    "step : int, default None\n",
    "\n",
    "Returns :\n",
    "       slice\n",
    "\n",
    "Notes\n",
    "This function assumes that the data is sorted, so use at your own peril\n"
   ]
  },
  {
   "cell_type": "code",
   "execution_count": 2,
   "id": "b15fea90-5089-4c10-bc5b-9cd257880837",
   "metadata": {},
   "outputs": [
    {
     "data": {
      "text/plain": [
       "slice(1, 3, None)"
      ]
     },
     "execution_count": 2,
     "metadata": {},
     "output_type": "execute_result"
    }
   ],
   "source": [
    "idx = pd.Index(list('abcd'))\n",
    "idx.slice_indexer(start='b', end='c')"
   ]
  },
  {
   "cell_type": "code",
   "execution_count": 3,
   "id": "ddb4b194-2d52-45b3-a6d9-ab08a7b89178",
   "metadata": {},
   "outputs": [
    {
     "data": {
      "text/plain": [
       "MultiIndex([('a', 'e'),\n",
       "            ('b', 'f'),\n",
       "            ('c', 'g'),\n",
       "            ('d', 'h')],\n",
       "           )"
      ]
     },
     "execution_count": 3,
     "metadata": {},
     "output_type": "execute_result"
    }
   ],
   "source": [
    "idx = pd.MultiIndex.from_arrays([list('abcd'), list('efgh')])\n",
    "idx"
   ]
  },
  {
   "cell_type": "code",
   "execution_count": 6,
   "id": "785a4967-814e-4773-a08f-26da1b32d266",
   "metadata": {},
   "outputs": [
    {
     "data": {
      "text/plain": [
       "slice(np.int64(1), np.int64(3), None)"
      ]
     },
     "execution_count": 6,
     "metadata": {},
     "output_type": "execute_result"
    }
   ],
   "source": [
    "idx.slice_indexer(start='b', end=('c', 'g'))"
   ]
  }
 ],
 "metadata": {
  "kernelspec": {
   "display_name": "Python 3 (ipykernel)",
   "language": "python",
   "name": "python3"
  },
  "language_info": {
   "codemirror_mode": {
    "name": "ipython",
    "version": 3
   },
   "file_extension": ".py",
   "mimetype": "text/x-python",
   "name": "python",
   "nbconvert_exporter": "python",
   "pygments_lexer": "ipython3",
   "version": "3.10.0"
  }
 },
 "nbformat": 4,
 "nbformat_minor": 5
}
