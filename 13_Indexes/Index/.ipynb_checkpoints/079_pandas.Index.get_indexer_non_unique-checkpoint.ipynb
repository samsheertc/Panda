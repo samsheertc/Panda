{
 "cells": [
  {
   "cell_type": "code",
   "execution_count": 1,
   "id": "43266452-389e-4408-9d10-706caf57068a",
   "metadata": {},
   "outputs": [],
   "source": [
    "import pandas as pd\n",
    "import numpy as np"
   ]
  },
  {
   "cell_type": "code",
   "execution_count": null,
   "id": "4c69b924-2d5c-4de0-884c-a00c890e0111",
   "metadata": {},
   "outputs": [],
   "source": [
    "pandas.Index.get_indexer_non_unique\n",
    "\n",
    "Index.get_indexer_non_unique(target)\n",
    "\n",
    "Compute indexer and mask for new index given the current index.\n",
    "\n",
    "The indexer should be then used as an input to ndarray.take to align the current data to the new index.\n",
    "\n",
    "Parameters:\n",
    "target :Index\n",
    "                        \n",
    "Returns:\n",
    "indexer : np.ndarray[np.intp]\n",
    "          Integers from 0 to n - 1 indicating that the index at these positions matches the corresponding target values. Missing values in the target are marked by -1.\n",
    "\n",
    "missing  : np.ndarray[np.intp]\n",
    "        An indexer into the target of the values not found. These correspond to the -1 in the indexer array."
   ]
  },
  {
   "cell_type": "code",
   "execution_count": 6,
   "id": "e772aa1b-7280-4680-a8a3-2cc383a6d67f",
   "metadata": {},
   "outputs": [
    {
     "data": {
      "text/plain": [
       "(array([1, 3, 4, 1, 3, 4]), array([], dtype=int64))"
      ]
     },
     "execution_count": 6,
     "metadata": {},
     "output_type": "execute_result"
    }
   ],
   "source": [
    "index = pd.Index(['c', 'b', 'a', 'b', 'b'])\n",
    "\n",
    "index.get_indexer_non_unique(['b', 'b'])\n"
   ]
  },
  {
   "cell_type": "code",
   "execution_count": 7,
   "id": "b15fea90-5089-4c10-bc5b-9cd257880837",
   "metadata": {},
   "outputs": [
    {
     "data": {
      "text/plain": [
       "(array([-1, -1, -1]), array([0, 1, 2]))"
      ]
     },
     "execution_count": 7,
     "metadata": {},
     "output_type": "execute_result"
    }
   ],
   "source": [
    "index = pd.Index(['c', 'b', 'a', 'b', 'b'])\n",
    "\n",
    "index.get_indexer_non_unique(['q', 'r', 't'])"
   ]
  },
  {
   "cell_type": "code",
   "execution_count": 5,
   "id": "ddb4b194-2d52-45b3-a6d9-ab08a7b89178",
   "metadata": {},
   "outputs": [
    {
     "data": {
      "text/plain": [
       "(array([-1,  1,  3,  4, -1]), array([0, 2]))"
      ]
     },
     "execution_count": 5,
     "metadata": {},
     "output_type": "execute_result"
    }
   ],
   "source": [
    "index = pd.Index(['c', 'b', 'a', 'b', 'b'])\n",
    "\n",
    "index.get_indexer_non_unique(['f', 'b', 's'])"
   ]
  }
 ],
 "metadata": {
  "kernelspec": {
   "display_name": "Python 3 (ipykernel)",
   "language": "python",
   "name": "python3"
  },
  "language_info": {
   "codemirror_mode": {
    "name": "ipython",
    "version": 3
   },
   "file_extension": ".py",
   "mimetype": "text/x-python",
   "name": "python",
   "nbconvert_exporter": "python",
   "pygments_lexer": "ipython3",
   "version": "3.10.0"
  }
 },
 "nbformat": 4,
 "nbformat_minor": 5
}
