{
 "cells": [
  {
   "cell_type": "code",
   "execution_count": 2,
   "id": "43266452-389e-4408-9d10-706caf57068a",
   "metadata": {},
   "outputs": [],
   "source": [
    "import pandas as pd\n",
    "import numpy as np"
   ]
  },
  {
   "cell_type": "code",
   "execution_count": 2,
   "id": "e772aa1b-7280-4680-a8a3-2cc383a6d67f",
   "metadata": {},
   "outputs": [],
   "source": [
    "pandas.Index.isin\n",
    "\n",
    "Index.isin(values, level=None)\n",
    "\n",
    "Return a boolean array where the index values are in values.\n",
    "\n",
    "Compute boolean array of whether each index value is found in the passed set of values. \n",
    "\n",
    "The length of the returned boolean array matches the length of the index.\n",
    "\n",
    "Parameters:\n",
    "values : set or list-like\n",
    "         Sought values.\n",
    "\n",
    "level  : str or int, optional\n",
    "         Name or position of the index level to use (if the index is a MultiIndex).\n"
   ]
  },
  {
   "cell_type": "code",
   "execution_count": 3,
   "id": "b754af75-95dd-483c-a9cd-b1bb5b57dfa4",
   "metadata": {},
   "outputs": [
    {
     "data": {
      "text/plain": [
       "Index([1, 2, 3], dtype='int64')"
      ]
     },
     "execution_count": 3,
     "metadata": {},
     "output_type": "execute_result"
    }
   ],
   "source": [
    "idx = pd.Index([1,2,3])\n",
    "idx"
   ]
  },
  {
   "cell_type": "code",
   "execution_count": 5,
   "id": "b15fea90-5089-4c10-bc5b-9cd257880837",
   "metadata": {},
   "outputs": [
    {
     "data": {
      "text/plain": [
       "array([ True, False,  True])"
      ]
     },
     "execution_count": 5,
     "metadata": {},
     "output_type": "execute_result"
    }
   ],
   "source": [
    "idx.isin([1, 3])"
   ]
  },
  {
   "cell_type": "code",
   "execution_count": 14,
   "id": "ddb4b194-2d52-45b3-a6d9-ab08a7b89178",
   "metadata": {},
   "outputs": [
    {
     "data": {
      "text/plain": [
       "MultiIndex([(1,   'red'),\n",
       "            (2,  'blue'),\n",
       "            (3, 'green')],\n",
       "           names=['number', 'color'])"
      ]
     },
     "execution_count": 14,
     "metadata": {},
     "output_type": "execute_result"
    }
   ],
   "source": [
    "midx = pd.MultiIndex.from_arrays([[1,2,3],\n",
    "                                 ['red', 'blue', 'green']],\n",
    "                                 names=('number', 'color'))\n",
    "midx"
   ]
  },
  {
   "cell_type": "code",
   "execution_count": 15,
   "id": "785a4967-814e-4773-a08f-26da1b32d266",
   "metadata": {},
   "outputs": [
    {
     "data": {
      "text/plain": [
       "array([ True, False, False])"
      ]
     },
     "execution_count": 15,
     "metadata": {},
     "output_type": "execute_result"
    }
   ],
   "source": [
    "midx.isin(['orange', 'red', 'yellow'], level='color')"
   ]
  },
  {
   "cell_type": "code",
   "execution_count": 10,
   "id": "4e3a75f6-314b-438d-aa44-f6de315c7707",
   "metadata": {},
   "outputs": [
    {
     "data": {
      "text/plain": [
       "array([ True, False, False])"
      ]
     },
     "execution_count": 10,
     "metadata": {},
     "output_type": "execute_result"
    }
   ],
   "source": [
    "midx.isin([(1, 'red')])\n"
   ]
  }
 ],
 "metadata": {
  "kernelspec": {
   "display_name": "Python 3 (ipykernel)",
   "language": "python",
   "name": "python3"
  },
  "language_info": {
   "codemirror_mode": {
    "name": "ipython",
    "version": 3
   },
   "file_extension": ".py",
   "mimetype": "text/x-python",
   "name": "python",
   "nbconvert_exporter": "python",
   "pygments_lexer": "ipython3",
   "version": "3.10.0"
  }
 },
 "nbformat": 4,
 "nbformat_minor": 5
}
