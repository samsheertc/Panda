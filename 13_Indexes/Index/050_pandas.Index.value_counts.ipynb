{
 "cells": [
  {
   "cell_type": "code",
   "execution_count": 2,
   "id": "43266452-389e-4408-9d10-706caf57068a",
   "metadata": {},
   "outputs": [],
   "source": [
    "import pandas as pd\n",
    "import numpy as np"
   ]
  },
  {
   "cell_type": "code",
   "execution_count": null,
   "id": "e772aa1b-7280-4680-a8a3-2cc383a6d67f",
   "metadata": {},
   "outputs": [],
   "source": [
    "pandas.Index.value_counts\n",
    "\n",
    "Index.value_counts(normalize=False, sort=True, ascending=False, bins=None, dropna=True)\n",
    "\n",
    "Return a Series containing counts of unique values.\n",
    "\n",
    "The resulting object will be in descending order so that the first element is the most frequently-occurring element. Excludes NA values by default.\n",
    "\n",
    "normalize : bool, default False\n",
    "If True then the object returned will contain the relative frequencies of the unique values.\n",
    "\n",
    "sort :bool, default True\n",
    "Sort by frequencies when True. Preserve the order of the data when False.\n",
    "\n",
    "ascending : bool, default False\n",
    "Sort in ascending order.\n",
    "\n",
    "bins : int, optional\n",
    "Rather than count values, group them into half-open bins, a convenience for pd.cut, only works with numeric data.\n",
    "\n",
    "dropna : bool, default True\n",
    "Don’t include counts of NaN."
   ]
  },
  {
   "cell_type": "code",
   "execution_count": 7,
   "id": "ddb4b194-2d52-45b3-a6d9-ab08a7b89178",
   "metadata": {},
   "outputs": [
    {
     "data": {
      "text/plain": [
       "3.0    2\n",
       "1.0    1\n",
       "2.0    1\n",
       "4.0    1\n",
       "Name: count, dtype: int64"
      ]
     },
     "execution_count": 7,
     "metadata": {},
     "output_type": "execute_result"
    }
   ],
   "source": [
    "index = pd.Index([3, 1, 2, 3, 4, np.nan])\n",
    "index.value_counts()"
   ]
  },
  {
   "cell_type": "code",
   "execution_count": 8,
   "id": "b15fea90-5089-4c10-bc5b-9cd257880837",
   "metadata": {},
   "outputs": [
    {
     "data": {
      "text/plain": [
       "3.0    0.4\n",
       "1.0    0.2\n",
       "2.0    0.2\n",
       "4.0    0.2\n",
       "Name: proportion, dtype: float64"
      ]
     },
     "execution_count": 8,
     "metadata": {},
     "output_type": "execute_result"
    }
   ],
   "source": [
    "s = pd.Series([3, 1, 2, 3, 4, np.nan])\n",
    "s.value_counts(normalize=True)"
   ]
  },
  {
   "cell_type": "code",
   "execution_count": 5,
   "id": "785a4967-814e-4773-a08f-26da1b32d266",
   "metadata": {},
   "outputs": [
    {
     "data": {
      "text/plain": [
       "(0.996, 2.0]    2\n",
       "(2.0, 3.0]      2\n",
       "(3.0, 4.0]      1\n",
       "Name: count, dtype: int64"
      ]
     },
     "execution_count": 5,
     "metadata": {},
     "output_type": "execute_result"
    }
   ],
   "source": [
    "s.value_counts(bins=3)"
   ]
  },
  {
   "cell_type": "code",
   "execution_count": 6,
   "id": "af233979-6baf-4493-9289-794c9f6c04e8",
   "metadata": {},
   "outputs": [
    {
     "data": {
      "text/plain": [
       "3.0    2\n",
       "1.0    1\n",
       "2.0    1\n",
       "4.0    1\n",
       "NaN    1\n",
       "Name: count, dtype: int64"
      ]
     },
     "execution_count": 6,
     "metadata": {},
     "output_type": "execute_result"
    }
   ],
   "source": [
    "s.value_counts(dropna=False)"
   ]
  }
 ],
 "metadata": {
  "kernelspec": {
   "display_name": "Python 3 (ipykernel)",
   "language": "python",
   "name": "python3"
  },
  "language_info": {
   "codemirror_mode": {
    "name": "ipython",
    "version": 3
   },
   "file_extension": ".py",
   "mimetype": "text/x-python",
   "name": "python",
   "nbconvert_exporter": "python",
   "pygments_lexer": "ipython3",
   "version": "3.10.0"
  }
 },
 "nbformat": 4,
 "nbformat_minor": 5
}
