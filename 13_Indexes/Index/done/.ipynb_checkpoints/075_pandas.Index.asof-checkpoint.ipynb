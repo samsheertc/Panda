{
 "cells": [
  {
   "cell_type": "code",
   "execution_count": 1,
   "id": "43266452-389e-4408-9d10-706caf57068a",
   "metadata": {},
   "outputs": [],
   "source": [
    "import pandas as pd\n",
    "import numpy as np"
   ]
  },
  {
   "cell_type": "code",
   "execution_count": null,
   "id": "0b75ab6b-8f48-4a4c-9b83-b9f84ba0bfb0",
   "metadata": {},
   "outputs": [],
   "source": [
    "pandas.Index.asof\n",
    "\n",
    "Index.asof(label)\n",
    "\n",
    "Return the label from the index, or, if not present, the previous one.\n",
    "\n",
    "Assuming that the index is sorted, return the passed index label if it is in the index, or return the previous index label if the passed one is not in the index.\n",
    "\n",
    "Parameters:\n",
    "label :object\n",
    " The label up to which the method returns the latest index label.\n",
    "\n",
    "Returns:\n",
    "object\n",
    "The passed label if it is in the index. The previous label if the passed label is not in the sorted index or NaN if there is no such label."
   ]
  },
  {
   "cell_type": "code",
   "execution_count": 16,
   "id": "e772aa1b-7280-4680-a8a3-2cc383a6d67f",
   "metadata": {},
   "outputs": [
    {
     "data": {
      "text/plain": [
       "'2013-12-31'"
      ]
     },
     "execution_count": 16,
     "metadata": {},
     "output_type": "execute_result"
    }
   ],
   "source": [
    "idx = pd.Index(['2013-12-31', '2014-01-02', '2014-01-03'])\n",
    "\n",
    "idx.asof('2014-01-01')"
   ]
  },
  {
   "cell_type": "code",
   "execution_count": 17,
   "id": "b15fea90-5089-4c10-bc5b-9cd257880837",
   "metadata": {},
   "outputs": [
    {
     "data": {
      "text/plain": [
       "'2014-01-02'"
      ]
     },
     "execution_count": 17,
     "metadata": {},
     "output_type": "execute_result"
    }
   ],
   "source": [
    "idx.asof('2014-01-02')"
   ]
  },
  {
   "cell_type": "code",
   "execution_count": 18,
   "id": "ddb4b194-2d52-45b3-a6d9-ab08a7b89178",
   "metadata": {},
   "outputs": [
    {
     "data": {
      "text/plain": [
       "nan"
      ]
     },
     "execution_count": 18,
     "metadata": {},
     "output_type": "execute_result"
    }
   ],
   "source": [
    "idx.asof('1999-01-02')"
   ]
  },
  {
   "cell_type": "code",
   "execution_count": null,
   "id": "785a4967-814e-4773-a08f-26da1b32d266",
   "metadata": {},
   "outputs": [],
   "source": [
    "idx_not_sorted = pd.Index(['2013-12-31', '2015-01-02','2014-01-03'])\n",
    "\n",
    "idx_not_sorted.asof('2013-12-31') #ValueError: index must be monotonic increasing or decreasing"
   ]
  },
  {
   "cell_type": "code",
   "execution_count": 25,
   "id": "a154c7de-5d2f-402d-bf36-7528e3160e4e",
   "metadata": {},
   "outputs": [
    {
     "data": {
      "text/plain": [
       "np.int64(7)"
      ]
     },
     "execution_count": 25,
     "metadata": {},
     "output_type": "execute_result"
    }
   ],
   "source": [
    "idx = pd.Index([ 1 , 3, 5, 7, 9, 11])\n",
    "idx.asof(8)"
   ]
  }
 ],
 "metadata": {
  "kernelspec": {
   "display_name": "Python 3 (ipykernel)",
   "language": "python",
   "name": "python3"
  },
  "language_info": {
   "codemirror_mode": {
    "name": "ipython",
    "version": 3
   },
   "file_extension": ".py",
   "mimetype": "text/x-python",
   "name": "python",
   "nbconvert_exporter": "python",
   "pygments_lexer": "ipython3",
   "version": "3.10.0"
  }
 },
 "nbformat": 4,
 "nbformat_minor": 5
}
