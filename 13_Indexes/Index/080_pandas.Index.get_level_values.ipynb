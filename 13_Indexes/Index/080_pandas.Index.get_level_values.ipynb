{
 "cells": [
  {
   "cell_type": "code",
   "execution_count": 2,
   "id": "43266452-389e-4408-9d10-706caf57068a",
   "metadata": {},
   "outputs": [],
   "source": [
    "import pandas as pd\n",
    "import numpy as np"
   ]
  },
  {
   "cell_type": "code",
   "execution_count": null,
   "id": "e772aa1b-7280-4680-a8a3-2cc383a6d67f",
   "metadata": {},
   "outputs": [],
   "source": [
    "pandas.Index.get_level_values\n",
    "\n",
    "Index.get_level_values(level)\n",
    "\n",
    "Return an Index of values for requested level.\n",
    "\n",
    "This is primarily useful to get an individual level of values from a MultiIndex, but is provided on Index as well for compatibility.\n",
    "\n",
    "Parameters:\n",
    "level : int or str\n",
    "   It is either the integer position or the name of the level."
   ]
  },
  {
   "cell_type": "code",
   "execution_count": 6,
   "id": "b15fea90-5089-4c10-bc5b-9cd257880837",
   "metadata": {},
   "outputs": [
    {
     "data": {
      "text/plain": [
       "Index(['a', 'b', 'c'], dtype='object')"
      ]
     },
     "execution_count": 6,
     "metadata": {},
     "output_type": "execute_result"
    }
   ],
   "source": [
    "idx = pd.Index(list('abc'))\n",
    "idx"
   ]
  },
  {
   "cell_type": "code",
   "execution_count": 7,
   "id": "ddb4b194-2d52-45b3-a6d9-ab08a7b89178",
   "metadata": {},
   "outputs": [
    {
     "data": {
      "text/plain": [
       "Index(['a', 'b', 'c'], dtype='object')"
      ]
     },
     "execution_count": 7,
     "metadata": {},
     "output_type": "execute_result"
    }
   ],
   "source": [
    "idx.get_level_values(0)"
   ]
  },
  {
   "cell_type": "code",
   "execution_count": null,
   "id": "9eff0f2c-6966-4046-bd20-166e1c2e4522",
   "metadata": {},
   "outputs": [],
   "source": [
    "# Me Added"
   ]
  },
  {
   "cell_type": "code",
   "execution_count": 11,
   "id": "091c6b33-6faf-4036-9a81-14c8e1c88cbc",
   "metadata": {},
   "outputs": [
    {
     "data": {
      "text/plain": [
       "MultiIndex([(0,  'green'),\n",
       "            (0, 'purple'),\n",
       "            (1,  'green'),\n",
       "            (1, 'purple'),\n",
       "            (2,  'green'),\n",
       "            (2, 'purple')],\n",
       "           names=['number', 'color'])"
      ]
     },
     "execution_count": 11,
     "metadata": {},
     "output_type": "execute_result"
    }
   ],
   "source": [
    "data = [(0, 1, 2), ('green', 'purple')]\n",
    "\n",
    "mul_idx =  pd.MultiIndex.from_product( data ,names=['number', 'color'])\n",
    "\n",
    "mul_idx"
   ]
  },
  {
   "cell_type": "code",
   "execution_count": 10,
   "id": "1c164f08-f9c9-45ba-9b0a-3041886e35e9",
   "metadata": {},
   "outputs": [
    {
     "data": {
      "text/plain": [
       "Index([0, 0, 1, 1, 2, 2], dtype='int64', name='number')"
      ]
     },
     "execution_count": 10,
     "metadata": {},
     "output_type": "execute_result"
    }
   ],
   "source": [
    "mul_idx.get_level_values(0)"
   ]
  },
  {
   "cell_type": "code",
   "execution_count": 12,
   "id": "13d730b4-f5ea-4314-9393-2e437e9bb94f",
   "metadata": {},
   "outputs": [
    {
     "data": {
      "text/plain": [
       "Index(['green', 'purple', 'green', 'purple', 'green', 'purple'], dtype='object', name='color')"
      ]
     },
     "execution_count": 12,
     "metadata": {},
     "output_type": "execute_result"
    }
   ],
   "source": [
    "mul_idx.get_level_values(1)"
   ]
  }
 ],
 "metadata": {
  "kernelspec": {
   "display_name": "Python 3 (ipykernel)",
   "language": "python",
   "name": "python3"
  },
  "language_info": {
   "codemirror_mode": {
    "name": "ipython",
    "version": 3
   },
   "file_extension": ".py",
   "mimetype": "text/x-python",
   "name": "python",
   "nbconvert_exporter": "python",
   "pygments_lexer": "ipython3",
   "version": "3.10.0"
  }
 },
 "nbformat": 4,
 "nbformat_minor": 5
}
