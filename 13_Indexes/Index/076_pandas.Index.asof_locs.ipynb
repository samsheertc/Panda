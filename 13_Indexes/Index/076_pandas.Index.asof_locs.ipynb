{
 "cells": [
  {
   "cell_type": "code",
   "execution_count": 2,
   "id": "43266452-389e-4408-9d10-706caf57068a",
   "metadata": {},
   "outputs": [],
   "source": [
    "import pandas as pd\n",
    "import numpy as np"
   ]
  },
  {
   "cell_type": "code",
   "execution_count": 128,
   "id": "e772aa1b-7280-4680-a8a3-2cc383a6d67f",
   "metadata": {},
   "outputs": [],
   "source": [
    "pandas.Index.asof_locs\n",
    "Index.asof_locs(where, mask)\n",
    "\n",
    "As in the pandas.Index.asof(), if the label (a particular entry in where) is not in the index, the latest index label up to the passed label is chosen and its index returned.\n",
    "\n",
    "If all of the labels in the index are later than a label in where, -1 is returned.\n",
    "\n",
    "mask is used to ignore NA values in the index during calculation.\n",
    "\n",
    "where : Index\n",
    "An Index consisting of an array of timestamps.\n",
    "\n",
    "mask : np.ndarray[bool]\n",
    "Array of booleans denoting where values in the original data are not NA"
   ]
  },
  {
   "cell_type": "code",
   "execution_count": 130,
   "id": "2c6fc83a-ed76-4e0b-8ef9-dfc66c0f4a2b",
   "metadata": {},
   "outputs": [],
   "source": [
    "idx = pd.date_range('2023-06-01', periods=3, freq='D')\n",
    "where = pd.DatetimeIndex(['2023-05-30 00:12:00', '2023-06-01 00:00:00','2023-06-02 23:59:59'])\n",
    "mask = np.ones(3, dtype=bool)"
   ]
  },
  {
   "cell_type": "code",
   "execution_count": 131,
   "id": "b15fea90-5089-4c10-bc5b-9cd257880837",
   "metadata": {},
   "outputs": [
    {
     "data": {
      "text/plain": [
       "DatetimeIndex(['2023-06-01', '2023-06-02', '2023-06-03'], dtype='datetime64[ns]', freq='D')"
      ]
     },
     "execution_count": 131,
     "metadata": {},
     "output_type": "execute_result"
    }
   ],
   "source": [
    "idx"
   ]
  },
  {
   "cell_type": "code",
   "execution_count": 132,
   "id": "785a4967-814e-4773-a08f-26da1b32d266",
   "metadata": {},
   "outputs": [
    {
     "data": {
      "text/plain": [
       "DatetimeIndex(['2023-05-30 00:12:00', '2023-06-01 00:00:00',\n",
       "               '2023-06-02 23:59:59'],\n",
       "              dtype='datetime64[ns]', freq=None)"
      ]
     },
     "execution_count": 132,
     "metadata": {},
     "output_type": "execute_result"
    }
   ],
   "source": [
    "where"
   ]
  },
  {
   "cell_type": "code",
   "execution_count": 133,
   "id": "2c279974-5228-4178-8923-4e887cd7bb28",
   "metadata": {},
   "outputs": [
    {
     "data": {
      "text/plain": [
       "array([ True,  True,  True])"
      ]
     },
     "execution_count": 133,
     "metadata": {},
     "output_type": "execute_result"
    }
   ],
   "source": [
    "mask"
   ]
  },
  {
   "cell_type": "code",
   "execution_count": 134,
   "id": "67cfdbb5-1d6d-45cf-8d70-f65c38eac9b9",
   "metadata": {},
   "outputs": [
    {
     "data": {
      "text/plain": [
       "array([-1,  0,  1])"
      ]
     },
     "execution_count": 134,
     "metadata": {},
     "output_type": "execute_result"
    }
   ],
   "source": [
    "idx.asof_locs(where, mask)"
   ]
  },
  {
   "cell_type": "code",
   "execution_count": 135,
   "id": "69f1b2ef-b5d3-4fc4-ab6f-ac4801093668",
   "metadata": {},
   "outputs": [
    {
     "data": {
      "text/plain": [
       "array([-1,  0,  0])"
      ]
     },
     "execution_count": 135,
     "metadata": {},
     "output_type": "execute_result"
    }
   ],
   "source": [
    "mask[1] = False\n",
    "idx.asof_locs(where, mask)"
   ]
  }
 ],
 "metadata": {
  "kernelspec": {
   "display_name": "Python 3 (ipykernel)",
   "language": "python",
   "name": "python3"
  },
  "language_info": {
   "codemirror_mode": {
    "name": "ipython",
    "version": 3
   },
   "file_extension": ".py",
   "mimetype": "text/x-python",
   "name": "python",
   "nbconvert_exporter": "python",
   "pygments_lexer": "ipython3",
   "version": "3.10.0"
  }
 },
 "nbformat": 4,
 "nbformat_minor": 5
}
