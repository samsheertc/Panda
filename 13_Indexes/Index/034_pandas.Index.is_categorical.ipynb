{
 "cells": [
  {
   "cell_type": "code",
   "execution_count": 1,
   "id": "43266452-389e-4408-9d10-706caf57068a",
   "metadata": {},
   "outputs": [],
   "source": [
    "import pandas as pd\n",
    "import numpy as np"
   ]
  },
  {
   "cell_type": "code",
   "execution_count": null,
   "id": "e772aa1b-7280-4680-a8a3-2cc383a6d67f",
   "metadata": {},
   "outputs": [],
   "source": [
    "pandas.Index.is_categorical\n",
    "\n",
    "Index.is_categorical()\n",
    "\n",
    "Check if the Index holds categorical data."
   ]
  },
  {
   "cell_type": "code",
   "execution_count": 6,
   "id": "b15fea90-5089-4c10-bc5b-9cd257880837",
   "metadata": {},
   "outputs": [
    {
     "name": "stderr",
     "output_type": "stream",
     "text": [
      "/var/folders/8v/4wh_flfs6y58qhxm9z3h76xw0000gn/T/ipykernel_33128/2251286892.py:2: FutureWarning: CategoricalIndex.is_categorical is deprecated.Use pandas.api.types.is_categorical_dtype instead\n",
      "  idx.is_categorical()\n"
     ]
    },
    {
     "data": {
      "text/plain": [
       "True"
      ]
     },
     "execution_count": 6,
     "metadata": {},
     "output_type": "execute_result"
    }
   ],
   "source": [
    "idx = pd.Index([\"Watermelon\", \"Orange\", \"Apple\",\"Watermelon\"]).astype(\"category\")\n",
    "\n",
    "idx.is_categorical()"
   ]
  },
  {
   "cell_type": "code",
   "execution_count": 8,
   "id": "ddb4b194-2d52-45b3-a6d9-ab08a7b89178",
   "metadata": {},
   "outputs": [
    {
     "name": "stderr",
     "output_type": "stream",
     "text": [
      "/var/folders/8v/4wh_flfs6y58qhxm9z3h76xw0000gn/T/ipykernel_33128/1348285706.py:2: FutureWarning: Index.is_categorical is deprecated.Use pandas.api.types.is_categorical_dtype instead\n",
      "  idx.is_categorical()\n"
     ]
    },
    {
     "data": {
      "text/plain": [
       "False"
      ]
     },
     "execution_count": 8,
     "metadata": {},
     "output_type": "execute_result"
    }
   ],
   "source": [
    "idx = pd.Index([1, 3, 5, 7])\n",
    "\n",
    "idx.is_categorical()"
   ]
  },
  {
   "cell_type": "code",
   "execution_count": 14,
   "id": "785a4967-814e-4773-a08f-26da1b32d266",
   "metadata": {},
   "outputs": [
    {
     "name": "stderr",
     "output_type": "stream",
     "text": [
      "/var/folders/8v/4wh_flfs6y58qhxm9z3h76xw0000gn/T/ipykernel_33128/593967489.py:3: FutureWarning: RangeIndex.is_categorical is deprecated.Use pandas.api.types.is_categorical_dtype instead\n",
      "  s.index.is_categorical()\n"
     ]
    },
    {
     "data": {
      "text/plain": [
       "False"
      ]
     },
     "execution_count": 14,
     "metadata": {},
     "output_type": "execute_result"
    }
   ],
   "source": [
    "s = pd.Series([\"Peter\", \"Victor\", \"Elisabeth\", \"Mar\"])\n",
    "s\n",
    "s.index.is_categorical()"
   ]
  }
 ],
 "metadata": {
  "kernelspec": {
   "display_name": "Python 3 (ipykernel)",
   "language": "python",
   "name": "python3"
  },
  "language_info": {
   "codemirror_mode": {
    "name": "ipython",
    "version": 3
   },
   "file_extension": ".py",
   "mimetype": "text/x-python",
   "name": "python",
   "nbconvert_exporter": "python",
   "pygments_lexer": "ipython3",
   "version": "3.12.4"
  }
 },
 "nbformat": 4,
 "nbformat_minor": 5
}
