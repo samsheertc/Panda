{
 "cells": [
  {
   "cell_type": "code",
   "execution_count": 2,
   "id": "43266452-389e-4408-9d10-706caf57068a",
   "metadata": {},
   "outputs": [],
   "source": [
    "import pandas as pd\n",
    "import numpy as np"
   ]
  },
  {
   "cell_type": "code",
   "execution_count": null,
   "id": "e772aa1b-7280-4680-a8a3-2cc383a6d67f",
   "metadata": {},
   "outputs": [],
   "source": [
    "pandas.Index.get_slice_bound\n",
    "\n",
    "Index.get_slice_bound(label, side)\n",
    "\n",
    "Calculate slice bound that corresponds to given label.\n",
    "\n",
    "Returns leftmost (one-past-the-rightmost if side=='right') position of given label.\n",
    "\n",
    "Parameters:\n",
    "label : object\n",
    "side  : {'left', 'right'}"
   ]
  },
  {
   "cell_type": "code",
   "execution_count": 15,
   "id": "b15fea90-5089-4c10-bc5b-9cd257880837",
   "metadata": {},
   "outputs": [
    {
     "data": {
      "text/plain": [
       "RangeIndex(start=0, stop=5, step=1)"
      ]
     },
     "execution_count": 15,
     "metadata": {},
     "output_type": "execute_result"
    }
   ],
   "source": [
    "idx = pd.RangeIndex(5)\n",
    "idx"
   ]
  },
  {
   "cell_type": "code",
   "execution_count": 16,
   "id": "386a60fd-4fca-4e01-827a-6f4e619c62bd",
   "metadata": {},
   "outputs": [
    {
     "data": {
      "text/plain": [
       "3"
      ]
     },
     "execution_count": 16,
     "metadata": {},
     "output_type": "execute_result"
    }
   ],
   "source": [
    "idx.get_slice_bound(3, 'left')"
   ]
  },
  {
   "cell_type": "code",
   "execution_count": 17,
   "id": "ddb4b194-2d52-45b3-a6d9-ab08a7b89178",
   "metadata": {},
   "outputs": [
    {
     "data": {
      "text/plain": [
       "4"
      ]
     },
     "execution_count": 17,
     "metadata": {},
     "output_type": "execute_result"
    }
   ],
   "source": [
    "idx.get_slice_bound(3, 'right')"
   ]
  },
  {
   "cell_type": "code",
   "execution_count": 14,
   "id": "785a4967-814e-4773-a08f-26da1b32d266",
   "metadata": {},
   "outputs": [
    {
     "data": {
      "text/plain": [
       "3"
      ]
     },
     "execution_count": 14,
     "metadata": {},
     "output_type": "execute_result"
    }
   ],
   "source": [
    "idx_duplicate = pd.Index(['a', 'b', 'c', 'd'])\n",
    "idx_duplicate.get_slice_bound('d', 'left')"
   ]
  }
 ],
 "metadata": {
  "kernelspec": {
   "display_name": "Python 3 (ipykernel)",
   "language": "python",
   "name": "python3"
  },
  "language_info": {
   "codemirror_mode": {
    "name": "ipython",
    "version": 3
   },
   "file_extension": ".py",
   "mimetype": "text/x-python",
   "name": "python",
   "nbconvert_exporter": "python",
   "pygments_lexer": "ipython3",
   "version": "3.10.0"
  }
 },
 "nbformat": 4,
 "nbformat_minor": 5
}
