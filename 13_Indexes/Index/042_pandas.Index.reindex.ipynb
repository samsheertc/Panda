{
 "cells": [
  {
   "cell_type": "code",
   "execution_count": 2,
   "id": "43266452-389e-4408-9d10-706caf57068a",
   "metadata": {},
   "outputs": [],
   "source": [
    "import pandas as pd\n",
    "import numpy as np"
   ]
  },
  {
   "cell_type": "code",
   "execution_count": null,
   "id": "e772aa1b-7280-4680-a8a3-2cc383a6d67f",
   "metadata": {},
   "outputs": [],
   "source": [
    "pandas.Index.reindex\n",
    "Index.reindex(target, method=None, level=None, limit=None, tolerance=None)\n",
    "Create index with target’s values.\n",
    "\n",
    "target : an iterable\n",
    "\n",
    "method : {None, 'pad'/'ffill','backfill'/'bfill','nearest'}, optional\n",
    "\n",
    "default        : exact matches only.\n",
    "pad/ffill      : find the PREVIOUS index value if no exact match.\n",
    "backfill/bfill : use NEXT index value if no exact match\n",
    "nearest        : use the NEAREST index value if no exact match. Tied distances are broken by preferring the larger index value.\n",
    "\n",
    "level  : int, optional\n",
    "       Level of multiindex.\n",
    "\n",
    "limit : int, optional\n",
    "Maximum number of consecutive labels in target to match for inexact matches.\n",
    "\n",
    "tolerance: int or float, optional\n",
    "          Maximum distance between original and new labels for inexact matches.\n",
    "         The values of the index at the matching locations must satisfy the equation abs(index[indexer] - target) <= tolerance.\n",
    "\n"
   ]
  },
  {
   "cell_type": "code",
   "execution_count": null,
   "id": "b15fea90-5089-4c10-bc5b-9cd257880837",
   "metadata": {},
   "outputs": [],
   "source": [
    "idx = pd.Index(['car', 'bike', 'train', 'tractor'])\n",
    "idx"
   ]
  },
  {
   "cell_type": "code",
   "execution_count": null,
   "id": "ddb4b194-2d52-45b3-a6d9-ab08a7b89178",
   "metadata": {},
   "outputs": [],
   "source": [
    "idx.reindex(['car', 'bike'])"
   ]
  },
  {
   "cell_type": "code",
   "execution_count": null,
   "id": "785a4967-814e-4773-a08f-26da1b32d266",
   "metadata": {},
   "outputs": [],
   "source": []
  }
 ],
 "metadata": {
  "kernelspec": {
   "display_name": "Python 3 (ipykernel)",
   "language": "python",
   "name": "python3"
  },
  "language_info": {
   "codemirror_mode": {
    "name": "ipython",
    "version": 3
   },
   "file_extension": ".py",
   "mimetype": "text/x-python",
   "name": "python",
   "nbconvert_exporter": "python",
   "pygments_lexer": "ipython3",
   "version": "3.10.0"
  }
 },
 "nbformat": 4,
 "nbformat_minor": 5
}
