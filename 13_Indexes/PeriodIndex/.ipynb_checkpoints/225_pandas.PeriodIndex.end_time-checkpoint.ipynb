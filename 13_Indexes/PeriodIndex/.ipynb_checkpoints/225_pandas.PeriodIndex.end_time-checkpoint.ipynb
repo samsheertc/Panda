{
 "cells": [
  {
   "cell_type": "code",
   "execution_count": 2,
   "id": "43266452-389e-4408-9d10-706caf57068a",
   "metadata": {},
   "outputs": [],
   "source": [
    "import pandas as pd\n",
    "import numpy as np"
   ]
  },
  {
   "cell_type": "code",
   "execution_count": null,
   "id": "e772aa1b-7280-4680-a8a3-2cc383a6d67f",
   "metadata": {},
   "outputs": [],
   "source": [
    "pandas.PeriodIndex.end_time"
   ]
  },
  {
   "cell_type": "code",
   "execution_count": 4,
   "id": "b15fea90-5089-4c10-bc5b-9cd257880837",
   "metadata": {},
   "outputs": [
    {
     "data": {
      "text/plain": [
       "Timestamp('2020-01-01 23:59:59.999999999')"
      ]
     },
     "execution_count": 4,
     "metadata": {},
     "output_type": "execute_result"
    }
   ],
   "source": [
    "pd.Period('2020-01', 'D').end_time"
   ]
  },
  {
   "cell_type": "code",
   "execution_count": 24,
   "id": "a1903dc6-8b7d-468c-83af-247f10bbd595",
   "metadata": {},
   "outputs": [
    {
     "data": {
      "text/plain": [
       "0    2020-01\n",
       "1    2020-02\n",
       "2    2020-03\n",
       "dtype: period[M]"
      ]
     },
     "execution_count": 24,
     "metadata": {},
     "output_type": "execute_result"
    }
   ],
   "source": [
    "#For Series:\n",
    "\n",
    "period_index = pd.period_range('2020-1-1 00:00', '2020-3-1 00:00', freq='M')\n",
    "s = pd.Series(period_index)\n",
    "s"
   ]
  },
  {
   "cell_type": "code",
   "execution_count": 25,
   "id": "74ed065a-4b91-4a82-94d6-ae50c63c53cd",
   "metadata": {},
   "outputs": [
    {
     "data": {
      "text/plain": [
       "0   2020-01-31 23:59:59.999999999\n",
       "1   2020-02-29 23:59:59.999999999\n",
       "2   2020-03-31 23:59:59.999999999\n",
       "dtype: datetime64[ns]"
      ]
     },
     "execution_count": 25,
     "metadata": {},
     "output_type": "execute_result"
    }
   ],
   "source": [
    "s.dt.end_time"
   ]
  },
  {
   "cell_type": "code",
   "execution_count": 35,
   "id": "0227ea99-8ef9-460a-b8ac-2742af495f52",
   "metadata": {},
   "outputs": [
    {
     "data": {
      "text/plain": [
       "DatetimeIndex(['2023-01-31 23:59:59.999999999',\n",
       "               '2023-02-28 23:59:59.999999999',\n",
       "               '2023-03-31 23:59:59.999999999'],\n",
       "              dtype='datetime64[ns]', freq=None)"
      ]
     },
     "execution_count": 35,
     "metadata": {},
     "output_type": "execute_result"
    }
   ],
   "source": [
    "#For PeriodIndex:\n",
    "\n",
    "idx = pd.PeriodIndex([\"2023-01\", \"2023-02\", \"2023-03\"], freq=\"M\")\n",
    "idx.end_time"
   ]
  }
 ],
 "metadata": {
  "kernelspec": {
   "display_name": "Python 3 (ipykernel)",
   "language": "python",
   "name": "python3"
  },
  "language_info": {
   "codemirror_mode": {
    "name": "ipython",
    "version": 3
   },
   "file_extension": ".py",
   "mimetype": "text/x-python",
   "name": "python",
   "nbconvert_exporter": "python",
   "pygments_lexer": "ipython3",
   "version": "3.10.0"
  }
 },
 "nbformat": 4,
 "nbformat_minor": 5
}
