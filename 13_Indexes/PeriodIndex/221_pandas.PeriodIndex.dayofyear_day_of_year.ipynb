{
 "cells": [
  {
   "cell_type": "code",
   "execution_count": 2,
   "id": "43266452-389e-4408-9d10-706caf57068a",
   "metadata": {},
   "outputs": [],
   "source": [
    "import pandas as pd\n",
    "import numpy as np"
   ]
  },
  {
   "cell_type": "code",
   "execution_count": null,
   "id": "e772aa1b-7280-4680-a8a3-2cc383a6d67f",
   "metadata": {},
   "outputs": [],
   "source": [
    "pandas.PeriodIndex.dayofyear\n",
    "\n",
    "pandas.PeriodIndex.day_of_year\n",
    "\n",
    "PeriodIndex.dayofyear"
   ]
  },
  {
   "cell_type": "code",
   "execution_count": 10,
   "id": "b15fea90-5089-4c10-bc5b-9cd257880837",
   "metadata": {},
   "outputs": [],
   "source": [
    "idx = pd.PeriodIndex([\"2023-01-10\", \"2023-02-01\", \"2023-03-01\"], freq=\"D\")"
   ]
  },
  {
   "cell_type": "code",
   "execution_count": 11,
   "id": "ddb4b194-2d52-45b3-a6d9-ab08a7b89178",
   "metadata": {},
   "outputs": [
    {
     "data": {
      "text/plain": [
       "Index([10, 32, 60], dtype='int64')"
      ]
     },
     "execution_count": 11,
     "metadata": {},
     "output_type": "execute_result"
    }
   ],
   "source": [
    "idx.dayofyear"
   ]
  },
  {
   "cell_type": "code",
   "execution_count": 12,
   "id": "07d48351-1f55-434e-aa34-f74e388aa2f9",
   "metadata": {},
   "outputs": [
    {
     "data": {
      "text/plain": [
       "Index([10, 32, 60], dtype='int64')"
      ]
     },
     "execution_count": 12,
     "metadata": {},
     "output_type": "execute_result"
    }
   ],
   "source": [
    "idx.day_of_year"
   ]
  },
  {
   "cell_type": "code",
   "execution_count": null,
   "id": "191d47aa-da88-4ddb-9a83-fd1ea5b0be39",
   "metadata": {},
   "outputs": [],
   "source": []
  },
  {
   "cell_type": "code",
   "execution_count": null,
   "id": "acc9ddd7-6ea9-4fbe-8c29-31eeb2cf76c0",
   "metadata": {},
   "outputs": [],
   "source": []
  },
  {
   "cell_type": "code",
   "execution_count": 13,
   "id": "785a4967-814e-4773-a08f-26da1b32d266",
   "metadata": {},
   "outputs": [
    {
     "data": {
      "text/plain": [
       "PeriodIndex(['2023', '2024', '2025'], dtype='period[Y-DEC]')"
      ]
     },
     "execution_count": 13,
     "metadata": {},
     "output_type": "execute_result"
    }
   ],
   "source": [
    "idx = pd.PeriodIndex([\"2023\", \"2024\", \"2025\"], freq=\"Y\")\n",
    "idx"
   ]
  },
  {
   "cell_type": "code",
   "execution_count": 14,
   "id": "cbee5a82-5f81-4099-89ee-71673b8f225d",
   "metadata": {},
   "outputs": [
    {
     "data": {
      "text/plain": [
       "Index([365, 366, 365], dtype='int64')"
      ]
     },
     "execution_count": 14,
     "metadata": {},
     "output_type": "execute_result"
    }
   ],
   "source": [
    "idx.dayofyear"
   ]
  },
  {
   "cell_type": "code",
   "execution_count": 15,
   "id": "5689d58d-0356-4f5d-9f07-9d11424bf254",
   "metadata": {},
   "outputs": [
    {
     "data": {
      "text/plain": [
       "Index([365, 366, 365], dtype='int64')"
      ]
     },
     "execution_count": 15,
     "metadata": {},
     "output_type": "execute_result"
    }
   ],
   "source": [
    "idx.day_of_year"
   ]
  }
 ],
 "metadata": {
  "kernelspec": {
   "display_name": "Python 3 (ipykernel)",
   "language": "python",
   "name": "python3"
  },
  "language_info": {
   "codemirror_mode": {
    "name": "ipython",
    "version": 3
   },
   "file_extension": ".py",
   "mimetype": "text/x-python",
   "name": "python",
   "nbconvert_exporter": "python",
   "pygments_lexer": "ipython3",
   "version": "3.10.0"
  }
 },
 "nbformat": 4,
 "nbformat_minor": 5
}
