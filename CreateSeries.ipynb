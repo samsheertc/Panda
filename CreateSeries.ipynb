{
 "cells": [
  {
   "cell_type": "code",
   "execution_count": 1,
   "id": "88b2001c-8db9-466e-bc95-239cefc73db0",
   "metadata": {},
   "outputs": [],
   "source": [
    "import pandas as pd\n"
   ]
  },
  {
   "cell_type": "code",
   "execution_count": 10,
   "id": "497fd72e-3bbf-493c-a263-691698522e46",
   "metadata": {},
   "outputs": [
    {
     "data": {
      "text/plain": [
       "a    1\n",
       "b    2\n",
       "c    3\n",
       "dtype: int64"
      ]
     },
     "execution_count": 10,
     "metadata": {},
     "output_type": "execute_result"
    }
   ],
   "source": [
    "#Dictionary Data\n",
    "\n",
    "d = {'a': 1, 'b': 2, 'c': 3}\n",
    "ser = pd.Series(data=d, index=['a', 'b', 'c'])\n",
    "ser"
   ]
  },
  {
   "cell_type": "code",
   "execution_count": 20,
   "id": "3b220dcc-5eee-4281-a1ac-6620f312039b",
   "metadata": {},
   "outputs": [
    {
     "data": {
      "text/plain": [
       "a    1\n",
       "b    2\n",
       "c    3\n",
       "dtype: int64"
      ]
     },
     "execution_count": 20,
     "metadata": {},
     "output_type": "execute_result"
    }
   ],
   "source": [
    "#List Data\n",
    "\n",
    "ser = pd.Series([1, 2, 3],index=['a', 'b', 'c'])\n",
    "ser\n"
   ]
  },
  {
   "cell_type": "code",
   "execution_count": 21,
   "id": "845b32b2-43ca-4613-8c9f-65dbbcbb0f4c",
   "metadata": {},
   "outputs": [
    {
     "data": {
      "text/plain": [
       "a    1\n",
       "b    2\n",
       "c    3\n",
       "dtype: int64"
      ]
     },
     "execution_count": 21,
     "metadata": {},
     "output_type": "execute_result"
    }
   ],
   "source": [
    "#Tuple Data\n",
    "\n",
    "ser = pd.Series((1, 2, 3),index=['a', 'b', 'c'])\n",
    "ser"
   ]
  },
  {
   "cell_type": "code",
   "execution_count": 39,
   "id": "1172440a-8e95-46b7-b2c9-e5300883587d",
   "metadata": {},
   "outputs": [
    {
     "data": {
      "text/plain": [
       "2024-01-31   2024-01-31\n",
       "2024-02-29   2024-02-29\n",
       "2024-03-31   2024-03-31\n",
       "2024-04-30   2024-04-30\n",
       "2024-05-31   2024-05-31\n",
       "2024-06-30   2024-06-30\n",
       "2024-07-31   2024-07-31\n",
       "2024-08-31   2024-08-31\n",
       "2024-09-30   2024-09-30\n",
       "2024-10-31   2024-10-31\n",
       "2024-11-30   2024-11-30\n",
       "2024-12-31   2024-12-31\n",
       "Freq: ME, dtype: datetime64[ns]"
      ]
     },
     "execution_count": 39,
     "metadata": {},
     "output_type": "execute_result"
    }
   ],
   "source": [
    "#Create an Date Range Index\n",
    "dr = pd.date_range(start='2024-01-01',freq='ME',periods=12)\n",
    "\n",
    "#Convert Date Range Index to Series\n",
    "ser = pd.Series(dr, index=dr)\n",
    "ser"
   ]
  },
  {
   "cell_type": "code",
   "execution_count": 9,
   "id": "897706a2-8a78-4c52-9cbb-d6d245c878cb",
   "metadata": {},
   "outputs": [
    {
     "data": {
      "text/plain": [
       "2024-01-31   2024-01-31\n",
       "2024-02-29   2024-02-29\n",
       "2024-03-31   2024-03-31\n",
       "2024-04-30   2024-04-30\n",
       "2024-05-31   2024-05-31\n",
       "2024-06-30   2024-06-30\n",
       "2024-07-31   2024-07-31\n",
       "2024-08-31   2024-08-31\n",
       "2024-09-30   2024-09-30\n",
       "2024-10-31   2024-10-31\n",
       "2024-11-30   2024-11-30\n",
       "2024-12-31   2024-12-31\n",
       "Freq: ME, dtype: datetime64[ns]"
      ]
     },
     "execution_count": 9,
     "metadata": {},
     "output_type": "execute_result"
    }
   ],
   "source": [
    "#Create an Date Range Index\n",
    "dr = pd.date_range(start='2024-01-01',freq='ME',periods=12)\n",
    "\n",
    "#Convert Date Range Index to Series\n",
    "dr.to_series()"
   ]
  },
  {
   "cell_type": "code",
   "execution_count": 37,
   "id": "45abb96d-b88f-4911-8297-0f4b58fef81b",
   "metadata": {},
   "outputs": [
    {
     "data": {
      "text/plain": [
       "0   2017-12-30\n",
       "1   2017-12-31\n",
       "2   2018-01-01\n",
       "3   2018-01-02\n",
       "4   2018-01-03\n",
       "5   2018-01-04\n",
       "6   2018-01-05\n",
       "7   2018-01-06\n",
       "8   2018-01-07\n",
       "9   2018-01-08\n",
       "dtype: datetime64[ns]"
      ]
     },
     "execution_count": 37,
     "metadata": {},
     "output_type": "execute_result"
    }
   ],
   "source": [
    "dates = pd.Series(pd.date_range(\"2017-12-30\", periods=10))\n",
    "dates.apply(lambda x :x.strftime('%B %d, %Y, %r') )\n",
    "dates"
   ]
  },
  {
   "cell_type": "code",
   "execution_count": null,
   "id": "285d4c03-0db5-4916-9759-54bde22ee834",
   "metadata": {},
   "outputs": [],
   "source": []
  }
 ],
 "metadata": {
  "kernelspec": {
   "display_name": "Python 3 (ipykernel)",
   "language": "python",
   "name": "python3"
  },
  "language_info": {
   "codemirror_mode": {
    "name": "ipython",
    "version": 3
   },
   "file_extension": ".py",
   "mimetype": "text/x-python",
   "name": "python",
   "nbconvert_exporter": "python",
   "pygments_lexer": "ipython3",
   "version": "3.10.0"
  }
 },
 "nbformat": 4,
 "nbformat_minor": 5
}
